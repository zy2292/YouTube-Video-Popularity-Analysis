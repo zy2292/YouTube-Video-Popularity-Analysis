{
 "cells": [
  {
   "cell_type": "code",
   "execution_count": 17,
   "metadata": {
    "colab": {},
    "colab_type": "code",
    "collapsed": true,
    "id": "MphvvQhqHHoo"
   },
   "outputs": [],
   "source": [
    "import pandas as pd \n",
    "import numpy as np\n",
    "import matplotlib.pyplot as plt\n",
    "import seaborn as sns\n",
    "from statsmodels.genmod.families.family import Poisson\n",
    "from sklearn.linear_model import LinearRegression,RidgeCV\n",
    "from sklearn.model_selection import train_test_split\n",
    "from sklearn.metrics import mean_absolute_error\n",
    "import sklearn\n",
    "import xlearn as xl\n",
    "\n"
   ]
  },
  {
   "cell_type": "code",
   "execution_count": 6,
   "metadata": {
    "colab": {},
    "colab_type": "code",
    "collapsed": true,
    "id": "1Wuwv2XLHMU9"
   },
   "outputs": [],
   "source": [
    "df=pd.read_csv('first_trend_df_1117.csv')"
   ]
  },
  {
   "cell_type": "code",
   "execution_count": 7,
   "metadata": {
    "colab": {},
    "colab_type": "code",
    "collapsed": true,
    "id": "hEGyI-x0Wgcx"
   },
   "outputs": [],
   "source": [
    "con=['views','likes', 'dislikes', 'comment_count','date_delta','d0', 'd1',\n",
    "       'd2', 'd3', 'd4', 'd5', 'd6', 'd7', 'd8', 'd9', 'd10', 'd11', 'd12',\n",
    "       'd13', 'd14', 'd15', 'd16', 'd17', 'd18', 'd19', 'd20', 'd21', 'd22',\n",
    "       'd23', 'd24','tagsLength','pLikes',\n",
    "       'pDislikes', 'pComment_count']\n",
    "\n",
    "cat=['comments_disabled', 'ratings_disabled',  'ratings_disabled','Autos & Vehicles', 'Comedy', 'Education',\n",
    "       'Entertainment', 'Film & Animation', 'Gaming', 'Howto & Style', 'Music',\n",
    "       'News & Politics', 'Nonprofits & Activism', 'People & Blogs',\n",
    "       'Pets & Animals', 'Science & Technology', 'Shows', 'Sports',\n",
    "       'Travel & Events', 'top100Channel', 'top500Channel',]"
   ]
  },
  {
   "cell_type": "code",
   "execution_count": 59,
   "metadata": {
    "colab": {
     "base_uri": "https://localhost:8080/",
     "height": 35
    },
    "colab_type": "code",
    "id": "l4ZKMd7LHTMW",
    "outputId": "0fe85484-e851-4bcb-f409-10f8c9d10bea"
   },
   "outputs": [
    {
     "data": {
      "text/plain": [
       "0.88928"
      ]
     },
     "execution_count": 59,
     "metadata": {},
     "output_type": "execute_result"
    }
   ],
   "source": [
    "x = df.drop(['Unnamed: 0', 'video_id', 'trending_date', 'channel_title','category_id',\n",
    "               'thumbnail_link', 'publish_date','app_time','tags2','category','top10Channel'], \n",
    "               axis = 1)\n",
    "x['pLikes']=x['likes']/x['views']\n",
    "x['pDislikes']=x['dislikes']/x['views']\n",
    "x['pComment_count']=x['comment_count']/x['views']\n",
    "#y_con = df['app_time']-1\n",
    "y_con = df['app_time']\n",
    "y_con=np.log(y_con)\n",
    "y_cat=df['app_time']>=2\n",
    "y_cat[y_cat==True]=1\n",
    "y_cat[y_cat==False]=0\n",
    "\n",
    "x[cat]=x[cat].astype('int32')\n",
    "ss=sklearn.preprocessing.StandardScaler()\n",
    "x[con]=ss.fit_transform(x[con])\n",
    "\n",
    "np.mean(y_cat)"
   ]
  },
  {
   "cell_type": "code",
   "execution_count": 39,
   "metadata": {
    "collapsed": true
   },
   "outputs": [],
   "source": [
    "from scipy.stats import boxcox"
   ]
  },
  {
   "cell_type": "code",
   "execution_count": 55,
   "metadata": {},
   "outputs": [],
   "source": [
    "y_con=boxcox(y_con)[0]"
   ]
  },
  {
   "cell_type": "code",
   "execution_count": 46,
   "metadata": {},
   "outputs": [
    {
     "name": "stderr",
     "output_type": "stream",
     "text": [
      "/home/dylanhuang1224/anaconda3/lib/python3.6/site-packages/scipy/stats/stats.py:1713: FutureWarning: Using a non-tuple sequence for multidimensional indexing is deprecated; use `arr[tuple(seq)]` instead of `arr[seq]`. In the future this will be interpreted as an array index, `arr[np.array(seq)]`, which will result either in an error or a different result.\n",
      "  return np.add.reduce(sorted[indexer] * weights, axis=axis) / sumval\n",
      "/home/dylanhuang1224/anaconda3/lib/python3.6/site-packages/matplotlib/axes/_axes.py:6499: MatplotlibDeprecationWarning: \n",
      "The 'normed' kwarg was deprecated in Matplotlib 2.1 and will be removed in 3.1. Use 'density' instead.\n",
      "  alternative=\"'density'\", removal=\"3.1\")\n",
      "/home/dylanhuang1224/anaconda3/lib/python3.6/site-packages/matplotlib/axes/_axes.py:6499: MatplotlibDeprecationWarning: \n",
      "The 'normed' kwarg was deprecated in Matplotlib 2.1 and will be removed in 3.1. Use 'density' instead.\n",
      "  alternative=\"'density'\", removal=\"3.1\")\n"
     ]
    },
    {
     "data": {
      "image/png": "[encoded data removed]",
      "text/plain": [
       "<Figure size 432x288 with 1 Axes>"
      ]
     },
     "metadata": {},
     "output_type": "display_data"
    }
   ],
   "source": [
    "sns.distplot(boxcox(y_con)[0])\n",
    "sns.distplot(y_con)\n",
    "plt.show()"
   ]
  },
  {
   "cell_type": "code",
   "execution_count": 61,
   "metadata": {
    "colab": {},
    "colab_type": "code",
    "id": "21AtCmcXLqc0"
   },
   "outputs": [],
   "source": [
    "np.random.seed(2018)\n",
    "x_train, x_test, y_train, y_test = train_test_split(x, y_con, test_size=0.2, random_state=42)"
   ]
  },
  {
   "cell_type": "code",
   "execution_count": 5,
   "metadata": {
    "colab": {
     "base_uri": "https://localhost:8080/",
     "height": 194
    },
    "colab_type": "code",
    "id": "sPsAqyCES2CD",
    "outputId": "86387b8f-08c3-420e-fa26-4043eb00f31c"
   },
   "outputs": [
    {
     "data": {
      "text/html": [
       "<div>\n",
       "<style scoped>\n",
       "    .dataframe tbody tr th:only-of-type {\n",
       "        vertical-align: middle;\n",
       "    }\n",
       "\n",
       "    .dataframe tbody tr th {\n",
       "        vertical-align: top;\n",
       "    }\n",
       "\n",
       "    .dataframe thead th {\n",
       "        text-align: right;\n",
       "    }\n",
       "</style>\n",
       "<table border=\"1\" class=\"dataframe\">\n",
       "  <thead>\n",
       "    <tr style=\"text-align: right;\">\n",
       "      <th></th>\n",
       "      <th>views</th>\n",
       "      <th>likes</th>\n",
       "      <th>dislikes</th>\n",
       "      <th>comment_count</th>\n",
       "      <th>comments_disabled</th>\n",
       "      <th>ratings_disabled</th>\n",
       "      <th>video_error_or_removed</th>\n",
       "      <th>date_delta</th>\n",
       "      <th>d0</th>\n",
       "      <th>d1</th>\n",
       "      <th>...</th>\n",
       "      <th>Pets &amp; Animals</th>\n",
       "      <th>Science &amp; Technology</th>\n",
       "      <th>Shows</th>\n",
       "      <th>Sports</th>\n",
       "      <th>Travel &amp; Events</th>\n",
       "      <th>top100Channel</th>\n",
       "      <th>top500Channel</th>\n",
       "      <th>pLikes</th>\n",
       "      <th>pDislikes</th>\n",
       "      <th>pComment_count</th>\n",
       "    </tr>\n",
       "  </thead>\n",
       "  <tbody>\n",
       "    <tr>\n",
       "      <th>0</th>\n",
       "      <td>-0.151260</td>\n",
       "      <td>-0.243540</td>\n",
       "      <td>-0.104973</td>\n",
       "      <td>-0.198973</td>\n",
       "      <td>False</td>\n",
       "      <td>False</td>\n",
       "      <td>False</td>\n",
       "      <td>-0.083899</td>\n",
       "      <td>-1.423836</td>\n",
       "      <td>0.625003</td>\n",
       "      <td>...</td>\n",
       "      <td>0</td>\n",
       "      <td>0</td>\n",
       "      <td>0</td>\n",
       "      <td>0</td>\n",
       "      <td>0</td>\n",
       "      <td>False</td>\n",
       "      <td>False</td>\n",
       "      <td>-0.776858</td>\n",
       "      <td>-0.306920</td>\n",
       "      <td>-0.739481</td>\n",
       "    </tr>\n",
       "    <tr>\n",
       "      <th>1</th>\n",
       "      <td>-0.106064</td>\n",
       "      <td>-0.261492</td>\n",
       "      <td>-0.114666</td>\n",
       "      <td>-0.207158</td>\n",
       "      <td>False</td>\n",
       "      <td>False</td>\n",
       "      <td>False</td>\n",
       "      <td>0.402982</td>\n",
       "      <td>-0.850054</td>\n",
       "      <td>-0.367301</td>\n",
       "      <td>...</td>\n",
       "      <td>0</td>\n",
       "      <td>0</td>\n",
       "      <td>0</td>\n",
       "      <td>0</td>\n",
       "      <td>0</td>\n",
       "      <td>False</td>\n",
       "      <td>False</td>\n",
       "      <td>-0.944923</td>\n",
       "      <td>-0.366281</td>\n",
       "      <td>-0.797331</td>\n",
       "    </tr>\n",
       "  </tbody>\n",
       "</table>\n",
       "<p>2 rows × 55 columns</p>\n",
       "</div>"
      ],
      "text/plain": [
       "      views     likes  dislikes  comment_count  comments_disabled  \\\n",
       "0 -0.151260 -0.243540 -0.104973      -0.198973              False   \n",
       "1 -0.106064 -0.261492 -0.114666      -0.207158              False   \n",
       "\n",
       "   ratings_disabled  video_error_or_removed  date_delta        d0        d1  \\\n",
       "0             False                   False   -0.083899 -1.423836  0.625003   \n",
       "1             False                   False    0.402982 -0.850054 -0.367301   \n",
       "\n",
       "        ...        Pets & Animals  Science & Technology  Shows  Sports  \\\n",
       "0       ...                     0                     0      0       0   \n",
       "1       ...                     0                     0      0       0   \n",
       "\n",
       "   Travel & Events  top100Channel  top500Channel    pLikes  pDislikes  \\\n",
       "0                0          False          False -0.776858  -0.306920   \n",
       "1                0          False          False -0.944923  -0.366281   \n",
       "\n",
       "   pComment_count  \n",
       "0       -0.739481  \n",
       "1       -0.797331  \n",
       "\n",
       "[2 rows x 55 columns]"
      ]
     },
     "execution_count": 5,
     "metadata": {},
     "output_type": "execute_result"
    }
   ],
   "source": [
    "x.head(2)"
   ]
  },
  {
   "cell_type": "code",
   "execution_count": 6,
   "metadata": {
    "colab": {
     "base_uri": "https://localhost:8080/",
     "height": 208
    },
    "colab_type": "code",
    "id": "bMWrkOqxKTw0",
    "outputId": "3a48af96-5dcf-44e4-cbf0-b8bbf5053bea"
   },
   "outputs": [
    {
     "data": {
      "text/plain": [
       "Index(['views', 'likes', 'dislikes', 'comment_count', 'comments_disabled',\n",
       "       'ratings_disabled', 'video_error_or_removed', 'date_delta', 'd0', 'd1',\n",
       "       'd2', 'd3', 'd4', 'd5', 'd6', 'd7', 'd8', 'd9', 'd10', 'd11', 'd12',\n",
       "       'd13', 'd14', 'd15', 'd16', 'd17', 'd18', 'd19', 'd20', 'd21', 'd22',\n",
       "       'd23', 'd24', 'tagsLength', 'Autos & Vehicles', 'Comedy', 'Education',\n",
       "       'Entertainment', 'Film & Animation', 'Gaming', 'Howto & Style', 'Music',\n",
       "       'News & Politics', 'Nonprofits & Activism', 'People & Blogs',\n",
       "       'Pets & Animals', 'Science & Technology', 'Shows', 'Sports',\n",
       "       'Travel & Events', 'top100Channel', 'top500Channel', 'pLikes',\n",
       "       'pDislikes', 'pComment_count'],\n",
       "      dtype='object')"
      ]
     },
     "execution_count": 6,
     "metadata": {},
     "output_type": "execute_result"
    }
   ],
   "source": [
    "x.columns"
   ]
  },
  {
   "cell_type": "code",
   "execution_count": 7,
   "metadata": {
    "colab": {
     "base_uri": "https://localhost:8080/",
     "height": 379
    },
    "colab_type": "code",
    "id": "lyAggaegIzIR",
    "outputId": "b73af956-cd51-40d6-b20b-f097ba8be415"
   },
   "outputs": [
    {
     "name": "stderr",
     "output_type": "stream",
     "text": [
      "/home/dylanhuang1224/anaconda3/lib/python3.6/site-packages/scipy/stats/stats.py:1713: FutureWarning: Using a non-tuple sequence for multidimensional indexing is deprecated; use `arr[tuple(seq)]` instead of `arr[seq]`. In the future this will be interpreted as an array index, `arr[np.array(seq)]`, which will result either in an error or a different result.\n",
      "  return np.add.reduce(sorted[indexer] * weights, axis=axis) / sumval\n",
      "/home/dylanhuang1224/anaconda3/lib/python3.6/site-packages/matplotlib/axes/_axes.py:6499: MatplotlibDeprecationWarning: \n",
      "The 'normed' kwarg was deprecated in Matplotlib 2.1 and will be removed in 3.1. Use 'density' instead.\n",
      "  alternative=\"'density'\", removal=\"3.1\")\n"
     ]
    },
    {
     "data": {
      "image/png": "[encoded data removed]",
      "text/plain": [
       "<Figure size 432x288 with 1 Axes>"
      ]
     },
     "metadata": {},
     "output_type": "display_data"
    }
   ],
   "source": [
    "sns.distplot(y_con)\n",
    "plt.show()"
   ]
  },
  {
   "cell_type": "markdown",
   "metadata": {
    "colab_type": "text",
    "id": "1wzu-fPaLgee"
   },
   "source": [
    "### Linear Regression"
   ]
  },
  {
   "cell_type": "code",
   "execution_count": 62,
   "metadata": {
    "colab": {
     "base_uri": "https://localhost:8080/",
     "height": 52
    },
    "colab_type": "code",
    "id": "3cYa-9_UKHkl",
    "outputId": "d70179f5-c9c8-4558-b536-ad6ebb8d852d"
   },
   "outputs": [
    {
     "name": "stdout",
     "output_type": "stream",
     "text": [
      "0.13212203112261567\n",
      "0.11561188516813559\n"
     ]
    }
   ],
   "source": [
    "LR=LinearRegression().fit(x_train,y_train)\n",
    "print(LR.score(x_train,y_train))\n",
    "print(LR.score(x_test,y_test))\n"
   ]
  },
  {
   "cell_type": "code",
   "execution_count": 65,
   "metadata": {},
   "outputs": [
    {
     "name": "stdout",
     "output_type": "stream",
     "text": [
      "3.1376765081996325\n",
      "3.3315254687659093\n"
     ]
    }
   ],
   "source": [
    "print(sklearn.metrics.mean_absolute_error(np.exp(y_train),np.exp(LR.predict(x_train))))\n",
    "print(sklearn.metrics.mean_absolute_error(np.exp(y_test),np.exp(LR.predict(x_test))))\n"
   ]
  },
  {
   "cell_type": "code",
   "execution_count": 66,
   "metadata": {
    "colab": {
     "base_uri": "https://localhost:8080/",
     "height": 361
    },
    "colab_type": "code",
    "id": "yQX5LrjRMw1Z",
    "outputId": "577433cd-0509-44e6-d7d9-a8d71a469fc2"
   },
   "outputs": [
    {
     "name": "stderr",
     "output_type": "stream",
     "text": [
      "/home/dylanhuang1224/anaconda3/lib/python3.6/site-packages/scipy/stats/stats.py:1713: FutureWarning: Using a non-tuple sequence for multidimensional indexing is deprecated; use `arr[tuple(seq)]` instead of `arr[seq]`. In the future this will be interpreted as an array index, `arr[np.array(seq)]`, which will result either in an error or a different result.\n",
      "  return np.add.reduce(sorted[indexer] * weights, axis=axis) / sumval\n",
      "/home/dylanhuang1224/anaconda3/lib/python3.6/site-packages/matplotlib/axes/_axes.py:6499: MatplotlibDeprecationWarning: \n",
      "The 'normed' kwarg was deprecated in Matplotlib 2.1 and will be removed in 3.1. Use 'density' instead.\n",
      "  alternative=\"'density'\", removal=\"3.1\")\n",
      "/home/dylanhuang1224/anaconda3/lib/python3.6/site-packages/matplotlib/axes/_axes.py:6499: MatplotlibDeprecationWarning: \n",
      "The 'normed' kwarg was deprecated in Matplotlib 2.1 and will be removed in 3.1. Use 'density' instead.\n",
      "  alternative=\"'density'\", removal=\"3.1\")\n"
     ]
    },
    {
     "data": {
      "image/png": "[encoded data removed]",
      "text/plain": [
       "<Figure size 432x288 with 1 Axes>"
      ]
     },
     "metadata": {},
     "output_type": "display_data"
    }
   ],
   "source": [
    "sns.distplot(LR.predict(x_train))\n",
    "sns.distplot(y_train)\n",
    "plt.show()"
   ]
  },
  {
   "cell_type": "code",
   "execution_count": 15,
   "metadata": {
    "colab": {
     "base_uri": "https://localhost:8080/",
     "height": 365
    },
    "colab_type": "code",
    "id": "Svr2_5i5N6P7",
    "outputId": "ea7f4b1a-42b3-49ff-87a9-a17268be8a86"
   },
   "outputs": [
    {
     "data": {
      "image/png": "[encoded data removed]",
      "text/plain": [
       "<Figure size 432x288 with 1 Axes>"
      ]
     },
     "metadata": {},
     "output_type": "display_data"
    }
   ],
   "source": [
    "plt.scatter(range(len(x_train)),y_train-LR.predict(x_train))\n",
    "plt.show()"
   ]
  },
  {
   "cell_type": "code",
   "execution_count": 16,
   "metadata": {
    "colab": {
     "base_uri": "https://localhost:8080/",
     "height": 260
    },
    "colab_type": "code",
    "id": "hmCPHNaDOmot",
    "outputId": "64294e62-0b0d-4066-d317-f36a0a31a8aa"
   },
   "outputs": [
    {
     "data": {
      "text/plain": [
       "array([ 9.92481609e+00,  7.10236696e+00,  3.09184335e+00,  2.19403759e+00,\n",
       "        1.79753582e+00,  1.66042348e+00,  1.46155679e+00,  1.37201052e+00,\n",
       "        1.33532310e+00,  1.27518947e+00,  1.18153141e+00,  1.12895814e+00,\n",
       "        8.13234331e-01,  8.58726120e-01,  1.08690921e+00,  9.20391027e-01,\n",
       "        1.06826980e+00,  9.52509691e-01,  1.04893398e+00,  1.04412393e+00,\n",
       "        1.03145330e+00,  9.79492822e-01,  9.88838660e-01,  1.02057400e+00,\n",
       "        1.01455562e+00,  1.00907411e+00,  1.00193442e+00,  6.74857324e-01,\n",
       "        6.82121899e-01,  6.01004715e-01,  5.42701288e-01,  5.14875515e-01,\n",
       "        4.46590932e-01,  4.14432469e-01,  3.45689721e-01,  3.27308839e-01,\n",
       "        2.71551590e-01,  2.50021888e-01,  2.35984584e-01,  2.19578085e-01,\n",
       "        1.87678305e-01,  1.61764242e-01,  1.23884730e-01,  1.10558384e-01,\n",
       "        1.89761110e-02,  2.77046215e-02,  3.53183783e-02,  8.89877793e-02,\n",
       "        4.55941329e-02,  5.04945643e-02,  5.20680095e-02,  5.92370348e-02,\n",
       "        6.76307483e-02,  7.87703741e-02, -8.05378710e-15])"
      ]
     },
     "execution_count": 16,
     "metadata": {},
     "output_type": "execute_result"
    }
   ],
   "source": [
    "W,V=np.linalg.eig(x_train.corr())\n",
    "W"
   ]
  },
  {
   "cell_type": "code",
   "execution_count": 17,
   "metadata": {
    "colab": {},
    "colab_type": "code",
    "collapsed": true,
    "id": "5CziyQp2RSQ9"
   },
   "outputs": [],
   "source": [
    "from statsmodels.stats.outliers_influence import variance_inflation_factor\n",
    "\n",
    "vif = pd.DataFrame()\n",
    "vif[\"VIF Factor\"] = [variance_inflation_factor(x_train[con].values, i) for i in range(x_train[con].shape[1])]\n",
    "vif[\"features\"] = x_train[con].columns"
   ]
  },
  {
   "cell_type": "code",
   "execution_count": 27,
   "metadata": {
    "colab": {},
    "colab_type": "code",
    "collapsed": true,
    "id": "OXxxHEwYXajX"
   },
   "outputs": [],
   "source": [
    "ridge=RidgeCV(np.arange(0.00001,2,50),store_cv_values=True ).fit(x_train,y_train)\n"
   ]
  },
  {
   "cell_type": "code",
   "execution_count": 28,
   "metadata": {
    "colab": {
     "base_uri": "https://localhost:8080/",
     "height": 35
    },
    "colab_type": "code",
    "id": "ZxrYlPppaKGo",
    "outputId": "cca09fe0-d9f8-40df-ab80-2b3262fe1b21"
   },
   "outputs": [
    {
     "data": {
      "text/plain": [
       "0.11499901582109284"
      ]
     },
     "execution_count": 28,
     "metadata": {},
     "output_type": "execute_result"
    }
   ],
   "source": [
    "ridge.score(x_train,y_train)"
   ]
  },
  {
   "cell_type": "code",
   "execution_count": 63,
   "metadata": {
    "colab": {
     "base_uri": "https://localhost:8080/",
     "height": 35
    },
    "colab_type": "code",
    "id": "sX-T6FdRaxWr",
    "outputId": "001fd07f-1021-4d0d-8c38-cdb8116f7606"
   },
   "outputs": [
    {
     "name": "stdout",
     "output_type": "stream",
     "text": [
      "3.205401585565383\n",
      "3.3702177828064785\n"
     ]
    }
   ],
   "source": [
    "print(sklearn.metrics.mean_absolute_error(y_train,ridge.predict(x_train)))\n",
    "print(sklearn.metrics.mean_absolute_error(y_test,ridge.predict(x_test)))\n"
   ]
  },
  {
   "cell_type": "code",
   "execution_count": 85,
   "metadata": {
    "collapsed": true
   },
   "outputs": [
    {
     "name": "stderr",
     "output_type": "stream",
     "text": [
      "/home/dylanhuang1224/anaconda3/lib/python3.6/site-packages/scipy/stats/stats.py:1713: FutureWarning: Using a non-tuple sequence for multidimensional indexing is deprecated; use `arr[tuple(seq)]` instead of `arr[seq]`. In the future this will be interpreted as an array index, `arr[np.array(seq)]`, which will result either in an error or a different result.\n",
      "  return np.add.reduce(sorted[indexer] * weights, axis=axis) / sumval\n",
      "/home/dylanhuang1224/anaconda3/lib/python3.6/site-packages/matplotlib/axes/_axes.py:6499: MatplotlibDeprecationWarning: \n",
      "The 'normed' kwarg was deprecated in Matplotlib 2.1 and will be removed in 3.1. Use 'density' instead.\n",
      "  alternative=\"'density'\", removal=\"3.1\")\n",
      "/home/dylanhuang1224/anaconda3/lib/python3.6/site-packages/matplotlib/axes/_axes.py:6499: MatplotlibDeprecationWarning: \n",
      "The 'normed' kwarg was deprecated in Matplotlib 2.1 and will be removed in 3.1. Use 'density' instead.\n",
      "  alternative=\"'density'\", removal=\"3.1\")\n"
     ]
    },
    {
     "data": {
      "image/png": "[encoded data removed]",
      "text/plain": [
       "<Figure size 432x288 with 1 Axes>"
      ]
     },
     "metadata": {},
     "output_type": "display_data"
    }
   ],
   "source": [
    "sns.distplot(ridge.predict(x_train))\n",
    "sns.distplot(y_train)\n",
    "plt.show()"
   ]
  },
  {
   "cell_type": "markdown",
   "metadata": {
    "colab_type": "text",
    "id": "cw2UFcAwcMoy"
   },
   "source": [
    "### FM"
   ]
  },
  {
   "cell_type": "code",
   "execution_count": 121,
   "metadata": {
    "colab": {},
    "colab_type": "code",
    "id": "2g0aJsmtbB7x"
   },
   "outputs": [],
   "source": [
    "fm = xl.FMModel(task='reg', init=0.004\n",
    "                ,lr=0.12, reg_lambda=0.00901\n",
    "                ,metric='mae', opt='adagrad'\n",
    "                ,k=4, epoch=1, stop_window=4)"
   ]
  },
  {
   "cell_type": "code",
   "execution_count": 122,
   "metadata": {
    "colab": {},
    "colab_type": "code",
    "id": "baxiJlpEcsXr"
   },
   "outputs": [],
   "source": [
    "fm.fit(x_train,y_train,eval_set=[x_test,y_test],is_lock_free=False)"
   ]
  },
  {
   "cell_type": "code",
   "execution_count": 124,
   "metadata": {
    "colab": {},
    "colab_type": "code",
    "id": "SFum3HvgiKxi",
    "scrolled": true
   },
   "outputs": [
    {
     "name": "stdout",
     "output_type": "stream",
     "text": [
      "Prediction of Factorization Machine\n",
      "MAE of Train:  3.0948401581333504\n",
      "MAE of Test:  3.232854183244559\n"
     ]
    }
   ],
   "source": [
    "print('Prediction of Factorization Machine')\n",
    "\n",
    "print('MAE of Train: ',sklearn.metrics.mean_absolute_error(np.exp(y_train),np.exp(fm.predict(x_train))))\n",
    "\n",
    "print('MAE of Test: ',sklearn.metrics.mean_absolute_error(np.exp(y_test),np.exp(fm.predict(x_test))))"
   ]
  },
  {
   "cell_type": "code",
   "execution_count": 71,
   "metadata": {},
   "outputs": [
    {
     "data": {
      "text/plain": [
       "0.1356224161223114"
      ]
     },
     "execution_count": 71,
     "metadata": {},
     "output_type": "execute_result"
    }
   ],
   "source": [
    "sklearn.metrics.r2_score(y_train,fm.predict(x_train))"
   ]
  },
  {
   "cell_type": "code",
   "execution_count": 77,
   "metadata": {},
   "outputs": [
    {
     "name": "stderr",
     "output_type": "stream",
     "text": [
      "/home/dylanhuang1224/anaconda3/lib/python3.6/site-packages/scipy/stats/stats.py:1713: FutureWarning: Using a non-tuple sequence for multidimensional indexing is deprecated; use `arr[tuple(seq)]` instead of `arr[seq]`. In the future this will be interpreted as an array index, `arr[np.array(seq)]`, which will result either in an error or a different result.\n",
      "  return np.add.reduce(sorted[indexer] * weights, axis=axis) / sumval\n",
      "/home/dylanhuang1224/anaconda3/lib/python3.6/site-packages/matplotlib/axes/_axes.py:6499: MatplotlibDeprecationWarning: \n",
      "The 'normed' kwarg was deprecated in Matplotlib 2.1 and will be removed in 3.1. Use 'density' instead.\n",
      "  alternative=\"'density'\", removal=\"3.1\")\n",
      "/home/dylanhuang1224/anaconda3/lib/python3.6/site-packages/matplotlib/axes/_axes.py:6499: MatplotlibDeprecationWarning: \n",
      "The 'normed' kwarg was deprecated in Matplotlib 2.1 and will be removed in 3.1. Use 'density' instead.\n",
      "  alternative=\"'density'\", removal=\"3.1\")\n"
     ]
    },
    {
     "data": {
      "image/png": "[encoded data removed]",
      "text/plain": [
       "<Figure size 432x288 with 1 Axes>"
      ]
     },
     "metadata": {},
     "output_type": "display_data"
    }
   ],
   "source": [
    "sns.distplot(np.exp(fm.predict(x_train)))\n",
    "sns.distplot(np.exp(y_train))\n",
    "plt.show()"
   ]
  },
  {
   "cell_type": "markdown",
   "metadata": {},
   "source": [
    "### Poisson"
   ]
  },
  {
   "cell_type": "code",
   "execution_count": 113,
   "metadata": {},
   "outputs": [],
   "source": [
    "dropCon=['d20','d14','d19','pDislikes','d11','d10','d24'\n",
    "      ,'d7','d5','d4','d1','d0']\n",
    "x_train1=x_train.drop(dropCon,axis=1)"
   ]
  },
  {
   "cell_type": "code",
   "execution_count": 97,
   "metadata": {
    "collapsed": true
   },
   "outputs": [],
   "source": [
    "import statsmodels.api as sm\n",
    "import statsmodels.genmod.families.family as smf"
   ]
  },
  {
   "cell_type": "code",
   "execution_count": 114,
   "metadata": {},
   "outputs": [
    {
     "data": {
      "text/html": [
       "<table class=\"simpletable\">\n",
       "<caption>Generalized Linear Model Regression Results</caption>\n",
       "<tr>\n",
       "  <th>Dep. Variable:</th>          <td>y</td>        <th>  No. Observations:  </th>  <td>  5000</td>  \n",
       "</tr>\n",
       "<tr>\n",
       "  <th>Model:</th>                 <td>GLM</td>       <th>  Df Residuals:      </th>  <td>  4977</td>  \n",
       "</tr>\n",
       "<tr>\n",
       "  <th>Model Family:</th>        <td>Poisson</td>     <th>  Df Model:          </th>  <td>    22</td>  \n",
       "</tr>\n",
       "<tr>\n",
       "  <th>Link Function:</th>         <td>log</td>       <th>  Scale:             </th> <td>  1.0000</td> \n",
       "</tr>\n",
       "<tr>\n",
       "  <th>Method:</th>               <td>IRLS</td>       <th>  Log-Likelihood:    </th> <td> -6766.2</td> \n",
       "</tr>\n",
       "<tr>\n",
       "  <th>Date:</th>           <td>Sat, 17 Nov 2018</td> <th>  Deviance:          </th> <td>  2576.6</td> \n",
       "</tr>\n",
       "<tr>\n",
       "  <th>Time:</th>               <td>23:12:13</td>     <th>  Pearson chi2:      </th> <td>1.85e+03</td> \n",
       "</tr>\n",
       "<tr>\n",
       "  <th>No. Iterations:</th>         <td>5</td>        <th>  Covariance Type:   </th> <td>nonrobust</td>\n",
       "</tr>\n",
       "</table>\n",
       "<table class=\"simpletable\">\n",
       "<tr>\n",
       "    <td></td>       <th>coef</th>     <th>std err</th>      <th>z</th>      <th>P>|z|</th>  <th>[0.025</th>    <th>0.975]</th>  \n",
       "</tr>\n",
       "<tr>\n",
       "  <th>const</th> <td>    0.4529</td> <td>    0.011</td> <td>   39.837</td> <td> 0.000</td> <td>    0.431</td> <td>    0.475</td>\n",
       "</tr>\n",
       "<tr>\n",
       "  <th>x1</th>    <td>    0.0770</td> <td>    0.017</td> <td>    4.622</td> <td> 0.000</td> <td>    0.044</td> <td>    0.110</td>\n",
       "</tr>\n",
       "<tr>\n",
       "  <th>x2</th>    <td>   -0.0290</td> <td>    0.028</td> <td>   -1.043</td> <td> 0.297</td> <td>   -0.083</td> <td>    0.025</td>\n",
       "</tr>\n",
       "<tr>\n",
       "  <th>x3</th>    <td>   -0.0052</td> <td>    0.017</td> <td>   -0.310</td> <td> 0.756</td> <td>   -0.038</td> <td>    0.028</td>\n",
       "</tr>\n",
       "<tr>\n",
       "  <th>x4</th>    <td>   -0.0025</td> <td>    0.029</td> <td>   -0.087</td> <td> 0.931</td> <td>   -0.059</td> <td>    0.054</td>\n",
       "</tr>\n",
       "<tr>\n",
       "  <th>x5</th>    <td>   -0.1090</td> <td>    0.014</td> <td>   -7.542</td> <td> 0.000</td> <td>   -0.137</td> <td>   -0.081</td>\n",
       "</tr>\n",
       "<tr>\n",
       "  <th>x6</th>    <td>    0.0046</td> <td>    0.016</td> <td>    0.280</td> <td> 0.779</td> <td>   -0.028</td> <td>    0.037</td>\n",
       "</tr>\n",
       "<tr>\n",
       "  <th>x7</th>    <td>    0.0474</td> <td>    0.019</td> <td>    2.489</td> <td> 0.013</td> <td>    0.010</td> <td>    0.085</td>\n",
       "</tr>\n",
       "<tr>\n",
       "  <th>x8</th>    <td>    0.0116</td> <td>    0.021</td> <td>    0.548</td> <td> 0.584</td> <td>   -0.030</td> <td>    0.053</td>\n",
       "</tr>\n",
       "<tr>\n",
       "  <th>x9</th>    <td>    0.0107</td> <td>    0.015</td> <td>    0.706</td> <td> 0.480</td> <td>   -0.019</td> <td>    0.041</td>\n",
       "</tr>\n",
       "<tr>\n",
       "  <th>x10</th>   <td>    0.0163</td> <td>    0.016</td> <td>    0.995</td> <td> 0.320</td> <td>   -0.016</td> <td>    0.048</td>\n",
       "</tr>\n",
       "<tr>\n",
       "  <th>x11</th>   <td>   -0.0314</td> <td>    0.033</td> <td>   -0.952</td> <td> 0.341</td> <td>   -0.096</td> <td>    0.033</td>\n",
       "</tr>\n",
       "<tr>\n",
       "  <th>x12</th>   <td>   -0.0086</td> <td>    0.030</td> <td>   -0.287</td> <td> 0.774</td> <td>   -0.067</td> <td>    0.050</td>\n",
       "</tr>\n",
       "<tr>\n",
       "  <th>x13</th>   <td>   -0.0276</td> <td>    0.025</td> <td>   -1.112</td> <td> 0.266</td> <td>   -0.076</td> <td>    0.021</td>\n",
       "</tr>\n",
       "<tr>\n",
       "  <th>x14</th>   <td>    0.0259</td> <td>    0.029</td> <td>    0.893</td> <td> 0.372</td> <td>   -0.031</td> <td>    0.083</td>\n",
       "</tr>\n",
       "<tr>\n",
       "  <th>x15</th>   <td>    0.0074</td> <td>    0.016</td> <td>    0.478</td> <td> 0.633</td> <td>   -0.023</td> <td>    0.038</td>\n",
       "</tr>\n",
       "<tr>\n",
       "  <th>x16</th>   <td>    0.0179</td> <td>    0.042</td> <td>    0.427</td> <td> 0.669</td> <td>   -0.064</td> <td>    0.100</td>\n",
       "</tr>\n",
       "<tr>\n",
       "  <th>x17</th>   <td>   -0.0419</td> <td>    0.036</td> <td>   -1.156</td> <td> 0.248</td> <td>   -0.113</td> <td>    0.029</td>\n",
       "</tr>\n",
       "<tr>\n",
       "  <th>x18</th>   <td>    0.0146</td> <td>    0.018</td> <td>    0.817</td> <td> 0.414</td> <td>   -0.020</td> <td>    0.050</td>\n",
       "</tr>\n",
       "<tr>\n",
       "  <th>x19</th>   <td>    0.0253</td> <td>    0.028</td> <td>    0.905</td> <td> 0.365</td> <td>   -0.029</td> <td>    0.080</td>\n",
       "</tr>\n",
       "<tr>\n",
       "  <th>x20</th>   <td>   -0.0028</td> <td>    0.011</td> <td>   -0.250</td> <td> 0.802</td> <td>   -0.025</td> <td>    0.019</td>\n",
       "</tr>\n",
       "<tr>\n",
       "  <th>x21</th>   <td>    0.0915</td> <td>    0.014</td> <td>    6.477</td> <td> 0.000</td> <td>    0.064</td> <td>    0.119</td>\n",
       "</tr>\n",
       "<tr>\n",
       "  <th>x22</th>   <td>   -0.0086</td> <td>    0.014</td> <td>   -0.605</td> <td> 0.545</td> <td>   -0.037</td> <td>    0.019</td>\n",
       "</tr>\n",
       "</table>"
      ],
      "text/plain": [
       "<class 'statsmodels.iolib.summary.Summary'>\n",
       "\"\"\"\n",
       "                 Generalized Linear Model Regression Results                  \n",
       "==============================================================================\n",
       "Dep. Variable:                      y   No. Observations:                 5000\n",
       "Model:                            GLM   Df Residuals:                     4977\n",
       "Model Family:                 Poisson   Df Model:                           22\n",
       "Link Function:                    log   Scale:                          1.0000\n",
       "Method:                          IRLS   Log-Likelihood:                -6766.2\n",
       "Date:                Sat, 17 Nov 2018   Deviance:                       2576.6\n",
       "Time:                        23:12:13   Pearson chi2:                 1.85e+03\n",
       "No. Iterations:                     5   Covariance Type:             nonrobust\n",
       "==============================================================================\n",
       "                 coef    std err          z      P>|z|      [0.025      0.975]\n",
       "------------------------------------------------------------------------------\n",
       "const          0.4529      0.011     39.837      0.000       0.431       0.475\n",
       "x1             0.0770      0.017      4.622      0.000       0.044       0.110\n",
       "x2            -0.0290      0.028     -1.043      0.297      -0.083       0.025\n",
       "x3            -0.0052      0.017     -0.310      0.756      -0.038       0.028\n",
       "x4            -0.0025      0.029     -0.087      0.931      -0.059       0.054\n",
       "x5            -0.1090      0.014     -7.542      0.000      -0.137      -0.081\n",
       "x6             0.0046      0.016      0.280      0.779      -0.028       0.037\n",
       "x7             0.0474      0.019      2.489      0.013       0.010       0.085\n",
       "x8             0.0116      0.021      0.548      0.584      -0.030       0.053\n",
       "x9             0.0107      0.015      0.706      0.480      -0.019       0.041\n",
       "x10            0.0163      0.016      0.995      0.320      -0.016       0.048\n",
       "x11           -0.0314      0.033     -0.952      0.341      -0.096       0.033\n",
       "x12           -0.0086      0.030     -0.287      0.774      -0.067       0.050\n",
       "x13           -0.0276      0.025     -1.112      0.266      -0.076       0.021\n",
       "x14            0.0259      0.029      0.893      0.372      -0.031       0.083\n",
       "x15            0.0074      0.016      0.478      0.633      -0.023       0.038\n",
       "x16            0.0179      0.042      0.427      0.669      -0.064       0.100\n",
       "x17           -0.0419      0.036     -1.156      0.248      -0.113       0.029\n",
       "x18            0.0146      0.018      0.817      0.414      -0.020       0.050\n",
       "x19            0.0253      0.028      0.905      0.365      -0.029       0.080\n",
       "x20           -0.0028      0.011     -0.250      0.802      -0.025       0.019\n",
       "x21            0.0915      0.014      6.477      0.000       0.064       0.119\n",
       "x22           -0.0086      0.014     -0.605      0.545      -0.037       0.019\n",
       "==============================================================================\n",
       "\"\"\""
      ]
     },
     "execution_count": 114,
     "metadata": {},
     "output_type": "execute_result"
    }
   ],
   "source": [
    "x_train1=sm.add_constant(x_train[con].drop(dropCon,axis=1).values)\n",
    "poisson=sm.GLM(y_train.values, x_train1, family=smf.Poisson())\n",
    "res=poisson.fit()\n",
    "res.summary()"
   ]
  },
  {
   "cell_type": "code",
   "execution_count": 116,
   "metadata": {},
   "outputs": [
    {
     "name": "stdout",
     "output_type": "stream",
     "text": [
      "3.2347187258520744\n",
      "4.0190871001180275\n"
     ]
    }
   ],
   "source": [
    "\n",
    "print(sklearn.metrics.mean_absolute_error(np.exp(y_train),np.exp(poisson.predict(res.params,x_train1))))\n",
    "\n",
    "print(sklearn.metrics.mean_absolute_error(np.exp(y_test),np.exp(poisson.predict(res.params,sm.add_constant(x_test[con].drop(dropCon,axis=1).values)))))"
   ]
  },
  {
   "cell_type": "code",
   "execution_count": 78,
   "metadata": {},
   "outputs": [
    {
     "name": "stderr",
     "output_type": "stream",
     "text": [
      "/home/dylanhuang1224/anaconda3/lib/python3.6/site-packages/scipy/stats/stats.py:1713: FutureWarning: Using a non-tuple sequence for multidimensional indexing is deprecated; use `arr[tuple(seq)]` instead of `arr[seq]`. In the future this will be interpreted as an array index, `arr[np.array(seq)]`, which will result either in an error or a different result.\n",
      "  return np.add.reduce(sorted[indexer] * weights, axis=axis) / sumval\n",
      "/home/dylanhuang1224/anaconda3/lib/python3.6/site-packages/matplotlib/axes/_axes.py:6499: MatplotlibDeprecationWarning: \n",
      "The 'normed' kwarg was deprecated in Matplotlib 2.1 and will be removed in 3.1. Use 'density' instead.\n",
      "  alternative=\"'density'\", removal=\"3.1\")\n",
      "/home/dylanhuang1224/anaconda3/lib/python3.6/site-packages/matplotlib/axes/_axes.py:6499: MatplotlibDeprecationWarning: \n",
      "The 'normed' kwarg was deprecated in Matplotlib 2.1 and will be removed in 3.1. Use 'density' instead.\n",
      "  alternative=\"'density'\", removal=\"3.1\")\n"
     ]
    },
    {
     "data": {
      "image/png": "[encoded data removed]",
      "text/plain": [
       "<Figure size 432x288 with 1 Axes>"
      ]
     },
     "metadata": {},
     "output_type": "display_data"
    }
   ],
   "source": [
    "sns.distplot(np.exp(poisson.predict(res.params,x_train1)))\n",
    "sns.distplot(np.exp(y_train))\n",
    "plt.show()"
   ]
  },
  {
   "cell_type": "markdown",
   "metadata": {},
   "source": [
    "### lightGBM"
   ]
  },
  {
   "cell_type": "code",
   "execution_count": 80,
   "metadata": {},
   "outputs": [],
   "source": [
    "import lightgbm as lgb"
   ]
  },
  {
   "cell_type": "code",
   "execution_count": 81,
   "metadata": {
    "collapsed": true
   },
   "outputs": [],
   "source": [
    "NUM_ROUNDS = 20000\n",
    "VERBOSE_EVAL = 250\n",
    "STOP_ROUNDS = 250\n",
    "N_SPLITS = 5\n",
    "\n",
    "def lgbmFit(x,y):\n",
    "    \n",
    "    x_train,x_test,y_train,y_test=train_test_split(x,y,test_size=0.1, random_state=1)\n",
    "    \n",
    "    ## Model parameters\n",
    "    params = {\"objective\" : \"regression\", \"metric\" : \"rmse\", \"max_depth\": 5, \"min_child_samples\": 40, \"reg_alpha\": 0.4, \n",
    "            \"reg_lambda\": 0.1, \"num_leaves\" : 30, \"learning_rate\" : 0.01, \"subsample\" : 0.8, \"colsample_bytree\" : 0.97}\n",
    "    \n",
    "    model = lgb.LGBMRegressor(**params, n_estimators = NUM_ROUNDS, nthread = 4, n_jobs = -1)\n",
    "    \n",
    "    model.fit(x_train, y_train, \n",
    "             eval_set=[(x_train, y_train), (x_test, y_test)], eval_metric='rmse',\n",
    "            verbose=VERBOSE_EVAL, early_stopping_rounds=STOP_ROUNDS)\n",
    "    return model"
   ]
  },
  {
   "cell_type": "code",
   "execution_count": 82,
   "metadata": {},
   "outputs": [
    {
     "name": "stdout",
     "output_type": "stream",
     "text": [
      "Training until validation scores don't improve for 250 rounds.\n",
      "[250]\ttraining's rmse: 0.642178\tvalid_1's rmse: 0.721794\n",
      "[500]\ttraining's rmse: 0.605237\tvalid_1's rmse: 0.717506\n",
      "[750]\ttraining's rmse: 0.57495\tvalid_1's rmse: 0.71521\n",
      "[1000]\ttraining's rmse: 0.544995\tvalid_1's rmse: 0.716292\n",
      "Early stopping, best iteration is:\n",
      "[799]\ttraining's rmse: 0.569775\tvalid_1's rmse: 0.715073\n"
     ]
    }
   ],
   "source": [
    "modelR=lgbmFit(x_train,y_train)"
   ]
  },
  {
   "cell_type": "code",
   "execution_count": 90,
   "metadata": {},
   "outputs": [],
   "source": [
    "res_train=np.exp(modelR.predict(x_train))\n",
    "res_test=np.exp(modelR.predict(x_test))\n"
   ]
  },
  {
   "cell_type": "code",
   "execution_count": 91,
   "metadata": {},
   "outputs": [
    {
     "name": "stdout",
     "output_type": "stream",
     "text": [
      "2.552477571149373\n",
      "3.0833604363711435\n"
     ]
    }
   ],
   "source": [
    "print(sklearn.metrics.mean_absolute_error(np.exp(y_train),res_train))\n",
    "\n",
    "print(sklearn.metrics.mean_absolute_error(np.exp(y_test),res_test))"
   ]
  },
  {
   "cell_type": "code",
   "execution_count": 93,
   "metadata": {},
   "outputs": [
    {
     "name": "stderr",
     "output_type": "stream",
     "text": [
      "/home/dylanhuang1224/anaconda3/lib/python3.6/site-packages/scipy/stats/stats.py:1713: FutureWarning: Using a non-tuple sequence for multidimensional indexing is deprecated; use `arr[tuple(seq)]` instead of `arr[seq]`. In the future this will be interpreted as an array index, `arr[np.array(seq)]`, which will result either in an error or a different result.\n",
      "  return np.add.reduce(sorted[indexer] * weights, axis=axis) / sumval\n",
      "/home/dylanhuang1224/anaconda3/lib/python3.6/site-packages/matplotlib/axes/_axes.py:6499: MatplotlibDeprecationWarning: \n",
      "The 'normed' kwarg was deprecated in Matplotlib 2.1 and will be removed in 3.1. Use 'density' instead.\n",
      "  alternative=\"'density'\", removal=\"3.1\")\n",
      "/home/dylanhuang1224/anaconda3/lib/python3.6/site-packages/matplotlib/axes/_axes.py:6499: MatplotlibDeprecationWarning: \n",
      "The 'normed' kwarg was deprecated in Matplotlib 2.1 and will be removed in 3.1. Use 'density' instead.\n",
      "  alternative=\"'density'\", removal=\"3.1\")\n"
     ]
    },
    {
     "data": {
      "image/png": "[encoded data removed]",
      "text/plain": [
       "<Figure size 432x288 with 1 Axes>"
      ]
     },
     "metadata": {},
     "output_type": "display_data"
    }
   ],
   "source": [
    "sns.distplot(np.exp(y_train))\n",
    "sns.distplot(res_train)\n",
    "plt.show()"
   ]
  },
  {
   "cell_type": "code",
   "execution_count": 95,
   "metadata": {},
   "outputs": [
    {
     "name": "stderr",
     "output_type": "stream",
     "text": [
      "/home/dylanhuang1224/anaconda3/lib/python3.6/site-packages/scipy/stats/stats.py:1713: FutureWarning: Using a non-tuple sequence for multidimensional indexing is deprecated; use `arr[tuple(seq)]` instead of `arr[seq]`. In the future this will be interpreted as an array index, `arr[np.array(seq)]`, which will result either in an error or a different result.\n",
      "  return np.add.reduce(sorted[indexer] * weights, axis=axis) / sumval\n",
      "/home/dylanhuang1224/anaconda3/lib/python3.6/site-packages/matplotlib/axes/_axes.py:6499: MatplotlibDeprecationWarning: \n",
      "The 'normed' kwarg was deprecated in Matplotlib 2.1 and will be removed in 3.1. Use 'density' instead.\n",
      "  alternative=\"'density'\", removal=\"3.1\")\n",
      "/home/dylanhuang1224/anaconda3/lib/python3.6/site-packages/matplotlib/axes/_axes.py:6499: MatplotlibDeprecationWarning: \n",
      "The 'normed' kwarg was deprecated in Matplotlib 2.1 and will be removed in 3.1. Use 'density' instead.\n",
      "  alternative=\"'density'\", removal=\"3.1\")\n"
     ]
    },
    {
     "data": {
      "image/png": "[encoded data removed]",
      "text/plain": [
       "<Figure size 432x288 with 1 Axes>"
      ]
     },
     "metadata": {},
     "output_type": "display_data"
    }
   ],
   "source": [
    "sns.distplot(res_test)\n",
    "sns.distplot(np.exp(y_test))\n",
    "\n",
    "plt.show()"
   ]
  },
  {
   "cell_type": "code",
   "execution_count": null,
   "metadata": {
    "collapsed": true
   },
   "outputs": [],
   "source": []
  }
 ],
 "metadata": {
  "colab": {
   "name": "Project.ipynb",
   "provenance": [],
   "version": "0.3.2"
  },
  "kernelspec": {
   "display_name": "Python 3",
   "language": "python",
   "name": "python3"
  },
  "language_info": {
   "codemirror_mode": {
    "name": "ipython",
    "version": 3
   },
   "file_extension": ".py",
   "mimetype": "text/x-python",
   "name": "python",
   "nbconvert_exporter": "python",
   "pygments_lexer": "ipython3",
   "version": "3.7.0"
  }
 },
 "nbformat": 4,
 "nbformat_minor": 1
}
