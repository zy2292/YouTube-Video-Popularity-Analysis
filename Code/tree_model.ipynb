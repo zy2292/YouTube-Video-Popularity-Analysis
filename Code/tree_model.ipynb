{
 "cells": [
  {
   "cell_type": "code",
   "execution_count": 1,
   "metadata": {},
   "outputs": [
    {
     "data": {
      "text/html": [
       "<div>\n",
       "<style scoped>\n",
       "    .dataframe tbody tr th:only-of-type {\n",
       "        vertical-align: middle;\n",
       "    }\n",
       "\n",
       "    .dataframe tbody tr th {\n",
       "        vertical-align: top;\n",
       "    }\n",
       "\n",
       "    .dataframe thead th {\n",
       "        text-align: right;\n",
       "    }\n",
       "</style>\n",
       "<table border=\"1\" class=\"dataframe\">\n",
       "  <thead>\n",
       "    <tr style=\"text-align: right;\">\n",
       "      <th></th>\n",
       "      <th>Unnamed: 0</th>\n",
       "      <th>video_id</th>\n",
       "      <th>trending_date</th>\n",
       "      <th>channel_title</th>\n",
       "      <th>category_id</th>\n",
       "      <th>views</th>\n",
       "      <th>likes</th>\n",
       "      <th>dislikes</th>\n",
       "      <th>comment_count</th>\n",
       "      <th>thumbnail_link</th>\n",
       "      <th>...</th>\n",
       "      <th>Nonprofits &amp; Activism</th>\n",
       "      <th>People &amp; Blogs</th>\n",
       "      <th>Pets &amp; Animals</th>\n",
       "      <th>Science &amp; Technology</th>\n",
       "      <th>Shows</th>\n",
       "      <th>Sports</th>\n",
       "      <th>Travel &amp; Events</th>\n",
       "      <th>top10Channel</th>\n",
       "      <th>top100Channel</th>\n",
       "      <th>top500Channel</th>\n",
       "    </tr>\n",
       "  </thead>\n",
       "  <tbody>\n",
       "    <tr>\n",
       "      <th>0</th>\n",
       "      <td>0</td>\n",
       "      <td>-0CMnp02rNY</td>\n",
       "      <td>2018-06-06</td>\n",
       "      <td>TheEllenShow</td>\n",
       "      <td>24</td>\n",
       "      <td>475965</td>\n",
       "      <td>6531</td>\n",
       "      <td>172</td>\n",
       "      <td>271</td>\n",
       "      <td>https://i.ytimg.com/vi/-0CMnp02rNY/default.jpg</td>\n",
       "      <td>...</td>\n",
       "      <td>0</td>\n",
       "      <td>0</td>\n",
       "      <td>0</td>\n",
       "      <td>0</td>\n",
       "      <td>0</td>\n",
       "      <td>0</td>\n",
       "      <td>0</td>\n",
       "      <td>False</td>\n",
       "      <td>False</td>\n",
       "      <td>False</td>\n",
       "    </tr>\n",
       "    <tr>\n",
       "      <th>1</th>\n",
       "      <td>1</td>\n",
       "      <td>-0NYY8cqdiQ</td>\n",
       "      <td>2018-02-01</td>\n",
       "      <td>TheEllenShow</td>\n",
       "      <td>24</td>\n",
       "      <td>563746</td>\n",
       "      <td>4429</td>\n",
       "      <td>54</td>\n",
       "      <td>94</td>\n",
       "      <td>https://i.ytimg.com/vi/-0NYY8cqdiQ/default.jpg</td>\n",
       "      <td>...</td>\n",
       "      <td>0</td>\n",
       "      <td>0</td>\n",
       "      <td>0</td>\n",
       "      <td>0</td>\n",
       "      <td>0</td>\n",
       "      <td>0</td>\n",
       "      <td>0</td>\n",
       "      <td>False</td>\n",
       "      <td>False</td>\n",
       "      <td>False</td>\n",
       "    </tr>\n",
       "    <tr>\n",
       "      <th>2</th>\n",
       "      <td>2</td>\n",
       "      <td>-1Hm41N0dUs</td>\n",
       "      <td>2018-04-29</td>\n",
       "      <td>Jimmy Kimmel Live</td>\n",
       "      <td>23</td>\n",
       "      <td>1566807</td>\n",
       "      <td>32752</td>\n",
       "      <td>393</td>\n",
       "      <td>1490</td>\n",
       "      <td>https://i.ytimg.com/vi/-1Hm41N0dUs/default.jpg</td>\n",
       "      <td>...</td>\n",
       "      <td>0</td>\n",
       "      <td>0</td>\n",
       "      <td>0</td>\n",
       "      <td>0</td>\n",
       "      <td>0</td>\n",
       "      <td>0</td>\n",
       "      <td>0</td>\n",
       "      <td>False</td>\n",
       "      <td>False</td>\n",
       "      <td>False</td>\n",
       "    </tr>\n",
       "    <tr>\n",
       "      <th>3</th>\n",
       "      <td>3</td>\n",
       "      <td>-1yT-K3c6YI</td>\n",
       "      <td>2017-11-29</td>\n",
       "      <td>Molly Burke</td>\n",
       "      <td>22</td>\n",
       "      <td>129360</td>\n",
       "      <td>5214</td>\n",
       "      <td>108</td>\n",
       "      <td>516</td>\n",
       "      <td>https://i.ytimg.com/vi/-1yT-K3c6YI/default.jpg</td>\n",
       "      <td>...</td>\n",
       "      <td>0</td>\n",
       "      <td>1</td>\n",
       "      <td>0</td>\n",
       "      <td>0</td>\n",
       "      <td>0</td>\n",
       "      <td>0</td>\n",
       "      <td>0</td>\n",
       "      <td>False</td>\n",
       "      <td>False</td>\n",
       "      <td>False</td>\n",
       "    </tr>\n",
       "    <tr>\n",
       "      <th>4</th>\n",
       "      <td>4</td>\n",
       "      <td>-2RVw2_QyxQ</td>\n",
       "      <td>2017-11-14</td>\n",
       "      <td>Saint Louis Chess Club</td>\n",
       "      <td>27</td>\n",
       "      <td>67429</td>\n",
       "      <td>438</td>\n",
       "      <td>23</td>\n",
       "      <td>23</td>\n",
       "      <td>https://i.ytimg.com/vi/-2RVw2_QyxQ/default.jpg</td>\n",
       "      <td>...</td>\n",
       "      <td>0</td>\n",
       "      <td>0</td>\n",
       "      <td>0</td>\n",
       "      <td>0</td>\n",
       "      <td>0</td>\n",
       "      <td>0</td>\n",
       "      <td>0</td>\n",
       "      <td>False</td>\n",
       "      <td>False</td>\n",
       "      <td>False</td>\n",
       "    </tr>\n",
       "  </tbody>\n",
       "</table>\n",
       "<p>5 rows × 63 columns</p>\n",
       "</div>"
      ],
      "text/plain": [
       "   Unnamed: 0     video_id trending_date           channel_title  category_id  \\\n",
       "0           0  -0CMnp02rNY    2018-06-06            TheEllenShow           24   \n",
       "1           1  -0NYY8cqdiQ    2018-02-01            TheEllenShow           24   \n",
       "2           2  -1Hm41N0dUs    2018-04-29       Jimmy Kimmel Live           23   \n",
       "3           3  -1yT-K3c6YI    2017-11-29             Molly Burke           22   \n",
       "4           4  -2RVw2_QyxQ    2017-11-14  Saint Louis Chess Club           27   \n",
       "\n",
       "     views  likes  dislikes  comment_count  \\\n",
       "0   475965   6531       172            271   \n",
       "1   563746   4429        54             94   \n",
       "2  1566807  32752       393           1490   \n",
       "3   129360   5214       108            516   \n",
       "4    67429    438        23             23   \n",
       "\n",
       "                                   thumbnail_link      ...        \\\n",
       "0  https://i.ytimg.com/vi/-0CMnp02rNY/default.jpg      ...         \n",
       "1  https://i.ytimg.com/vi/-0NYY8cqdiQ/default.jpg      ...         \n",
       "2  https://i.ytimg.com/vi/-1Hm41N0dUs/default.jpg      ...         \n",
       "3  https://i.ytimg.com/vi/-1yT-K3c6YI/default.jpg      ...         \n",
       "4  https://i.ytimg.com/vi/-2RVw2_QyxQ/default.jpg      ...         \n",
       "\n",
       "   Nonprofits & Activism  People & Blogs  Pets & Animals Science & Technology  \\\n",
       "0                      0               0               0                    0   \n",
       "1                      0               0               0                    0   \n",
       "2                      0               0               0                    0   \n",
       "3                      0               1               0                    0   \n",
       "4                      0               0               0                    0   \n",
       "\n",
       "   Shows  Sports  Travel & Events  top10Channel  top100Channel  top500Channel  \n",
       "0      0       0                0         False          False          False  \n",
       "1      0       0                0         False          False          False  \n",
       "2      0       0                0         False          False          False  \n",
       "3      0       0                0         False          False          False  \n",
       "4      0       0                0         False          False          False  \n",
       "\n",
       "[5 rows x 63 columns]"
      ]
     },
     "execution_count": 1,
     "metadata": {},
     "output_type": "execute_result"
    }
   ],
   "source": [
    "import pandas as pd\n",
    "import matplotlib.pyplot as plt\n",
    "import scikitplot as skplt\n",
    "trend = pd.read_csv(\"first_trend_df_1117.csv\")\n",
    "trend.head()"
   ]
  },
  {
   "cell_type": "code",
   "execution_count": 2,
   "metadata": {},
   "outputs": [
    {
     "data": {
      "text/plain": [
       "Index(['Unnamed: 0', 'video_id', 'trending_date', 'channel_title',\n",
       "       'category_id', 'views', 'likes', 'dislikes', 'comment_count',\n",
       "       'thumbnail_link', 'comments_disabled', 'ratings_disabled',\n",
       "       'video_error_or_removed', 'publish_date', 'date_delta', 'd0', 'd1',\n",
       "       'd2', 'd3', 'd4', 'd5', 'd6', 'd7', 'd8', 'd9', 'd10', 'd11', 'd12',\n",
       "       'd13', 'd14', 'd15', 'd16', 'd17', 'd18', 'd19', 'd20', 'd21', 'd22',\n",
       "       'd23', 'd24', 'app_time', 'tags2', 'tagsLength', 'category',\n",
       "       'Autos & Vehicles', 'Comedy', 'Education', 'Entertainment',\n",
       "       'Film & Animation', 'Gaming', 'Howto & Style', 'Music',\n",
       "       'News & Politics', 'Nonprofits & Activism', 'People & Blogs',\n",
       "       'Pets & Animals', 'Science & Technology', 'Shows', 'Sports',\n",
       "       'Travel & Events', 'top10Channel', 'top100Channel', 'top500Channel'],\n",
       "      dtype='object')"
      ]
     },
     "execution_count": 2,
     "metadata": {},
     "output_type": "execute_result"
    }
   ],
   "source": [
    "trend.columns"
   ]
  },
  {
   "cell_type": "code",
   "execution_count": 3,
   "metadata": {},
   "outputs": [
    {
     "data": {
      "text/plain": [
       "(6250, 63)"
      ]
     },
     "execution_count": 3,
     "metadata": {},
     "output_type": "execute_result"
    }
   ],
   "source": [
    "trend.shape"
   ]
  },
  {
   "cell_type": "code",
   "execution_count": 4,
   "metadata": {},
   "outputs": [
    {
     "data": {
      "text/plain": [
       "6250"
      ]
     },
     "execution_count": 4,
     "metadata": {},
     "output_type": "execute_result"
    }
   ],
   "source": [
    "len(trend['video_id'].unique())"
   ]
  },
  {
   "cell_type": "code",
   "execution_count": 5,
   "metadata": {},
   "outputs": [
    {
     "data": {
      "text/html": [
       "<div>\n",
       "<style scoped>\n",
       "    .dataframe tbody tr th:only-of-type {\n",
       "        vertical-align: middle;\n",
       "    }\n",
       "\n",
       "    .dataframe tbody tr th {\n",
       "        vertical-align: top;\n",
       "    }\n",
       "\n",
       "    .dataframe thead th {\n",
       "        text-align: right;\n",
       "    }\n",
       "</style>\n",
       "<table border=\"1\" class=\"dataframe\">\n",
       "  <thead>\n",
       "    <tr style=\"text-align: right;\">\n",
       "      <th></th>\n",
       "      <th>views</th>\n",
       "      <th>likes</th>\n",
       "      <th>dislikes</th>\n",
       "      <th>comment_count</th>\n",
       "      <th>comments_disabled</th>\n",
       "      <th>ratings_disabled</th>\n",
       "      <th>video_error_or_removed</th>\n",
       "      <th>date_delta</th>\n",
       "      <th>d0</th>\n",
       "      <th>d1</th>\n",
       "      <th>...</th>\n",
       "      <th>Nonprofits &amp; Activism</th>\n",
       "      <th>People &amp; Blogs</th>\n",
       "      <th>Pets &amp; Animals</th>\n",
       "      <th>Science &amp; Technology</th>\n",
       "      <th>Shows</th>\n",
       "      <th>Sports</th>\n",
       "      <th>Travel &amp; Events</th>\n",
       "      <th>top10Channel</th>\n",
       "      <th>top100Channel</th>\n",
       "      <th>top500Channel</th>\n",
       "    </tr>\n",
       "  </thead>\n",
       "  <tbody>\n",
       "    <tr>\n",
       "      <th>0</th>\n",
       "      <td>475965</td>\n",
       "      <td>6531</td>\n",
       "      <td>172</td>\n",
       "      <td>271</td>\n",
       "      <td>False</td>\n",
       "      <td>False</td>\n",
       "      <td>False</td>\n",
       "      <td>2</td>\n",
       "      <td>-0.161175</td>\n",
       "      <td>0.124738</td>\n",
       "      <td>...</td>\n",
       "      <td>0</td>\n",
       "      <td>0</td>\n",
       "      <td>0</td>\n",
       "      <td>0</td>\n",
       "      <td>0</td>\n",
       "      <td>0</td>\n",
       "      <td>0</td>\n",
       "      <td>False</td>\n",
       "      <td>False</td>\n",
       "      <td>False</td>\n",
       "    </tr>\n",
       "  </tbody>\n",
       "</table>\n",
       "<p>1 rows × 53 columns</p>\n",
       "</div>"
      ],
      "text/plain": [
       "    views  likes  dislikes  comment_count  comments_disabled  \\\n",
       "0  475965   6531       172            271              False   \n",
       "\n",
       "   ratings_disabled  video_error_or_removed  date_delta        d0        d1  \\\n",
       "0             False                   False           2 -0.161175  0.124738   \n",
       "\n",
       "       ...        Nonprofits & Activism  People & Blogs  Pets & Animals  \\\n",
       "0      ...                            0               0               0   \n",
       "\n",
       "   Science & Technology  Shows  Sports  Travel & Events  top10Channel  \\\n",
       "0                     0      0       0                0         False   \n",
       "\n",
       "   top100Channel  top500Channel  \n",
       "0          False          False  \n",
       "\n",
       "[1 rows x 53 columns]"
      ]
     },
     "execution_count": 5,
     "metadata": {},
     "output_type": "execute_result"
    }
   ],
   "source": [
    "X = trend\n",
    "X = X.drop(['Unnamed: 0', 'video_id', 'trending_date', 'channel_title','category_id','thumbnail_link','publish_date','app_time','tags2','category'], axis = 1)\n",
    "y = trend['app_time'] <= 1 ### 1 for only trending once within 31 days, 0 otherwise\n",
    "X.head(1)"
   ]
  },
  {
   "cell_type": "code",
   "execution_count": 6,
   "metadata": {},
   "outputs": [],
   "source": [
    "def get_ROCplot(fpr,tpr,roc_auc):\n",
    "    plt.figure()\n",
    "    plt.plot(fpr, tpr, label='ROC curve (area = %0.2f)' % roc_auc)\n",
    "    plt.plot([0, 1], [0, 1],'r--')\n",
    "    plt.xlim([0.0, 1.0])\n",
    "    plt.ylim([0.0, 1.0])\n",
    "    plt.xlabel('False Positive Rate')\n",
    "    plt.ylabel('True Positive Rate')\n",
    "    plt.title('Receiver operating characteristic')\n",
    "    plt.legend(loc=\"lower right\")\n",
    "    plt.savefig('Log_ROC')\n",
    "    plt.show()"
   ]
  },
  {
   "cell_type": "markdown",
   "metadata": {},
   "source": [
    "## Baseline LogisticRegression"
   ]
  },
  {
   "cell_type": "code",
   "execution_count": 7,
   "metadata": {},
   "outputs": [
    {
     "data": {
      "text/plain": [
       "LogisticRegression(C=1.0, class_weight=None, dual=False, fit_intercept=True,\n",
       "          intercept_scaling=1, max_iter=100, multi_class='ovr', n_jobs=1,\n",
       "          penalty='l2', random_state=None, solver='liblinear', tol=0.0001,\n",
       "          verbose=0, warm_start=False)"
      ]
     },
     "execution_count": 7,
     "metadata": {},
     "output_type": "execute_result"
    }
   ],
   "source": [
    "from sklearn.linear_model import LogisticRegression\n",
    "from sklearn.model_selection import train_test_split\n",
    "\n",
    "X_train, X_test, y_train, y_test = train_test_split(X, y, test_size=0.2, random_state=123)\n",
    "lgr = LogisticRegression()\n",
    "lgr.fit(X_train, y_train)\n",
    "\n"
   ]
  },
  {
   "cell_type": "code",
   "execution_count": 8,
   "metadata": {},
   "outputs": [
    {
     "data": {
      "text/plain": [
       "<matplotlib.axes._subplots.AxesSubplot at 0x1a0d45d8d0>"
      ]
     },
     "execution_count": 8,
     "metadata": {},
     "output_type": "execute_result"
    },
    {
     "data": {
      "image/png": "[encoded data removed]",
      "text/plain": [
       "<Figure size 432x288 with 2 Axes>"
      ]
     },
     "metadata": {},
     "output_type": "display_data"
    }
   ],
   "source": [
    "y_pred = lgr.predict(X_test)\n",
    "skplt.metrics.plot_confusion_matrix(y_test, y_pred)"
   ]
  },
  {
   "cell_type": "code",
   "execution_count": 9,
   "metadata": {},
   "outputs": [
    {
     "name": "stdout",
     "output_type": "stream",
     "text": [
      "1115 1 134 0\n"
     ]
    }
   ],
   "source": [
    "from sklearn.metrics import confusion_matrix\n",
    "tn, fp, fn, tp = confusion_matrix(y_test, y_pred).ravel()\n",
    "print(tn, fp, fn, tp)"
   ]
  },
  {
   "cell_type": "code",
   "execution_count": 10,
   "metadata": {},
   "outputs": [
    {
     "name": "stdout",
     "output_type": "stream",
     "text": [
      "recall: 0.0 \n",
      " precision: 0.0 \n",
      " fp_rate: 0.0008960573476702509 \n",
      " f1_score: nan \n",
      " accuracy: 0.892\n"
     ]
    },
    {
     "name": "stderr",
     "output_type": "stream",
     "text": [
      "/anaconda3/lib/python3.6/site-packages/ipykernel/__main__.py:4: RuntimeWarning: invalid value encountered in double_scalars\n"
     ]
    }
   ],
   "source": [
    "recall = tp / (tp + fn)\n",
    "precision = tp / (tp + fp)\n",
    "fp_rate = fp / (fp + tn)\n",
    "f1_score = 2 * (precision * recall / (precision + recall))\n",
    "accuracy = (tp + tn) / (tp + tn + fp + fn)\n",
    "print(\"recall:\", recall, \"\\n precision:\", precision, \"\\n fp_rate:\",fp_rate, \"\\n f1_score:\",f1_score, \"\\n accuracy:\",accuracy)"
   ]
  },
  {
   "cell_type": "code",
   "execution_count": 11,
   "metadata": {},
   "outputs": [
    {
     "name": "stdout",
     "output_type": "stream",
     "text": [
      "Area under the ROC curve : 0.557903\n"
     ]
    },
    {
     "data": {
      "image/png": "[encoded data removed]",
      "text/plain": [
       "<Figure size 432x288 with 1 Axes>"
      ]
     },
     "metadata": {},
     "output_type": "display_data"
    }
   ],
   "source": [
    "from sklearn.metrics import roc_auc_score\n",
    "from sklearn.metrics import roc_curve\n",
    "logit_roc_auc = roc_auc_score(y_test, lgr.predict_proba(X_test)[:,1])\n",
    "print(\"Area under the ROC curve : %f\" % logit_roc_auc)\n",
    "fpr, tpr, thresholds = roc_curve(y_test, lgr.predict_proba(X_test)[:,1])\n",
    "get_ROCplot(fpr,tpr,logit_roc_auc)"
   ]
  },
  {
   "cell_type": "markdown",
   "metadata": {},
   "source": [
    "## Tuned LogisticRegression using recall"
   ]
  },
  {
   "cell_type": "code",
   "execution_count": 12,
   "metadata": {},
   "outputs": [
    {
     "data": {
      "text/plain": [
       "0.0"
      ]
     },
     "execution_count": 12,
     "metadata": {},
     "output_type": "execute_result"
    }
   ],
   "source": [
    "from sklearn.model_selection import GridSearchCV\n",
    "parameters = {'C' :[0.005,0.05, 0.15, 0.1,0.2,0.3,0.4,0.5,0.7,0.9,1]}\n",
    "des = LogisticRegression()\n",
    "clf = GridSearchCV(des, parameters,scoring='recall')\n",
    "clf.fit(X, y)\n",
    "clf.best_score_"
   ]
  },
  {
   "cell_type": "code",
   "execution_count": 13,
   "metadata": {},
   "outputs": [
    {
     "data": {
      "text/plain": [
       "{'C': 0.005}"
      ]
     },
     "execution_count": 13,
     "metadata": {},
     "output_type": "execute_result"
    }
   ],
   "source": [
    "clf.best_params_"
   ]
  },
  {
   "cell_type": "code",
   "execution_count": 14,
   "metadata": {},
   "outputs": [
    {
     "data": {
      "text/plain": [
       "LogisticRegression(C=0.005, class_weight=None, dual=False, fit_intercept=True,\n",
       "          intercept_scaling=1, max_iter=100, multi_class='ovr', n_jobs=1,\n",
       "          penalty='l2', random_state=None, solver='liblinear', tol=0.0001,\n",
       "          verbose=0, warm_start=False)"
      ]
     },
     "execution_count": 14,
     "metadata": {},
     "output_type": "execute_result"
    }
   ],
   "source": [
    "des = LogisticRegression(C = 0.005)\n",
    "des.fit(X_train, y_train)"
   ]
  },
  {
   "cell_type": "code",
   "execution_count": 15,
   "metadata": {},
   "outputs": [
    {
     "data": {
      "text/plain": [
       "<matplotlib.axes._subplots.AxesSubplot at 0x1a0e5b4f98>"
      ]
     },
     "execution_count": 15,
     "metadata": {},
     "output_type": "execute_result"
    },
    {
     "data": {
      "image/png": "[encoded data removed]",
      "text/plain": [
       "<Figure size 432x288 with 2 Axes>"
      ]
     },
     "metadata": {},
     "output_type": "display_data"
    }
   ],
   "source": [
    "y_pred = des.predict(X_test)\n",
    "skplt.metrics.plot_confusion_matrix(y_test, y_pred)"
   ]
  },
  {
   "cell_type": "code",
   "execution_count": 16,
   "metadata": {},
   "outputs": [
    {
     "name": "stdout",
     "output_type": "stream",
     "text": [
      "Area under the ROC curve : 0.550754\n"
     ]
    },
    {
     "data": {
      "image/png": "[encoded data removed]",
      "text/plain": [
       "<Figure size 432x288 with 1 Axes>"
      ]
     },
     "metadata": {},
     "output_type": "display_data"
    }
   ],
   "source": [
    "logit_roc_auc = roc_auc_score(y_test, des.predict_proba(X_test)[:,1])\n",
    "print(\"Area under the ROC curve : %f\" % logit_roc_auc)\n",
    "fpr, tpr, thresholds = roc_curve(y_test, des.predict_proba(X_test)[:,1])\n",
    "get_ROCplot(fpr,tpr,logit_roc_auc)"
   ]
  },
  {
   "cell_type": "markdown",
   "metadata": {},
   "source": [
    "Linear decision boundary is not a good fit"
   ]
  },
  {
   "cell_type": "markdown",
   "metadata": {},
   "source": [
    "## Baseline RandomForest"
   ]
  },
  {
   "cell_type": "code",
   "execution_count": 17,
   "metadata": {},
   "outputs": [
    {
     "data": {
      "text/plain": [
       "RandomForestClassifier(bootstrap=True, class_weight=None, criterion='gini',\n",
       "            max_depth=None, max_features='auto', max_leaf_nodes=None,\n",
       "            min_impurity_decrease=0.0, min_impurity_split=None,\n",
       "            min_samples_leaf=1, min_samples_split=2,\n",
       "            min_weight_fraction_leaf=0.0, n_estimators=1000, n_jobs=1,\n",
       "            oob_score=False, random_state=42, verbose=0, warm_start=False)"
      ]
     },
     "execution_count": 17,
     "metadata": {},
     "output_type": "execute_result"
    }
   ],
   "source": [
    "from sklearn.ensemble import RandomForestClassifier\n",
    "clf = RandomForestClassifier(n_estimators = 1000, random_state = 42)\n",
    "clf.fit(X_train, y_train)\n"
   ]
  },
  {
   "cell_type": "code",
   "execution_count": 18,
   "metadata": {},
   "outputs": [
    {
     "data": {
      "text/plain": [
       "<matplotlib.axes._subplots.AxesSubplot at 0x1a0ce58208>"
      ]
     },
     "execution_count": 18,
     "metadata": {},
     "output_type": "execute_result"
    },
    {
     "data": {
      "image/png": "[encoded data removed]",
      "text/plain": [
       "<Figure size 432x288 with 2 Axes>"
      ]
     },
     "metadata": {},
     "output_type": "display_data"
    }
   ],
   "source": [
    "y_pred = clf.predict(X_test)\n",
    "skplt.metrics.plot_confusion_matrix(y_test, y_pred)"
   ]
  },
  {
   "cell_type": "code",
   "execution_count": 19,
   "metadata": {},
   "outputs": [
    {
     "name": "stdout",
     "output_type": "stream",
     "text": [
      "Area under the ROC curve : 0.737699\n"
     ]
    },
    {
     "data": {
      "image/png": "[encoded data removed]",
      "text/plain": [
       "<Figure size 432x288 with 1 Axes>"
      ]
     },
     "metadata": {},
     "output_type": "display_data"
    }
   ],
   "source": [
    "from sklearn.metrics import roc_auc_score\n",
    "from sklearn.metrics import roc_curve\n",
    "tree_roc_auc = roc_auc_score(y_test, clf.predict_proba(X_test)[:,1])\n",
    "print(\"Area under the ROC curve : %f\" % tree_roc_auc)\n",
    "fpr, tpr, thresholds = roc_curve(y_test, clf.predict_proba(X_test)[:,1])\n",
    "get_ROCplot(fpr,tpr,logit_roc_auc)"
   ]
  },
  {
   "cell_type": "code",
   "execution_count": 20,
   "metadata": {},
   "outputs": [
    {
     "name": "stdout",
     "output_type": "stream",
     "text": [
      "1109 7 129 5\n"
     ]
    }
   ],
   "source": [
    "tn, fp, fn, tp = confusion_matrix(y_test, y_pred).ravel()\n",
    "print(tn, fp, fn, tp)"
   ]
  },
  {
   "cell_type": "code",
   "execution_count": 21,
   "metadata": {},
   "outputs": [
    {
     "name": "stdout",
     "output_type": "stream",
     "text": [
      "recall: 0.03731343283582089 \n",
      " precision: 0.4166666666666667 \n",
      " fp_rate: 0.0062724014336917565 \n",
      " f1_score: 0.0684931506849315 \n",
      " accuracy: 0.8912\n"
     ]
    }
   ],
   "source": [
    "recall = tp / (tp + fn)\n",
    "precision = tp / (tp + fp)\n",
    "fp_rate = fp / (fp + tn)\n",
    "f1_score = 2 * (precision * recall / (precision + recall))\n",
    "accuracy = (tp + tn) / (tp + tn + fp + fn)\n",
    "print(\"recall:\", recall, \"\\n precision:\", precision, \"\\n fp_rate:\",fp_rate, \"\\n f1_score:\",f1_score, \"\\n accuracy:\",accuracy)"
   ]
  },
  {
   "cell_type": "markdown",
   "metadata": {},
   "source": [
    "## Tuned RandomForest using recall"
   ]
  },
  {
   "cell_type": "code",
   "execution_count": 30,
   "metadata": {},
   "outputs": [
    {
     "data": {
      "text/plain": [
       "GridSearchCV(cv=None, error_score='raise',\n",
       "       estimator=RandomForestClassifier(bootstrap=True, class_weight=None, criterion='gini',\n",
       "            max_depth=None, max_features='auto', max_leaf_nodes=None,\n",
       "            min_impurity_decrease=0.0, min_impurity_split=None,\n",
       "            min_samples_leaf=1, min_samples_split=2,\n",
       "            min_weight_fraction_leaf=0.0, n_estimators=10, n_jobs=1,\n",
       "            oob_score=False, random_state=0, verbose=0, warm_start=False),\n",
       "       fit_params=None, iid=True, n_jobs=1,\n",
       "       param_grid={'n_estimators': range(1, 20), 'max_depth': range(1, 20)},\n",
       "       pre_dispatch='2*n_jobs', refit=True, return_train_score='warn',\n",
       "       scoring='recall', verbose=0)"
      ]
     },
     "execution_count": 30,
     "metadata": {},
     "output_type": "execute_result"
    }
   ],
   "source": [
    "parameters = {'n_estimators' : range(1,20),'max_depth' : range(1,20)}\n",
    "des = RandomForestClassifier(random_state=0,bootstrap=True,max_features='auto')\n",
    "clf = GridSearchCV(des, parameters,scoring='recall')\n",
    "clf.fit(X, y)"
   ]
  },
  {
   "cell_type": "code",
   "execution_count": 31,
   "metadata": {},
   "outputs": [
    {
     "data": {
      "text/plain": [
       "{'max_depth': 19, 'n_estimators': 1}"
      ]
     },
     "execution_count": 31,
     "metadata": {},
     "output_type": "execute_result"
    }
   ],
   "source": [
    "clf.best_params_"
   ]
  },
  {
   "cell_type": "code",
   "execution_count": 32,
   "metadata": {},
   "outputs": [
    {
     "data": {
      "text/plain": [
       "RandomForestClassifier(bootstrap=True, class_weight=None, criterion='gini',\n",
       "            max_depth=19, max_features='auto', max_leaf_nodes=None,\n",
       "            min_impurity_decrease=0.0, min_impurity_split=None,\n",
       "            min_samples_leaf=1, min_samples_split=2,\n",
       "            min_weight_fraction_leaf=0.0, n_estimators=1, n_jobs=1,\n",
       "            oob_score=False, random_state=0, verbose=0, warm_start=False)"
      ]
     },
     "execution_count": 32,
     "metadata": {},
     "output_type": "execute_result"
    }
   ],
   "source": [
    "from sklearn.model_selection import train_test_split\n",
    "X_train,X_test, y_train, y_test = train_test_split(X, y, test_size=0.2, random_state=1234)\n",
    "des = RandomForestClassifier(max_depth=19, n_estimators= 1,random_state=0,bootstrap=True,max_features='auto')\n",
    "des.fit(X_train,y_train)"
   ]
  },
  {
   "cell_type": "code",
   "execution_count": 33,
   "metadata": {},
   "outputs": [
    {
     "name": "stdout",
     "output_type": "stream",
     "text": [
      "Feature ranking:\n",
      "1 comment_count 0.06611917085497118\n",
      "2 d23 0.05731533929750991\n",
      "3 d4 0.04948095311274193\n",
      "4 d24 0.044912328498335215\n",
      "5 d15 0.043735043705058076\n",
      "6 d6 0.04328029891038567\n",
      "7 d0 0.043054951634639106\n",
      "8 d16 0.040697434728479316\n",
      "9 likes 0.03978439322593971\n",
      "10 d11 0.036892864692190136\n",
      "11 tagsLength 0.036302235014256584\n",
      "12 date_delta 0.03378478798593533\n",
      "13 dislikes 0.03359315447011079\n",
      "14 views 0.031819619056192225\n",
      "15 d21 0.030737057818459024\n",
      "16 d14 0.029251005179766486\n",
      "17 d7 0.02484961166683835\n",
      "18 d19 0.024472504097941963\n",
      "19 d5 0.024408591043249165\n",
      "20 d20 0.02419189529281206\n",
      "21 d1 0.023864823371782768\n",
      "22 d10 0.02193855519052022\n",
      "23 d3 0.021906393660246718\n",
      "24 d2 0.02148619589016297\n",
      "25 d22 0.020256212436039575\n",
      "26 d13 0.01992803988803227\n",
      "27 d8 0.018871434604071542\n",
      "28 d17 0.01590299254579104\n",
      "29 d18 0.015414262410899856\n",
      "30 d12 0.011874519723386786\n",
      "31 d9 0.01071007660079965\n",
      "32 Entertainment 0.007275056385479444\n",
      "33 Sports 0.006505763571528334\n",
      "34 Music 0.00645276348240402\n",
      "35 Comedy 0.006233158215919559\n",
      "36 News & Politics 0.003962233003246124\n",
      "37 Science & Technology 0.003111910734830522\n",
      "38 video_error_or_removed 0.0020246762828196683\n",
      "39 Film & Animation 0.0019973522613663647\n",
      "40 People & Blogs 0.0007034459142243376\n",
      "41 Gaming 0.0006155151749462968\n",
      "42 Pets & Animals 0.00014068918284486842\n",
      "43 Autos & Vehicles 0.00014068918284486796\n",
      "44 top100Channel 0.0\n",
      "45 comments_disabled 0.0\n",
      "46 top10Channel 0.0\n",
      "47 Travel & Events 0.0\n",
      "48 Nonprofits & Activism 0.0\n",
      "49 ratings_disabled 0.0\n",
      "50 Shows 0.0\n",
      "51 Howto & Style 0.0\n",
      "52 Education 0.0\n",
      "53 top500Channel 0.0\n"
     ]
    },
    {
     "data": {
      "image/png": "[encoded data removed]",
      "text/plain": [
       "<Figure size 432x288 with 1 Axes>"
      ]
     },
     "metadata": {},
     "output_type": "display_data"
    }
   ],
   "source": [
    "import numpy as np\n",
    "importances = des.feature_importances_\n",
    "std = np.std([des.feature_importances_ for tree in des.estimators_],\n",
    "             axis=0)\n",
    "indices = np.argsort(importances)[::-1]\n",
    "\n",
    "# Print the feature ranking\n",
    "print(\"Feature ranking:\")\n",
    "\n",
    "for f in range(X.shape[1]):\n",
    "    print(\"{0} {1} {2}\".format(f + 1, X.columns[indices[f]], importances[indices[f]]))\n",
    "\n",
    "# Plot the feature importances of the forest\n",
    "plt.figure()\n",
    "plt.title(\"Feature importances\")\n",
    "plt.bar(range(X.shape[1]), importances[indices],\n",
    "       color=\"r\", yerr=std[indices], align=\"center\")\n",
    "plt.xticks(range(X.shape[1]), indices)\n",
    "plt.xlim([-1, X.shape[1]])\n",
    "plt.show()"
   ]
  },
  {
   "cell_type": "code",
   "execution_count": 34,
   "metadata": {},
   "outputs": [
    {
     "data": {
      "text/plain": [
       "<matplotlib.axes._subplots.AxesSubplot at 0x1a14148470>"
      ]
     },
     "execution_count": 34,
     "metadata": {},
     "output_type": "execute_result"
    },
    {
     "data": {
      "image/png": "[encoded data removed]",
      "text/plain": [
       "<Figure size 432x288 with 2 Axes>"
      ]
     },
     "metadata": {},
     "output_type": "display_data"
    }
   ],
   "source": [
    "y_pred = des.predict(X_test)\n",
    "skplt.metrics.plot_confusion_matrix(y_test, y_pred)"
   ]
  },
  {
   "cell_type": "code",
   "execution_count": 35,
   "metadata": {
    "scrolled": true
   },
   "outputs": [
    {
     "name": "stdout",
     "output_type": "stream",
     "text": [
      "Area under the ROC curve : 0.840353\n"
     ]
    },
    {
     "data": {
      "image/png": "[encoded data removed]",
      "text/plain": [
       "<Figure size 432x288 with 1 Axes>"
      ]
     },
     "metadata": {},
     "output_type": "display_data"
    }
   ],
   "source": [
    "from sklearn.metrics import roc_auc_score\n",
    "from sklearn.metrics import roc_curve\n",
    "logit_roc_auc = roc_auc_score(y_test, clf.predict_proba(X_test)[:,1])\n",
    "print(\"Area under the ROC curve : %f\" % logit_roc_auc)\n",
    "fpr, tpr, thresholds = roc_curve(y_test, clf.predict_proba(X_test)[:,1])\n",
    "get_ROCplot(fpr,tpr,logit_roc_auc)"
   ]
  },
  {
   "cell_type": "code",
   "execution_count": 36,
   "metadata": {},
   "outputs": [
    {
     "name": "stdout",
     "output_type": "stream",
     "text": [
      "966 128 124 32\n"
     ]
    }
   ],
   "source": [
    "from sklearn.metrics import confusion_matrix\n",
    "tn, fp, fn, tp = confusion_matrix(y_test, y_pred).ravel()\n",
    "print(tn, fp, fn, tp)"
   ]
  },
  {
   "cell_type": "code",
   "execution_count": 37,
   "metadata": {},
   "outputs": [
    {
     "name": "stdout",
     "output_type": "stream",
     "text": [
      "recall: 0.20512820512820512 \n",
      " precision: 0.2 \n",
      " fp_rate: 0.1170018281535649 \n",
      " f1_score: 0.20253164556962025 \n",
      " accuracy: 0.7984\n"
     ]
    }
   ],
   "source": [
    "recall = tp / (tp + fn)\n",
    "precision = tp / (tp + fp)\n",
    "fp_rate = fp / (fp + tn)\n",
    "f1_score = 2 * (precision * recall / (precision + recall))\n",
    "accuracy = (tp + tn) / (tp + tn + fp + fn)\n",
    "print(\"recall:\", recall, \"\\n precision:\", precision, \"\\n fp_rate:\",fp_rate, \"\\n f1_score:\",f1_score, \"\\n accuracy:\",accuracy)"
   ]
  },
  {
   "cell_type": "markdown",
   "metadata": {},
   "source": [
    "## Xgboost Classification"
   ]
  },
  {
   "cell_type": "code",
   "execution_count": 43,
   "metadata": {
    "scrolled": true
   },
   "outputs": [
    {
     "data": {
      "text/plain": [
       "GridSearchCV(cv=5, error_score='raise',\n",
       "       estimator=XGBClassifier(base_score=0.5, booster='gbtree', colsample_bylevel=1,\n",
       "       colsample_bytree=0.8, early_stopping_round=100, gamma=0,\n",
       "       learning_rate=0.1, max_delta_step=0, max_depth=3,\n",
       "       min_child_weight=1, missing=None, n_estimators=100, n_jobs=1,\n",
       "       nthread=4, objective='binary:logistic', random_state=0, reg_alpha=0,\n",
       "       reg_lambda=1, scale_pos_weight=1, seed=27, silent=True,\n",
       "       subsample=0.8),\n",
       "       fit_params=None, iid=False, n_jobs=1,\n",
       "       param_grid={'n_estimators': [10, 20, 50, 100], 'min_child_weight': [1, 3, 5], 'max_depth': [3, 5, 7], 'gamma': [0.0, 0.5, 1.0, 1.5, 2.0]},\n",
       "       pre_dispatch='2*n_jobs', refit=True, return_train_score='warn',\n",
       "       scoring='roc_auc', verbose=0)"
      ]
     },
     "execution_count": 43,
     "metadata": {},
     "output_type": "execute_result"
    }
   ],
   "source": [
    "import xgboost as xgb\n",
    "from xgboost.sklearn import XGBClassifier\n",
    "\n",
    "params = {'n_estimators': [10, 20, 50, 100], 'min_child_weight': [1, 3, 5],\n",
    "         'max_depth':[3, 5, 7], 'gamma': [(0.5*i) for i in range(5)]}\n",
    "\n",
    "gsearch = GridSearchCV(estimator = XGBClassifier(learning_rate =0.1, subsample=0.8, colsample_bytree=0.8, \n",
    "                                                 early_stopping_round=100, objective= 'binary:logistic', \n",
    "                                                nthread=4, scale_pos_weight=1, seed=27), \n",
    "                        param_grid = params, scoring='roc_auc',n_jobs=1,iid=False, cv=5)\n",
    "gsearch.fit(X, y)"
   ]
  },
  {
   "cell_type": "code",
   "execution_count": 44,
   "metadata": {},
   "outputs": [
    {
     "name": "stdout",
     "output_type": "stream",
     "text": [
      "0.7554239470197665\n",
      "{'gamma': 1.5, 'max_depth': 7, 'min_child_weight': 3, 'n_estimators': 50}\n"
     ]
    }
   ],
   "source": [
    "print(gsearch.best_score_)\n",
    "print(gsearch.best_params_)"
   ]
  },
  {
   "cell_type": "code",
   "execution_count": 47,
   "metadata": {},
   "outputs": [],
   "source": [
    "xgb = XGBClassifier(learning_rate =0.1, n_estimators=50, max_subsample=0.8, colsample_bytree=0.8,\n",
    "                                                 max_depth=7, min_child_weight=3, early_stopping_round=50,\n",
    "                     objective= 'binary:logistic', gamma=1.5, nthread=4, scale_pos_weight=1, seed=27)"
   ]
  },
  {
   "cell_type": "code",
   "execution_count": 48,
   "metadata": {},
   "outputs": [
    {
     "data": {
      "text/plain": [
       "XGBClassifier(base_score=0.5, booster='gbtree', colsample_bylevel=1,\n",
       "       colsample_bytree=0.8, early_stopping_round=50, gamma=1.5,\n",
       "       learning_rate=0.1, max_delta_step=0, max_depth=7, max_subsample=0.8,\n",
       "       min_child_weight=3, missing=None, n_estimators=50, n_jobs=1,\n",
       "       nthread=4, objective='binary:logistic', random_state=0, reg_alpha=0,\n",
       "       reg_lambda=1, scale_pos_weight=1, seed=27, silent=True, subsample=1)"
      ]
     },
     "execution_count": 48,
     "metadata": {},
     "output_type": "execute_result"
    }
   ],
   "source": [
    "xgb.fit(X_train, y_train)"
   ]
  },
  {
   "cell_type": "code",
   "execution_count": 49,
   "metadata": {},
   "outputs": [
    {
     "name": "stderr",
     "output_type": "stream",
     "text": [
      "/anaconda3/lib/python3.6/site-packages/sklearn/preprocessing/label.py:151: DeprecationWarning: The truth value of an empty array is ambiguous. Returning False, but in future this will result in an error. Use `array.size > 0` to check that an array is not empty.\n",
      "  if diff:\n"
     ]
    },
    {
     "data": {
      "text/plain": [
       "<matplotlib.axes._subplots.AxesSubplot at 0x1a0e4b2198>"
      ]
     },
     "execution_count": 49,
     "metadata": {},
     "output_type": "execute_result"
    },
    {
     "data": {
      "image/png": "[encoded data removed]",
      "text/plain": [
       "<Figure size 432x288 with 2 Axes>"
      ]
     },
     "metadata": {},
     "output_type": "display_data"
    }
   ],
   "source": [
    "y_pred = xgb.predict(X_test)\n",
    "skplt.metrics.plot_confusion_matrix(y_test, y_pred)"
   ]
  },
  {
   "cell_type": "code",
   "execution_count": 50,
   "metadata": {},
   "outputs": [
    {
     "name": "stdout",
     "output_type": "stream",
     "text": [
      "1088 6 152 4\n"
     ]
    }
   ],
   "source": [
    "tn, fp, fn, tp = confusion_matrix(y_test, y_pred).ravel()\n",
    "print(tn, fp, fn, tp)"
   ]
  },
  {
   "cell_type": "code",
   "execution_count": 51,
   "metadata": {},
   "outputs": [
    {
     "name": "stdout",
     "output_type": "stream",
     "text": [
      "recall: 0.02564102564102564 \n",
      " precision: 0.4 \n",
      " fp_rate: 0.005484460694698354 \n",
      " f1_score: 0.048192771084337345 \n",
      " accuracy: 0.8736\n"
     ]
    }
   ],
   "source": [
    "recall = tp / (tp + fn)\n",
    "precision = tp / (tp + fp)\n",
    "fp_rate = fp / (fp + tn)\n",
    "f1_score = 2 * (precision * recall / (precision + recall))\n",
    "accuracy = (tp + tn) / (tp + tn + fp + fn)\n",
    "print(\"recall:\", recall, \"\\n precision:\", precision, \"\\n fp_rate:\",fp_rate, \"\\n f1_score:\",f1_score, \"\\n accuracy:\",accuracy)"
   ]
  },
  {
   "cell_type": "code",
   "execution_count": null,
   "metadata": {},
   "outputs": [],
   "source": []
  }
 ],
 "metadata": {
  "kernelspec": {
   "display_name": "Python 3",
   "language": "python",
   "name": "python3"
  },
  "language_info": {
   "codemirror_mode": {
    "name": "ipython",
    "version": 3
   },
   "file_extension": ".py",
   "mimetype": "text/x-python",
   "name": "python",
   "nbconvert_exporter": "python",
   "pygments_lexer": "ipython3",
   "version": "3.7.0"
  }
 },
 "nbformat": 4,
 "nbformat_minor": 2
}
