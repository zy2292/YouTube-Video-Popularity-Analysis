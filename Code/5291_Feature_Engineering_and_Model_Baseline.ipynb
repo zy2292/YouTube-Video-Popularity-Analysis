{
 "cells": [
  {
   "cell_type": "markdown",
   "metadata": {
    "colab_type": "text",
    "id": "3vKDGzg7kfVR"
   },
   "source": [
    "# GR5291 YouTube Trending Analysis \n",
    "# Group 5\n",
    "# Feature Engineering And Random Forest Model Baseline"
   ]
  },
  {
   "cell_type": "markdown",
   "metadata": {
    "colab_type": "text",
    "id": "DGUImuZTnazG"
   },
   "source": [
    "## 1. Import Packages and Read Data"
   ]
  },
  {
   "cell_type": "code",
   "execution_count": 83,
   "metadata": {
    "colab": {
     "base_uri": "https://localhost:8080/",
     "height": 230
    },
    "colab_type": "code",
    "id": "NjUHfSASg2Jl",
    "outputId": "eef89bbb-1ac2-4363-f005-3fd7d4dedafc"
   },
   "outputs": [
    {
     "name": "stdout",
     "output_type": "stream",
     "text": [
      "Collecting pandas\n",
      "\u001b[?25l  Downloading https://files.pythonhosted.org/packages/e1/d8/feeb346d41f181e83fba45224ab14a8d8af019b48af742e047f3845d8cff/pandas-0.23.4-cp36-cp36m-manylinux1_x86_64.whl (8.9MB)\n",
      "\u001b[K    100% |████████████████████████████████| 8.9MB 2.8MB/s \n",
      "\u001b[?25hRequirement already satisfied, skipping upgrade: numpy>=1.9.0 in /usr/local/lib/python3.6/dist-packages (from pandas) (1.14.6)\n",
      "Requirement already satisfied, skipping upgrade: python-dateutil>=2.5.0 in /usr/local/lib/python3.6/dist-packages (from pandas) (2.5.3)\n",
      "Requirement already satisfied, skipping upgrade: pytz>=2011k in /usr/local/lib/python3.6/dist-packages (from pandas) (2018.7)\n",
      "Requirement already satisfied, skipping upgrade: six>=1.5 in /usr/local/lib/python3.6/dist-packages (from python-dateutil>=2.5.0->pandas) (1.11.0)\n",
      "Installing collected packages: pandas\n",
      "  Found existing installation: pandas 0.22.0\n",
      "    Uninstalling pandas-0.22.0:\n",
      "      Successfully uninstalled pandas-0.22.0\n",
      "Successfully installed pandas-0.23.4\n"
     ]
    }
   ],
   "source": [
    "### Install Packages\n",
    "\n",
    "import os\n",
    "# ! pip install plotly\n",
    "# ! pip install -U gensim\n",
    "# ! python -m pip install --upgrade pip\n",
    "# ! pip install wordcloud\n",
    "! pip3 install --upgrade pandas"
   ]
  },
  {
   "cell_type": "code",
   "execution_count": 0,
   "metadata": {
    "colab": {},
    "colab_type": "code",
    "id": "K0NTUS9xg6vv"
   },
   "outputs": [],
   "source": [
    "### Import Packages\n",
    "\n",
    "import pandas as pd\n",
    "import numpy as np\n",
    "import json\n",
    "from pandas.io.json import json_normalize\n",
    "import os\n",
    "import matplotlib.pyplot as plt\n",
    "import plotly.graph_objs as go\n",
    "import plotly.plotly as py\n",
    "from plotly import tools\n",
    "from sklearn import preprocessing\n",
    "import time\n",
    "import datetime\n",
    "# import lightgbm as lgb\n",
    "import gensim\n",
    "from gensim.utils import simple_preprocess\n",
    "from gensim.parsing.preprocessing import STOPWORDS\n",
    "from nltk.stem import WordNetLemmatizer, SnowballStemmer\n",
    "from nltk.stem.porter import *\n",
    "import numpy as np\n",
    "import nltk\n",
    "from nltk.corpus import stopwords\n",
    "import seaborn as sns\n",
    "from collections import Counter\n",
    "from sklearn.ensemble import RandomForestRegressor, RandomForestClassifier\n",
    "from sklearn.model_selection import train_test_split\n",
    "# nltk.download()\n",
    "np.random.seed(2018)\n",
    "pd.options.display.max_columns = 999"
   ]
  },
  {
   "cell_type": "code",
   "execution_count": 239,
   "metadata": {
    "colab": {
     "base_uri": "https://localhost:8080/",
     "height": 73,
     "resources": {
      "http://localhost:8080/nbextensions/google.colab/files.js": {
       "data": "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",
       "headers": [
        [
         "content-type",
         "application/javascript"
        ]
       ],
       "ok": true,
       "status": 200,
       "status_text": ""
      }
     }
    },
    "colab_type": "code",
    "id": "WK15vupBg8aJ",
    "outputId": "39e2959a-8562-4c66-e1e5-ace6c248d1e8"
   },
   "outputs": [
    {
     "data": {
      "text/html": [
       "\n",
       "     <input type=\"file\" id=\"files-5eb4d392-3208-4a12-aa97-a996c4be785d\" name=\"files[]\" multiple disabled />\n",
       "     <output id=\"result-5eb4d392-3208-4a12-aa97-a996c4be785d\">\n",
       "      Upload widget is only available when the cell has been executed in the\n",
       "      current browser session. Please rerun this cell to enable.\n",
       "      </output>\n",
       "      <script src=\"/nbextensions/google.colab/files.js\"></script> "
      ],
      "text/plain": [
       "<IPython.core.display.HTML object>"
      ]
     },
     "metadata": {
      "tags": []
     },
     "output_type": "display_data"
    },
    {
     "name": "stdout",
     "output_type": "stream",
     "text": [
      "Saving df_no_display3.csv to df_no_display3.csv\n"
     ]
    }
   ],
   "source": [
    "### ignore this block when using local Jupyter Notebook (Anaconda), used to upload files in Google Colab\n",
    "\n",
    "from google.colab import files\n",
    "upload1 = files.upload()\n",
    "# upload2 = files.upload()"
   ]
  },
  {
   "cell_type": "code",
   "execution_count": 0,
   "metadata": {
    "colab": {},
    "colab_type": "code",
    "id": "OsIT_fNNmmn5"
   },
   "outputs": [],
   "source": [
    "### read csv and json data\n",
    "\n",
    "### USvideos raw csv data\n",
    "USvideos = pd.read_csv(\"USvideos.csv\")\n",
    "\n",
    "### US category id raw json data\n",
    "UScat = pd.read_json(\"US_category_id.json\")\n",
    "\n",
    "### the description2vector data from Xinrou\n",
    "ssv = pd.read_csv(\"simplified_sentence_vector2.csv\")\n",
    "# ssv_new = pd.read_csv('simplified_sentence_vector3.txt', sep=\" \", header=None)\n",
    "\n",
    "### if the description is NaN in original data, then use the tags and titles to convert vector instead\n",
    "description_NaN = pd.read_csv(\"description_NaN.csv\")\n",
    "\n",
    "### some vectors are not displayed due to the long length of the description, and we store these vectors individually\n",
    "df_no_display = pd.read_csv(\"df_no_display3.csv\")"
   ]
  },
  {
   "cell_type": "code",
   "execution_count": 331,
   "metadata": {
    "colab": {
     "base_uri": "https://localhost:8080/",
     "height": 164
    },
    "colab_type": "code",
    "id": "o9SeeVMVhDtZ",
    "outputId": "d6746dac-469b-4248-efbb-98a453a1a3f7"
   },
   "outputs": [
    {
     "data": {
      "text/html": [
       "<div>\n",
       "<style scoped>\n",
       "    .dataframe tbody tr th:only-of-type {\n",
       "        vertical-align: middle;\n",
       "    }\n",
       "\n",
       "    .dataframe tbody tr th {\n",
       "        vertical-align: top;\n",
       "    }\n",
       "\n",
       "    .dataframe thead th {\n",
       "        text-align: right;\n",
       "    }\n",
       "</style>\n",
       "<table border=\"1\" class=\"dataframe\">\n",
       "  <thead>\n",
       "    <tr style=\"text-align: right;\">\n",
       "      <th></th>\n",
       "      <th>video_id</th>\n",
       "      <th>trending_date</th>\n",
       "      <th>title</th>\n",
       "      <th>channel_title</th>\n",
       "      <th>category_id</th>\n",
       "      <th>publish_time</th>\n",
       "      <th>tags</th>\n",
       "      <th>views</th>\n",
       "      <th>likes</th>\n",
       "      <th>dislikes</th>\n",
       "      <th>comment_count</th>\n",
       "      <th>thumbnail_link</th>\n",
       "      <th>comments_disabled</th>\n",
       "      <th>ratings_disabled</th>\n",
       "      <th>video_error_or_removed</th>\n",
       "      <th>description</th>\n",
       "    </tr>\n",
       "  </thead>\n",
       "  <tbody>\n",
       "    <tr>\n",
       "      <th>0</th>\n",
       "      <td>2kyS6SvSYSE</td>\n",
       "      <td>17.14.11</td>\n",
       "      <td>WE WANT TO TALK ABOUT OUR MARRIAGE</td>\n",
       "      <td>CaseyNeistat</td>\n",
       "      <td>22</td>\n",
       "      <td>2017-11-13T17:13:01.000Z</td>\n",
       "      <td>SHANtell martin</td>\n",
       "      <td>748374</td>\n",
       "      <td>57527</td>\n",
       "      <td>2966</td>\n",
       "      <td>15954</td>\n",
       "      <td>https://i.ytimg.com/vi/2kyS6SvSYSE/default.jpg</td>\n",
       "      <td>False</td>\n",
       "      <td>False</td>\n",
       "      <td>False</td>\n",
       "      <td>SHANTELL'S CHANNEL - https://www.youtube.com/s...</td>\n",
       "    </tr>\n",
       "  </tbody>\n",
       "</table>\n",
       "</div>"
      ],
      "text/plain": [
       "      video_id trending_date                               title  \\\n",
       "0  2kyS6SvSYSE      17.14.11  WE WANT TO TALK ABOUT OUR MARRIAGE   \n",
       "\n",
       "  channel_title  category_id              publish_time             tags  \\\n",
       "0  CaseyNeistat           22  2017-11-13T17:13:01.000Z  SHANtell martin   \n",
       "\n",
       "    views  likes  dislikes  comment_count  \\\n",
       "0  748374  57527      2966          15954   \n",
       "\n",
       "                                   thumbnail_link  comments_disabled  \\\n",
       "0  https://i.ytimg.com/vi/2kyS6SvSYSE/default.jpg              False   \n",
       "\n",
       "   ratings_disabled  video_error_or_removed  \\\n",
       "0             False                   False   \n",
       "\n",
       "                                         description  \n",
       "0  SHANTELL'S CHANNEL - https://www.youtube.com/s...  "
      ]
     },
     "execution_count": 331,
     "metadata": {
      "tags": []
     },
     "output_type": "execute_result"
    }
   ],
   "source": [
    "USvideos.head(1)"
   ]
  },
  {
   "cell_type": "markdown",
   "metadata": {
    "colab_type": "text",
    "id": "5fU9kw1RoIfn"
   },
   "source": [
    "## 2. Preprocessing\n",
    "### 2.1 processing date\n",
    "#### 2.1.1 convert to standard time"
   ]
  },
  {
   "cell_type": "code",
   "execution_count": 0,
   "metadata": {
    "colab": {},
    "colab_type": "code",
    "id": "otZhT_ovpSeM"
   },
   "outputs": [],
   "source": [
    "USvideos.category_id = USvideos.category_id.astype('category')\n",
    "USvideos['trending_date'] = pd.to_datetime(USvideos['trending_date'], format='%y.%d.%m').dt.date\n",
    "# Transforming publish_time to datetime\n",
    "publish_time = pd.to_datetime(USvideos.publish_time, format='%Y-%m-%dT%H:%M:%S.%fZ')\n",
    "\n",
    "# Create Variable publish_date\n",
    "USvideos['publish_date'] = publish_time.dt.date\n",
    "\n",
    "# Drop publish_time\n",
    "USvideos.drop('publish_time',axis=1,inplace=True)"
   ]
  },
  {
   "cell_type": "markdown",
   "metadata": {
    "colab_type": "text",
    "id": "8cYu98hy7fkX"
   },
   "source": [
    "#### 2.1.2 only keep data with trending dates within 31 days after publish date"
   ]
  },
  {
   "cell_type": "code",
   "execution_count": 333,
   "metadata": {
    "colab": {
     "base_uri": "https://localhost:8080/",
     "height": 35
    },
    "colab_type": "code",
    "id": "Wk4I6io_oHzX",
    "outputId": "921d9d32-2391-471b-cfa2-d7b9595a4211"
   },
   "outputs": [
    {
     "data": {
      "text/plain": [
       "(40584, 16)"
      ]
     },
     "execution_count": 333,
     "metadata": {
      "tags": []
     },
     "output_type": "execute_result"
    }
   ],
   "source": [
    "cond1 = USvideos['trending_date'] < USvideos['publish_date']+timedelta(days=31)\n",
    "cond2 = USvideos['trending_date'] >= USvideos['publish_date']\n",
    "cond = cond1 & cond2\n",
    "sum(cond)\n",
    "USvideos2 = USvideos[cond]\n",
    "USvideos2.shape"
   ]
  },
  {
   "cell_type": "markdown",
   "metadata": {
    "colab_type": "text",
    "id": "bJ7x5LG-7pY9"
   },
   "source": [
    "#### 2.1.3 Add Column: compute the number of days on trending"
   ]
  },
  {
   "cell_type": "code",
   "execution_count": 334,
   "metadata": {
    "colab": {
     "base_uri": "https://localhost:8080/",
     "height": 159
    },
    "colab_type": "code",
    "id": "VZsWSHtB2Qc1",
    "outputId": "91e7d0cf-9678-445f-815e-1a60642a947f"
   },
   "outputs": [
    {
     "name": "stderr",
     "output_type": "stream",
     "text": [
      "/usr/local/lib/python3.6/dist-packages/ipykernel_launcher.py:1: SettingWithCopyWarning:\n",
      "\n",
      "\n",
      "A value is trying to be set on a copy of a slice from a DataFrame.\n",
      "Try using .loc[row_indexer,col_indexer] = value instead\n",
      "\n",
      "See the caveats in the documentation: http://pandas.pydata.org/pandas-docs/stable/indexing.html#indexing-view-versus-copy\n",
      "\n"
     ]
    }
   ],
   "source": [
    "USvideos2['date_delta'] = (USvideos2['trending_date'] - USvideos2['publish_date']).map(lambda x: x.days)"
   ]
  },
  {
   "cell_type": "markdown",
   "metadata": {
    "colab_type": "text",
    "id": "uvzPnh7h75BR"
   },
   "source": [
    "### 2.2 Create new Data Frame\n",
    "\n",
    "for each video, we only keep the data of its first trending date "
   ]
  },
  {
   "cell_type": "code",
   "execution_count": 335,
   "metadata": {
    "colab": {
     "base_uri": "https://localhost:8080/",
     "height": 181
    },
    "colab_type": "code",
    "id": "9_hsyF6F2CSg",
    "outputId": "a86982e6-9e02-4b16-c9e6-41ab7c811f25"
   },
   "outputs": [
    {
     "data": {
      "text/html": [
       "<div>\n",
       "<style scoped>\n",
       "    .dataframe tbody tr th:only-of-type {\n",
       "        vertical-align: middle;\n",
       "    }\n",
       "\n",
       "    .dataframe tbody tr th {\n",
       "        vertical-align: top;\n",
       "    }\n",
       "\n",
       "    .dataframe thead th {\n",
       "        text-align: right;\n",
       "    }\n",
       "</style>\n",
       "<table border=\"1\" class=\"dataframe\">\n",
       "  <thead>\n",
       "    <tr style=\"text-align: right;\">\n",
       "      <th></th>\n",
       "      <th>video_id</th>\n",
       "      <th>trending_date</th>\n",
       "      <th>title</th>\n",
       "      <th>channel_title</th>\n",
       "      <th>category_id</th>\n",
       "      <th>tags</th>\n",
       "      <th>views</th>\n",
       "      <th>likes</th>\n",
       "      <th>dislikes</th>\n",
       "      <th>comment_count</th>\n",
       "      <th>thumbnail_link</th>\n",
       "      <th>comments_disabled</th>\n",
       "      <th>ratings_disabled</th>\n",
       "      <th>video_error_or_removed</th>\n",
       "      <th>description</th>\n",
       "      <th>publish_date</th>\n",
       "      <th>date_delta</th>\n",
       "    </tr>\n",
       "  </thead>\n",
       "  <tbody>\n",
       "    <tr>\n",
       "      <th>0</th>\n",
       "      <td>-0CMnp02rNY</td>\n",
       "      <td>2018-06-06</td>\n",
       "      <td>Mindy Kaling's Daughter Had the Perfect Reacti...</td>\n",
       "      <td>TheEllenShow</td>\n",
       "      <td>24</td>\n",
       "      <td>ellen|\"ellen degeneres\"|\"the ellen show\"|\"elle...</td>\n",
       "      <td>475965</td>\n",
       "      <td>6531</td>\n",
       "      <td>172</td>\n",
       "      <td>271</td>\n",
       "      <td>https://i.ytimg.com/vi/-0CMnp02rNY/default.jpg</td>\n",
       "      <td>False</td>\n",
       "      <td>False</td>\n",
       "      <td>False</td>\n",
       "      <td>Ocean's 8 star Mindy Kaling dished on bringing...</td>\n",
       "      <td>2018-06-04</td>\n",
       "      <td>2</td>\n",
       "    </tr>\n",
       "  </tbody>\n",
       "</table>\n",
       "</div>"
      ],
      "text/plain": [
       "      video_id trending_date  \\\n",
       "0  -0CMnp02rNY    2018-06-06   \n",
       "\n",
       "                                               title channel_title  \\\n",
       "0  Mindy Kaling's Daughter Had the Perfect Reacti...  TheEllenShow   \n",
       "\n",
       "   category_id                                               tags   views  \\\n",
       "0           24  ellen|\"ellen degeneres\"|\"the ellen show\"|\"elle...  475965   \n",
       "\n",
       "   likes  dislikes  comment_count  \\\n",
       "0   6531       172            271   \n",
       "\n",
       "                                   thumbnail_link  comments_disabled  \\\n",
       "0  https://i.ytimg.com/vi/-0CMnp02rNY/default.jpg              False   \n",
       "\n",
       "   ratings_disabled  video_error_or_removed  \\\n",
       "0             False                   False   \n",
       "\n",
       "                                         description publish_date  date_delta  \n",
       "0  Ocean's 8 star Mindy Kaling dished on bringing...   2018-06-04           2  "
      ]
     },
     "execution_count": 335,
     "metadata": {
      "tags": []
     },
     "output_type": "execute_result"
    }
   ],
   "source": [
    "first_trend_df = USvideos2.sort_values(['video_id', 'date_delta'], ascending = True).groupby('video_id').first()\n",
    "first_trend_df.reset_index(level=0, inplace=True)\n",
    "first_trend_df.head(1)"
   ]
  },
  {
   "cell_type": "code",
   "execution_count": 336,
   "metadata": {
    "colab": {
     "base_uri": "https://localhost:8080/",
     "height": 35
    },
    "colab_type": "code",
    "id": "s6J43XST2CVW",
    "outputId": "0859d211-2fad-41c2-d894-94861cd27e37"
   },
   "outputs": [
    {
     "data": {
      "text/plain": [
       "(6250, 17)"
      ]
     },
     "execution_count": 336,
     "metadata": {
      "tags": []
     },
     "output_type": "execute_result"
    }
   ],
   "source": [
    "first_trend_df.shape ### it is as expected, as the number of rows == number of unique video ids "
   ]
  },
  {
   "cell_type": "markdown",
   "metadata": {
    "colab_type": "text",
    "id": "RgegEdLt8Jdt"
   },
   "source": [
    "### 2.3 Merge the vector data to our current dataframe\n",
    "\n",
    "1. In another Python Notebook, we convert the descriptions to 25-dimensional vectors, named d1 to d25, using n-grams and stored the vector data as tfidf_sentence_vector.csv. \n",
    "2. However, the description column for some videos are empty, and in this case, we choose to use the data converted from tags and titles instead. The vector data of these videoes are called description_NaN.csv."
   ]
  },
  {
   "cell_type": "code",
   "execution_count": 0,
   "metadata": {
    "colab": {},
    "colab_type": "code",
    "id": "0M9EUPx43sjb"
   },
   "outputs": [],
   "source": [
    "### simplified_sentence_vector data from XinRou, 25 dimensions\n",
    "ssv2 = ssv.drop(['tfidf_sentence_vector', 'Unnamed: 0'], axis = 1)\n",
    "ssv2 = ssv2.dropna()"
   ]
  },
  {
   "cell_type": "code",
   "execution_count": 338,
   "metadata": {
    "colab": {
     "base_uri": "https://localhost:8080/",
     "height": 181
    },
    "colab_type": "code",
    "id": "1ZEsujT02Ccw",
    "outputId": "fa304b1d-798d-477d-ff0b-5c69e9804375"
   },
   "outputs": [
    {
     "data": {
      "text/html": [
       "<div>\n",
       "<style scoped>\n",
       "    .dataframe tbody tr th:only-of-type {\n",
       "        vertical-align: middle;\n",
       "    }\n",
       "\n",
       "    .dataframe tbody tr th {\n",
       "        vertical-align: top;\n",
       "    }\n",
       "\n",
       "    .dataframe thead th {\n",
       "        text-align: right;\n",
       "    }\n",
       "</style>\n",
       "<table border=\"1\" class=\"dataframe\">\n",
       "  <thead>\n",
       "    <tr style=\"text-align: right;\">\n",
       "      <th></th>\n",
       "      <th>video_id</th>\n",
       "      <th>trending_date</th>\n",
       "      <th>title</th>\n",
       "      <th>channel_title</th>\n",
       "      <th>category_id</th>\n",
       "      <th>tags</th>\n",
       "      <th>views</th>\n",
       "      <th>likes</th>\n",
       "      <th>dislikes</th>\n",
       "      <th>comment_count</th>\n",
       "      <th>thumbnail_link</th>\n",
       "      <th>comments_disabled</th>\n",
       "      <th>ratings_disabled</th>\n",
       "      <th>video_error_or_removed</th>\n",
       "      <th>description</th>\n",
       "      <th>publish_date</th>\n",
       "      <th>date_delta</th>\n",
       "      <th>d0</th>\n",
       "      <th>d1</th>\n",
       "      <th>d2</th>\n",
       "      <th>d3</th>\n",
       "      <th>d4</th>\n",
       "      <th>d5</th>\n",
       "      <th>d6</th>\n",
       "      <th>d7</th>\n",
       "      <th>d8</th>\n",
       "      <th>d9</th>\n",
       "      <th>d10</th>\n",
       "      <th>d11</th>\n",
       "      <th>d12</th>\n",
       "      <th>d13</th>\n",
       "      <th>d14</th>\n",
       "      <th>d15</th>\n",
       "      <th>d16</th>\n",
       "      <th>d17</th>\n",
       "      <th>d18</th>\n",
       "      <th>d19</th>\n",
       "      <th>d20</th>\n",
       "      <th>d21</th>\n",
       "      <th>d22</th>\n",
       "      <th>d23</th>\n",
       "      <th>d24</th>\n",
       "    </tr>\n",
       "  </thead>\n",
       "  <tbody>\n",
       "    <tr>\n",
       "      <th>0</th>\n",
       "      <td>-0CMnp02rNY</td>\n",
       "      <td>2018-06-06</td>\n",
       "      <td>Mindy Kaling's Daughter Had the Perfect Reacti...</td>\n",
       "      <td>TheEllenShow</td>\n",
       "      <td>24</td>\n",
       "      <td>ellen|\"ellen degeneres\"|\"the ellen show\"|\"elle...</td>\n",
       "      <td>475965</td>\n",
       "      <td>6531</td>\n",
       "      <td>172</td>\n",
       "      <td>271</td>\n",
       "      <td>https://i.ytimg.com/vi/-0CMnp02rNY/default.jpg</td>\n",
       "      <td>False</td>\n",
       "      <td>False</td>\n",
       "      <td>False</td>\n",
       "      <td>Ocean's 8 star Mindy Kaling dished on bringing...</td>\n",
       "      <td>2018-06-04</td>\n",
       "      <td>2</td>\n",
       "      <td>-0.161175</td>\n",
       "      <td>0.124738</td>\n",
       "      <td>0.175031</td>\n",
       "      <td>-0.003445</td>\n",
       "      <td>-0.017617</td>\n",
       "      <td>-0.032546</td>\n",
       "      <td>0.114659</td>\n",
       "      <td>-0.125688</td>\n",
       "      <td>-0.062131</td>\n",
       "      <td>-0.110315</td>\n",
       "      <td>0.002753</td>\n",
       "      <td>0.102883</td>\n",
       "      <td>-0.802276</td>\n",
       "      <td>0.012264</td>\n",
       "      <td>0.013673</td>\n",
       "      <td>-0.028617</td>\n",
       "      <td>0.127851</td>\n",
       "      <td>-0.111181</td>\n",
       "      <td>-0.010753</td>\n",
       "      <td>-0.055571</td>\n",
       "      <td>-0.004595</td>\n",
       "      <td>0.067133</td>\n",
       "      <td>0.018896</td>\n",
       "      <td>-0.065106</td>\n",
       "      <td>-0.05848</td>\n",
       "    </tr>\n",
       "  </tbody>\n",
       "</table>\n",
       "</div>"
      ],
      "text/plain": [
       "      video_id trending_date  \\\n",
       "0  -0CMnp02rNY    2018-06-06   \n",
       "\n",
       "                                               title channel_title  \\\n",
       "0  Mindy Kaling's Daughter Had the Perfect Reacti...  TheEllenShow   \n",
       "\n",
       "   category_id                                               tags   views  \\\n",
       "0           24  ellen|\"ellen degeneres\"|\"the ellen show\"|\"elle...  475965   \n",
       "\n",
       "   likes  dislikes  comment_count  \\\n",
       "0   6531       172            271   \n",
       "\n",
       "                                   thumbnail_link  comments_disabled  \\\n",
       "0  https://i.ytimg.com/vi/-0CMnp02rNY/default.jpg              False   \n",
       "\n",
       "   ratings_disabled  video_error_or_removed  \\\n",
       "0             False                   False   \n",
       "\n",
       "                                         description publish_date  date_delta  \\\n",
       "0  Ocean's 8 star Mindy Kaling dished on bringing...   2018-06-04           2   \n",
       "\n",
       "         d0        d1        d2        d3        d4        d5        d6  \\\n",
       "0 -0.161175  0.124738  0.175031 -0.003445 -0.017617 -0.032546  0.114659   \n",
       "\n",
       "         d7        d8        d9       d10       d11       d12       d13  \\\n",
       "0 -0.125688 -0.062131 -0.110315  0.002753  0.102883 -0.802276  0.012264   \n",
       "\n",
       "        d14       d15       d16       d17       d18       d19       d20  \\\n",
       "0  0.013673 -0.028617  0.127851 -0.111181 -0.010753 -0.055571 -0.004595   \n",
       "\n",
       "        d21       d22       d23      d24  \n",
       "0  0.067133  0.018896 -0.065106 -0.05848  "
      ]
     },
     "execution_count": 338,
     "metadata": {
      "tags": []
     },
     "output_type": "execute_result"
    }
   ],
   "source": [
    "mergedf = pd.merge(first_trend_df, ssv2, left_on = [\"video_id\" , \"description\"], right_on = [\"video_id\" , \"description\"], how = 'left')\n",
    "mergedf.head(1)"
   ]
  },
  {
   "cell_type": "code",
   "execution_count": 339,
   "metadata": {
    "colab": {
     "base_uri": "https://localhost:8080/",
     "height": 35
    },
    "colab_type": "code",
    "id": "mVB1NBNI3sg5",
    "outputId": "90e31d31-1f4e-45f9-a7fc-c956ccf0b58e"
   },
   "outputs": [
    {
     "data": {
      "text/plain": [
       "(100, 42)"
      ]
     },
     "execution_count": 339,
     "metadata": {
      "tags": []
     },
     "output_type": "execute_result"
    }
   ],
   "source": [
    "mergedf_null = mergedf.loc[mergedf['d0'].isnull(), ]\n",
    "mergedf_notnull = mergedf.loc[mergedf['d0'].notnull(), ]\n",
    "mergedf_null.shape"
   ]
  },
  {
   "cell_type": "code",
   "execution_count": 0,
   "metadata": {
    "colab": {},
    "colab_type": "code",
    "id": "39vsL05r3smV"
   },
   "outputs": [],
   "source": [
    "### description_NaN data is for those rows without descriptions, and it contains the vectors converted from tags & title (bag of words)\n",
    "description_NaN2 = description_NaN.drop(['title_tags', 'title_tags_vector', 'Unnamed: 0'], axis = 1)\n",
    "description_NaN2.head(1)\n",
    "\n",
    "\n",
    "drop_col = []\n",
    "for i in range(25):\n",
    "  drop_col.append('d' + str(i))\n",
    "\n",
    "mergedf_null = mergedf_null.drop(drop_col, axis = 1)\n",
    "\n",
    "mergedf_null = pd.merge(mergedf_null, description_NaN2, left_on = [\"video_id\"], right_on = [\"video_id\"], how = 'left')"
   ]
  },
  {
   "cell_type": "code",
   "execution_count": 341,
   "metadata": {
    "colab": {
     "base_uri": "https://localhost:8080/",
     "height": 35
    },
    "colab_type": "code",
    "id": "Puvu8sM8P92c",
    "outputId": "367c8d4b-2d06-449d-c2d1-5677b2c43276"
   },
   "outputs": [
    {
     "data": {
      "text/plain": [
       "(16, 42)"
      ]
     },
     "execution_count": 341,
     "metadata": {
      "tags": []
     },
     "output_type": "execute_result"
    }
   ],
   "source": [
    "mergedf_null2 = mergedf_null.loc[mergedf_null['d0'].isnull(), ]\n",
    "mergedf_notnull2 = mergedf_null.loc[mergedf_null['d0'].notnull(), ]\n",
    "mergedf_null2.shape"
   ]
  },
  {
   "cell_type": "code",
   "execution_count": 342,
   "metadata": {
    "colab": {
     "base_uri": "https://localhost:8080/",
     "height": 88
    },
    "colab_type": "code",
    "id": "tRVfiw6CW3aP",
    "outputId": "d3323a3f-7041-4ae1-9b2a-f7803fbbec97"
   },
   "outputs": [
    {
     "data": {
      "text/plain": [
       "Index(['Unnamed: 0', 'video_id', 'd0', 'd1', 'd2', 'd3', 'd4', 'd5', 'd6',\n",
       "       'd7', 'd8', 'd9', 'd10', 'd11', 'd12', 'd13', 'd14', 'd15', 'd16',\n",
       "       'd17', 'd18', 'd19', 'd20', 'd21', 'd22', 'd23', 'd24'],\n",
       "      dtype='object')"
      ]
     },
     "execution_count": 342,
     "metadata": {
      "tags": []
     },
     "output_type": "execute_result"
    }
   ],
   "source": [
    "df_no_display.columns"
   ]
  },
  {
   "cell_type": "code",
   "execution_count": 0,
   "metadata": {
    "colab": {},
    "colab_type": "code",
    "id": "4Y8WU467KH6-"
   },
   "outputs": [],
   "source": [
    "df_no_display2 = df_no_display.drop(['Unnamed: 0'], axis = 1)\n",
    "df_no_display2 = df_no_display2.drop_duplicates(subset = ['video_id'])\n",
    "df_no_display2.head(1)\n",
    "\n",
    "\n",
    "drop_col = []\n",
    "for i in range(25):\n",
    "  drop_col.append('d' + str(i))\n",
    "\n",
    "mergedf_null2 = mergedf_null2.drop(drop_col, axis = 1)\n",
    "\n",
    "mergedf_null2 = pd.merge(mergedf_null2, df_no_display2, left_on = [\"video_id\"], right_on = [\"video_id\"], how = 'left')"
   ]
  },
  {
   "cell_type": "code",
   "execution_count": 344,
   "metadata": {
    "colab": {
     "base_uri": "https://localhost:8080/",
     "height": 35
    },
    "colab_type": "code",
    "id": "9kFibLnS5WM5",
    "outputId": "aeeb2852-eedb-4ab1-acb6-5a2ad7725504"
   },
   "outputs": [
    {
     "data": {
      "text/plain": [
       "(6250, 42)"
      ]
     },
     "execution_count": 344,
     "metadata": {
      "tags": []
     },
     "output_type": "execute_result"
    }
   ],
   "source": [
    "mergedf = pd.concat([mergedf_notnull, mergedf_notnull2, mergedf_null2], axis = 0)\n",
    "mergedf = mergedf.reset_index(drop=True)\n",
    "mergedf.shape"
   ]
  },
  {
   "cell_type": "code",
   "execution_count": 345,
   "metadata": {
    "colab": {
     "base_uri": "https://localhost:8080/",
     "height": 181
    },
    "colab_type": "code",
    "id": "sHM1haAwaacT",
    "outputId": "d3f071cc-5cb2-4073-e8af-26675346d85a"
   },
   "outputs": [
    {
     "data": {
      "text/html": [
       "<div>\n",
       "<style scoped>\n",
       "    .dataframe tbody tr th:only-of-type {\n",
       "        vertical-align: middle;\n",
       "    }\n",
       "\n",
       "    .dataframe tbody tr th {\n",
       "        vertical-align: top;\n",
       "    }\n",
       "\n",
       "    .dataframe thead th {\n",
       "        text-align: right;\n",
       "    }\n",
       "</style>\n",
       "<table border=\"1\" class=\"dataframe\">\n",
       "  <thead>\n",
       "    <tr style=\"text-align: right;\">\n",
       "      <th></th>\n",
       "      <th>video_id</th>\n",
       "      <th>trending_date</th>\n",
       "      <th>title</th>\n",
       "      <th>channel_title</th>\n",
       "      <th>category_id</th>\n",
       "      <th>tags</th>\n",
       "      <th>views</th>\n",
       "      <th>likes</th>\n",
       "      <th>dislikes</th>\n",
       "      <th>comment_count</th>\n",
       "      <th>thumbnail_link</th>\n",
       "      <th>comments_disabled</th>\n",
       "      <th>ratings_disabled</th>\n",
       "      <th>video_error_or_removed</th>\n",
       "      <th>description</th>\n",
       "      <th>publish_date</th>\n",
       "      <th>date_delta</th>\n",
       "      <th>d0</th>\n",
       "      <th>d1</th>\n",
       "      <th>d2</th>\n",
       "      <th>d3</th>\n",
       "      <th>d4</th>\n",
       "      <th>d5</th>\n",
       "      <th>d6</th>\n",
       "      <th>d7</th>\n",
       "      <th>d8</th>\n",
       "      <th>d9</th>\n",
       "      <th>d10</th>\n",
       "      <th>d11</th>\n",
       "      <th>d12</th>\n",
       "      <th>d13</th>\n",
       "      <th>d14</th>\n",
       "      <th>d15</th>\n",
       "      <th>d16</th>\n",
       "      <th>d17</th>\n",
       "      <th>d18</th>\n",
       "      <th>d19</th>\n",
       "      <th>d20</th>\n",
       "      <th>d21</th>\n",
       "      <th>d22</th>\n",
       "      <th>d23</th>\n",
       "      <th>d24</th>\n",
       "    </tr>\n",
       "  </thead>\n",
       "  <tbody>\n",
       "    <tr>\n",
       "      <th>0</th>\n",
       "      <td>-0CMnp02rNY</td>\n",
       "      <td>2018-06-06</td>\n",
       "      <td>Mindy Kaling's Daughter Had the Perfect Reacti...</td>\n",
       "      <td>TheEllenShow</td>\n",
       "      <td>24</td>\n",
       "      <td>ellen|\"ellen degeneres\"|\"the ellen show\"|\"elle...</td>\n",
       "      <td>475965</td>\n",
       "      <td>6531</td>\n",
       "      <td>172</td>\n",
       "      <td>271</td>\n",
       "      <td>https://i.ytimg.com/vi/-0CMnp02rNY/default.jpg</td>\n",
       "      <td>False</td>\n",
       "      <td>False</td>\n",
       "      <td>False</td>\n",
       "      <td>Ocean's 8 star Mindy Kaling dished on bringing...</td>\n",
       "      <td>2018-06-04</td>\n",
       "      <td>2</td>\n",
       "      <td>-0.161175</td>\n",
       "      <td>0.124738</td>\n",
       "      <td>0.175031</td>\n",
       "      <td>-0.003445</td>\n",
       "      <td>-0.017617</td>\n",
       "      <td>-0.032546</td>\n",
       "      <td>0.114659</td>\n",
       "      <td>-0.125688</td>\n",
       "      <td>-0.062131</td>\n",
       "      <td>-0.110315</td>\n",
       "      <td>0.002753</td>\n",
       "      <td>0.102883</td>\n",
       "      <td>-0.802276</td>\n",
       "      <td>0.012264</td>\n",
       "      <td>0.013673</td>\n",
       "      <td>-0.028617</td>\n",
       "      <td>0.127851</td>\n",
       "      <td>-0.111181</td>\n",
       "      <td>-0.010753</td>\n",
       "      <td>-0.055571</td>\n",
       "      <td>-0.004595</td>\n",
       "      <td>0.067133</td>\n",
       "      <td>0.018896</td>\n",
       "      <td>-0.065106</td>\n",
       "      <td>-0.05848</td>\n",
       "    </tr>\n",
       "  </tbody>\n",
       "</table>\n",
       "</div>"
      ],
      "text/plain": [
       "      video_id trending_date  \\\n",
       "0  -0CMnp02rNY    2018-06-06   \n",
       "\n",
       "                                               title channel_title  \\\n",
       "0  Mindy Kaling's Daughter Had the Perfect Reacti...  TheEllenShow   \n",
       "\n",
       "   category_id                                               tags   views  \\\n",
       "0           24  ellen|\"ellen degeneres\"|\"the ellen show\"|\"elle...  475965   \n",
       "\n",
       "   likes  dislikes  comment_count  \\\n",
       "0   6531       172            271   \n",
       "\n",
       "                                   thumbnail_link  comments_disabled  \\\n",
       "0  https://i.ytimg.com/vi/-0CMnp02rNY/default.jpg              False   \n",
       "\n",
       "   ratings_disabled  video_error_or_removed  \\\n",
       "0             False                   False   \n",
       "\n",
       "                                         description publish_date  date_delta  \\\n",
       "0  Ocean's 8 star Mindy Kaling dished on bringing...   2018-06-04           2   \n",
       "\n",
       "         d0        d1        d2        d3        d4        d5        d6  \\\n",
       "0 -0.161175  0.124738  0.175031 -0.003445 -0.017617 -0.032546  0.114659   \n",
       "\n",
       "         d7        d8        d9       d10       d11       d12       d13  \\\n",
       "0 -0.125688 -0.062131 -0.110315  0.002753  0.102883 -0.802276  0.012264   \n",
       "\n",
       "        d14       d15       d16       d17       d18       d19       d20  \\\n",
       "0  0.013673 -0.028617  0.127851 -0.111181 -0.010753 -0.055571 -0.004595   \n",
       "\n",
       "        d21       d22       d23      d24  \n",
       "0  0.067133  0.018896 -0.065106 -0.05848  "
      ]
     },
     "execution_count": 345,
     "metadata": {
      "tags": []
     },
     "output_type": "execute_result"
    }
   ],
   "source": [
    "mergedf.head(1)"
   ]
  },
  {
   "cell_type": "markdown",
   "metadata": {
    "colab_type": "text",
    "id": "W3gzHRayCR2V"
   },
   "source": [
    "#### 2.4 Add Column: Count the appearance time of each video within 31 days"
   ]
  },
  {
   "cell_type": "code",
   "execution_count": 346,
   "metadata": {
    "colab": {
     "base_uri": "https://localhost:8080/",
     "height": 181
    },
    "colab_type": "code",
    "id": "S4j8b3iDoH_Y",
    "outputId": "69e29352-8c3b-4906-ce44-3144df49a40d"
   },
   "outputs": [
    {
     "data": {
      "text/html": [
       "<div>\n",
       "<style scoped>\n",
       "    .dataframe tbody tr th:only-of-type {\n",
       "        vertical-align: middle;\n",
       "    }\n",
       "\n",
       "    .dataframe tbody tr th {\n",
       "        vertical-align: top;\n",
       "    }\n",
       "\n",
       "    .dataframe thead th {\n",
       "        text-align: right;\n",
       "    }\n",
       "</style>\n",
       "<table border=\"1\" class=\"dataframe\">\n",
       "  <thead>\n",
       "    <tr style=\"text-align: right;\">\n",
       "      <th></th>\n",
       "      <th>video_id</th>\n",
       "      <th>trending_date</th>\n",
       "      <th>title</th>\n",
       "      <th>channel_title</th>\n",
       "      <th>category_id</th>\n",
       "      <th>tags</th>\n",
       "      <th>views</th>\n",
       "      <th>likes</th>\n",
       "      <th>dislikes</th>\n",
       "      <th>comment_count</th>\n",
       "      <th>thumbnail_link</th>\n",
       "      <th>comments_disabled</th>\n",
       "      <th>ratings_disabled</th>\n",
       "      <th>video_error_or_removed</th>\n",
       "      <th>description</th>\n",
       "      <th>publish_date</th>\n",
       "      <th>date_delta</th>\n",
       "      <th>d0</th>\n",
       "      <th>d1</th>\n",
       "      <th>d2</th>\n",
       "      <th>d3</th>\n",
       "      <th>d4</th>\n",
       "      <th>d5</th>\n",
       "      <th>d6</th>\n",
       "      <th>d7</th>\n",
       "      <th>d8</th>\n",
       "      <th>d9</th>\n",
       "      <th>d10</th>\n",
       "      <th>d11</th>\n",
       "      <th>d12</th>\n",
       "      <th>d13</th>\n",
       "      <th>d14</th>\n",
       "      <th>d15</th>\n",
       "      <th>d16</th>\n",
       "      <th>d17</th>\n",
       "      <th>d18</th>\n",
       "      <th>d19</th>\n",
       "      <th>d20</th>\n",
       "      <th>d21</th>\n",
       "      <th>d22</th>\n",
       "      <th>d23</th>\n",
       "      <th>d24</th>\n",
       "      <th>app_time</th>\n",
       "    </tr>\n",
       "  </thead>\n",
       "  <tbody>\n",
       "    <tr>\n",
       "      <th>0</th>\n",
       "      <td>-0CMnp02rNY</td>\n",
       "      <td>2018-06-06</td>\n",
       "      <td>Mindy Kaling's Daughter Had the Perfect Reacti...</td>\n",
       "      <td>TheEllenShow</td>\n",
       "      <td>24</td>\n",
       "      <td>ellen|\"ellen degeneres\"|\"the ellen show\"|\"elle...</td>\n",
       "      <td>475965</td>\n",
       "      <td>6531</td>\n",
       "      <td>172</td>\n",
       "      <td>271</td>\n",
       "      <td>https://i.ytimg.com/vi/-0CMnp02rNY/default.jpg</td>\n",
       "      <td>False</td>\n",
       "      <td>False</td>\n",
       "      <td>False</td>\n",
       "      <td>Ocean's 8 star Mindy Kaling dished on bringing...</td>\n",
       "      <td>2018-06-04</td>\n",
       "      <td>2</td>\n",
       "      <td>-0.161175</td>\n",
       "      <td>0.124738</td>\n",
       "      <td>0.175031</td>\n",
       "      <td>-0.003445</td>\n",
       "      <td>-0.017617</td>\n",
       "      <td>-0.032546</td>\n",
       "      <td>0.114659</td>\n",
       "      <td>-0.125688</td>\n",
       "      <td>-0.062131</td>\n",
       "      <td>-0.110315</td>\n",
       "      <td>0.002753</td>\n",
       "      <td>0.102883</td>\n",
       "      <td>-0.802276</td>\n",
       "      <td>0.012264</td>\n",
       "      <td>0.013673</td>\n",
       "      <td>-0.028617</td>\n",
       "      <td>0.127851</td>\n",
       "      <td>-0.111181</td>\n",
       "      <td>-0.010753</td>\n",
       "      <td>-0.055571</td>\n",
       "      <td>-0.004595</td>\n",
       "      <td>0.067133</td>\n",
       "      <td>0.018896</td>\n",
       "      <td>-0.065106</td>\n",
       "      <td>-0.05848</td>\n",
       "      <td>6</td>\n",
       "    </tr>\n",
       "  </tbody>\n",
       "</table>\n",
       "</div>"
      ],
      "text/plain": [
       "      video_id trending_date  \\\n",
       "0  -0CMnp02rNY    2018-06-06   \n",
       "\n",
       "                                               title channel_title  \\\n",
       "0  Mindy Kaling's Daughter Had the Perfect Reacti...  TheEllenShow   \n",
       "\n",
       "   category_id                                               tags   views  \\\n",
       "0           24  ellen|\"ellen degeneres\"|\"the ellen show\"|\"elle...  475965   \n",
       "\n",
       "   likes  dislikes  comment_count  \\\n",
       "0   6531       172            271   \n",
       "\n",
       "                                   thumbnail_link  comments_disabled  \\\n",
       "0  https://i.ytimg.com/vi/-0CMnp02rNY/default.jpg              False   \n",
       "\n",
       "   ratings_disabled  video_error_or_removed  \\\n",
       "0             False                   False   \n",
       "\n",
       "                                         description publish_date  date_delta  \\\n",
       "0  Ocean's 8 star Mindy Kaling dished on bringing...   2018-06-04           2   \n",
       "\n",
       "         d0        d1        d2        d3        d4        d5        d6  \\\n",
       "0 -0.161175  0.124738  0.175031 -0.003445 -0.017617 -0.032546  0.114659   \n",
       "\n",
       "         d7        d8        d9       d10       d11       d12       d13  \\\n",
       "0 -0.125688 -0.062131 -0.110315  0.002753  0.102883 -0.802276  0.012264   \n",
       "\n",
       "        d14       d15       d16       d17       d18       d19       d20  \\\n",
       "0  0.013673 -0.028617  0.127851 -0.111181 -0.010753 -0.055571 -0.004595   \n",
       "\n",
       "        d21       d22       d23      d24  app_time  \n",
       "0  0.067133  0.018896 -0.065106 -0.05848         6  "
      ]
     },
     "execution_count": 346,
     "metadata": {
      "tags": []
     },
     "output_type": "execute_result"
    }
   ],
   "source": [
    "first_trend_df2 = mergedf\n",
    "appearance_time = USvideos2.groupby('video_id')['trending_date'].nunique()\n",
    "first_trend_df2['app_time'] = first_trend_df2['video_id'].map(lambda x: appearance_time[x])\n",
    "first_trend_df2.head(1)"
   ]
  },
  {
   "cell_type": "markdown",
   "metadata": {
    "colab_type": "text",
    "id": "r--0vTMjDNCb"
   },
   "source": [
    "### 2.5 Add Column: Count the number of tags"
   ]
  },
  {
   "cell_type": "code",
   "execution_count": 347,
   "metadata": {
    "colab": {
     "base_uri": "https://localhost:8080/",
     "height": 181
    },
    "colab_type": "code",
    "id": "s7kSWwlboIBT",
    "outputId": "a7f12b13-1958-4379-8595-7b77c5d3de13"
   },
   "outputs": [
    {
     "data": {
      "text/html": [
       "<div>\n",
       "<style scoped>\n",
       "    .dataframe tbody tr th:only-of-type {\n",
       "        vertical-align: middle;\n",
       "    }\n",
       "\n",
       "    .dataframe tbody tr th {\n",
       "        vertical-align: top;\n",
       "    }\n",
       "\n",
       "    .dataframe thead th {\n",
       "        text-align: right;\n",
       "    }\n",
       "</style>\n",
       "<table border=\"1\" class=\"dataframe\">\n",
       "  <thead>\n",
       "    <tr style=\"text-align: right;\">\n",
       "      <th></th>\n",
       "      <th>video_id</th>\n",
       "      <th>trending_date</th>\n",
       "      <th>title</th>\n",
       "      <th>channel_title</th>\n",
       "      <th>category_id</th>\n",
       "      <th>tags</th>\n",
       "      <th>views</th>\n",
       "      <th>likes</th>\n",
       "      <th>dislikes</th>\n",
       "      <th>comment_count</th>\n",
       "      <th>thumbnail_link</th>\n",
       "      <th>comments_disabled</th>\n",
       "      <th>ratings_disabled</th>\n",
       "      <th>video_error_or_removed</th>\n",
       "      <th>description</th>\n",
       "      <th>publish_date</th>\n",
       "      <th>date_delta</th>\n",
       "      <th>d0</th>\n",
       "      <th>d1</th>\n",
       "      <th>d2</th>\n",
       "      <th>d3</th>\n",
       "      <th>d4</th>\n",
       "      <th>d5</th>\n",
       "      <th>d6</th>\n",
       "      <th>d7</th>\n",
       "      <th>d8</th>\n",
       "      <th>d9</th>\n",
       "      <th>d10</th>\n",
       "      <th>d11</th>\n",
       "      <th>d12</th>\n",
       "      <th>d13</th>\n",
       "      <th>d14</th>\n",
       "      <th>d15</th>\n",
       "      <th>d16</th>\n",
       "      <th>d17</th>\n",
       "      <th>d18</th>\n",
       "      <th>d19</th>\n",
       "      <th>d20</th>\n",
       "      <th>d21</th>\n",
       "      <th>d22</th>\n",
       "      <th>d23</th>\n",
       "      <th>d24</th>\n",
       "      <th>app_time</th>\n",
       "      <th>tags2</th>\n",
       "      <th>tagsLength</th>\n",
       "    </tr>\n",
       "  </thead>\n",
       "  <tbody>\n",
       "    <tr>\n",
       "      <th>0</th>\n",
       "      <td>-0CMnp02rNY</td>\n",
       "      <td>2018-06-06</td>\n",
       "      <td>Mindy Kaling's Daughter Had the Perfect Reacti...</td>\n",
       "      <td>TheEllenShow</td>\n",
       "      <td>24</td>\n",
       "      <td>ellen|\"ellen degeneres\"|\"the ellen show\"|\"elle...</td>\n",
       "      <td>475965</td>\n",
       "      <td>6531</td>\n",
       "      <td>172</td>\n",
       "      <td>271</td>\n",
       "      <td>https://i.ytimg.com/vi/-0CMnp02rNY/default.jpg</td>\n",
       "      <td>False</td>\n",
       "      <td>False</td>\n",
       "      <td>False</td>\n",
       "      <td>Ocean's 8 star Mindy Kaling dished on bringing...</td>\n",
       "      <td>2018-06-04</td>\n",
       "      <td>2</td>\n",
       "      <td>-0.161175</td>\n",
       "      <td>0.124738</td>\n",
       "      <td>0.175031</td>\n",
       "      <td>-0.003445</td>\n",
       "      <td>-0.017617</td>\n",
       "      <td>-0.032546</td>\n",
       "      <td>0.114659</td>\n",
       "      <td>-0.125688</td>\n",
       "      <td>-0.062131</td>\n",
       "      <td>-0.110315</td>\n",
       "      <td>0.002753</td>\n",
       "      <td>0.102883</td>\n",
       "      <td>-0.802276</td>\n",
       "      <td>0.012264</td>\n",
       "      <td>0.013673</td>\n",
       "      <td>-0.028617</td>\n",
       "      <td>0.127851</td>\n",
       "      <td>-0.111181</td>\n",
       "      <td>-0.010753</td>\n",
       "      <td>-0.055571</td>\n",
       "      <td>-0.004595</td>\n",
       "      <td>0.067133</td>\n",
       "      <td>0.018896</td>\n",
       "      <td>-0.065106</td>\n",
       "      <td>-0.05848</td>\n",
       "      <td>6</td>\n",
       "      <td>[ellen, \"ellen degeneres\", \"the ellen show\", \"...</td>\n",
       "      <td>33</td>\n",
       "    </tr>\n",
       "  </tbody>\n",
       "</table>\n",
       "</div>"
      ],
      "text/plain": [
       "      video_id trending_date  \\\n",
       "0  -0CMnp02rNY    2018-06-06   \n",
       "\n",
       "                                               title channel_title  \\\n",
       "0  Mindy Kaling's Daughter Had the Perfect Reacti...  TheEllenShow   \n",
       "\n",
       "   category_id                                               tags   views  \\\n",
       "0           24  ellen|\"ellen degeneres\"|\"the ellen show\"|\"elle...  475965   \n",
       "\n",
       "   likes  dislikes  comment_count  \\\n",
       "0   6531       172            271   \n",
       "\n",
       "                                   thumbnail_link  comments_disabled  \\\n",
       "0  https://i.ytimg.com/vi/-0CMnp02rNY/default.jpg              False   \n",
       "\n",
       "   ratings_disabled  video_error_or_removed  \\\n",
       "0             False                   False   \n",
       "\n",
       "                                         description publish_date  date_delta  \\\n",
       "0  Ocean's 8 star Mindy Kaling dished on bringing...   2018-06-04           2   \n",
       "\n",
       "         d0        d1        d2        d3        d4        d5        d6  \\\n",
       "0 -0.161175  0.124738  0.175031 -0.003445 -0.017617 -0.032546  0.114659   \n",
       "\n",
       "         d7        d8        d9       d10       d11       d12       d13  \\\n",
       "0 -0.125688 -0.062131 -0.110315  0.002753  0.102883 -0.802276  0.012264   \n",
       "\n",
       "        d14       d15       d16       d17       d18       d19       d20  \\\n",
       "0  0.013673 -0.028617  0.127851 -0.111181 -0.010753 -0.055571 -0.004595   \n",
       "\n",
       "        d21       d22       d23      d24  app_time  \\\n",
       "0  0.067133  0.018896 -0.065106 -0.05848         6   \n",
       "\n",
       "                                               tags2  tagsLength  \n",
       "0  [ellen, \"ellen degeneres\", \"the ellen show\", \"...          33  "
      ]
     },
     "execution_count": 347,
     "metadata": {
      "tags": []
     },
     "output_type": "execute_result"
    }
   ],
   "source": [
    "first_trend_df2['tags2'] = [tag.split(\"|\") for tag in first_trend_df['tags']]\n",
    "first_trend_df2['tagsLength'] = first_trend_df2['tags2'].apply(len)\n",
    "first_trend_df2.head(1)"
   ]
  },
  {
   "cell_type": "markdown",
   "metadata": {
    "colab_type": "text",
    "id": "UIjQfKLUDcV7"
   },
   "source": [
    "### 2.6 Process Category ID\n",
    "#### 2.6.1 Category ID to Category Name"
   ]
  },
  {
   "cell_type": "code",
   "execution_count": 348,
   "metadata": {
    "colab": {
     "base_uri": "https://localhost:8080/",
     "height": 586
    },
    "colab_type": "code",
    "id": "5LDgg07VDqXN",
    "outputId": "ff90e316-d1d5-4592-b6a2-0ee8097b74b1"
   },
   "outputs": [
    {
     "data": {
      "text/plain": [
       "{1: 'Film & Animation',\n",
       " 2: 'Autos & Vehicles',\n",
       " 10: 'Music',\n",
       " 15: 'Pets & Animals',\n",
       " 17: 'Sports',\n",
       " 18: 'Short Movies',\n",
       " 19: 'Travel & Events',\n",
       " 20: 'Gaming',\n",
       " 21: 'Videoblogging',\n",
       " 22: 'People & Blogs',\n",
       " 23: 'Comedy',\n",
       " 24: 'Entertainment',\n",
       " 25: 'News & Politics',\n",
       " 26: 'Howto & Style',\n",
       " 27: 'Education',\n",
       " 28: 'Science & Technology',\n",
       " 29: 'Nonprofits & Activism',\n",
       " 30: 'Movies',\n",
       " 31: 'Anime/Animation',\n",
       " 32: 'Action/Adventure',\n",
       " 33: 'Classics',\n",
       " 34: 'Comedy',\n",
       " 35: 'Documentary',\n",
       " 36: 'Drama',\n",
       " 37: 'Family',\n",
       " 38: 'Foreign',\n",
       " 39: 'Horror',\n",
       " 40: 'Sci-Fi/Fantasy',\n",
       " 41: 'Thriller',\n",
       " 42: 'Shorts',\n",
       " 43: 'Shows',\n",
       " 44: 'Trailers'}"
      ]
     },
     "execution_count": 348,
     "metadata": {
      "tags": []
     },
     "output_type": "execute_result"
    }
   ],
   "source": [
    "categories = {int(category['id']): category['snippet']['title'] for category in UScat['items']}\n",
    "catDict = {}\n",
    "counter = 0\n",
    "for k,v in categories.items():\n",
    "    catDict[k] = v\n",
    "    counter += 1\n",
    "catDict"
   ]
  },
  {
   "cell_type": "code",
   "execution_count": 349,
   "metadata": {
    "colab": {
     "base_uri": "https://localhost:8080/",
     "height": 181
    },
    "colab_type": "code",
    "id": "bqsPOlCNDqZ2",
    "outputId": "079aa642-7e8d-443b-a067-112d5baaf058"
   },
   "outputs": [
    {
     "data": {
      "text/html": [
       "<div>\n",
       "<style scoped>\n",
       "    .dataframe tbody tr th:only-of-type {\n",
       "        vertical-align: middle;\n",
       "    }\n",
       "\n",
       "    .dataframe tbody tr th {\n",
       "        vertical-align: top;\n",
       "    }\n",
       "\n",
       "    .dataframe thead th {\n",
       "        text-align: right;\n",
       "    }\n",
       "</style>\n",
       "<table border=\"1\" class=\"dataframe\">\n",
       "  <thead>\n",
       "    <tr style=\"text-align: right;\">\n",
       "      <th></th>\n",
       "      <th>video_id</th>\n",
       "      <th>trending_date</th>\n",
       "      <th>title</th>\n",
       "      <th>channel_title</th>\n",
       "      <th>category_id</th>\n",
       "      <th>tags</th>\n",
       "      <th>views</th>\n",
       "      <th>likes</th>\n",
       "      <th>dislikes</th>\n",
       "      <th>comment_count</th>\n",
       "      <th>thumbnail_link</th>\n",
       "      <th>comments_disabled</th>\n",
       "      <th>ratings_disabled</th>\n",
       "      <th>video_error_or_removed</th>\n",
       "      <th>description</th>\n",
       "      <th>publish_date</th>\n",
       "      <th>date_delta</th>\n",
       "      <th>d0</th>\n",
       "      <th>d1</th>\n",
       "      <th>d2</th>\n",
       "      <th>d3</th>\n",
       "      <th>d4</th>\n",
       "      <th>d5</th>\n",
       "      <th>d6</th>\n",
       "      <th>d7</th>\n",
       "      <th>d8</th>\n",
       "      <th>d9</th>\n",
       "      <th>d10</th>\n",
       "      <th>d11</th>\n",
       "      <th>d12</th>\n",
       "      <th>d13</th>\n",
       "      <th>d14</th>\n",
       "      <th>d15</th>\n",
       "      <th>d16</th>\n",
       "      <th>d17</th>\n",
       "      <th>d18</th>\n",
       "      <th>d19</th>\n",
       "      <th>d20</th>\n",
       "      <th>d21</th>\n",
       "      <th>d22</th>\n",
       "      <th>d23</th>\n",
       "      <th>d24</th>\n",
       "      <th>app_time</th>\n",
       "      <th>tags2</th>\n",
       "      <th>tagsLength</th>\n",
       "      <th>category</th>\n",
       "    </tr>\n",
       "  </thead>\n",
       "  <tbody>\n",
       "    <tr>\n",
       "      <th>0</th>\n",
       "      <td>-0CMnp02rNY</td>\n",
       "      <td>2018-06-06</td>\n",
       "      <td>Mindy Kaling's Daughter Had the Perfect Reacti...</td>\n",
       "      <td>TheEllenShow</td>\n",
       "      <td>24</td>\n",
       "      <td>ellen|\"ellen degeneres\"|\"the ellen show\"|\"elle...</td>\n",
       "      <td>475965</td>\n",
       "      <td>6531</td>\n",
       "      <td>172</td>\n",
       "      <td>271</td>\n",
       "      <td>https://i.ytimg.com/vi/-0CMnp02rNY/default.jpg</td>\n",
       "      <td>False</td>\n",
       "      <td>False</td>\n",
       "      <td>False</td>\n",
       "      <td>Ocean's 8 star Mindy Kaling dished on bringing...</td>\n",
       "      <td>2018-06-04</td>\n",
       "      <td>2</td>\n",
       "      <td>-0.161175</td>\n",
       "      <td>0.124738</td>\n",
       "      <td>0.175031</td>\n",
       "      <td>-0.003445</td>\n",
       "      <td>-0.017617</td>\n",
       "      <td>-0.032546</td>\n",
       "      <td>0.114659</td>\n",
       "      <td>-0.125688</td>\n",
       "      <td>-0.062131</td>\n",
       "      <td>-0.110315</td>\n",
       "      <td>0.002753</td>\n",
       "      <td>0.102883</td>\n",
       "      <td>-0.802276</td>\n",
       "      <td>0.012264</td>\n",
       "      <td>0.013673</td>\n",
       "      <td>-0.028617</td>\n",
       "      <td>0.127851</td>\n",
       "      <td>-0.111181</td>\n",
       "      <td>-0.010753</td>\n",
       "      <td>-0.055571</td>\n",
       "      <td>-0.004595</td>\n",
       "      <td>0.067133</td>\n",
       "      <td>0.018896</td>\n",
       "      <td>-0.065106</td>\n",
       "      <td>-0.05848</td>\n",
       "      <td>6</td>\n",
       "      <td>[ellen, \"ellen degeneres\", \"the ellen show\", \"...</td>\n",
       "      <td>33</td>\n",
       "      <td>Entertainment</td>\n",
       "    </tr>\n",
       "  </tbody>\n",
       "</table>\n",
       "</div>"
      ],
      "text/plain": [
       "      video_id trending_date  \\\n",
       "0  -0CMnp02rNY    2018-06-06   \n",
       "\n",
       "                                               title channel_title  \\\n",
       "0  Mindy Kaling's Daughter Had the Perfect Reacti...  TheEllenShow   \n",
       "\n",
       "   category_id                                               tags   views  \\\n",
       "0           24  ellen|\"ellen degeneres\"|\"the ellen show\"|\"elle...  475965   \n",
       "\n",
       "   likes  dislikes  comment_count  \\\n",
       "0   6531       172            271   \n",
       "\n",
       "                                   thumbnail_link  comments_disabled  \\\n",
       "0  https://i.ytimg.com/vi/-0CMnp02rNY/default.jpg              False   \n",
       "\n",
       "   ratings_disabled  video_error_or_removed  \\\n",
       "0             False                   False   \n",
       "\n",
       "                                         description publish_date  date_delta  \\\n",
       "0  Ocean's 8 star Mindy Kaling dished on bringing...   2018-06-04           2   \n",
       "\n",
       "         d0        d1        d2        d3        d4        d5        d6  \\\n",
       "0 -0.161175  0.124738  0.175031 -0.003445 -0.017617 -0.032546  0.114659   \n",
       "\n",
       "         d7        d8        d9       d10       d11       d12       d13  \\\n",
       "0 -0.125688 -0.062131 -0.110315  0.002753  0.102883 -0.802276  0.012264   \n",
       "\n",
       "        d14       d15       d16       d17       d18       d19       d20  \\\n",
       "0  0.013673 -0.028617  0.127851 -0.111181 -0.010753 -0.055571 -0.004595   \n",
       "\n",
       "        d21       d22       d23      d24  app_time  \\\n",
       "0  0.067133  0.018896 -0.065106 -0.05848         6   \n",
       "\n",
       "                                               tags2  tagsLength  \\\n",
       "0  [ellen, \"ellen degeneres\", \"the ellen show\", \"...          33   \n",
       "\n",
       "        category  \n",
       "0  Entertainment  "
      ]
     },
     "execution_count": 349,
     "metadata": {
      "tags": []
     },
     "output_type": "execute_result"
    }
   ],
   "source": [
    "first_trend_df2['category'] = first_trend_df2['category_id'].map(lambda x: catDict[x])\n",
    "first_trend_df2.head(1)"
   ]
  },
  {
   "cell_type": "markdown",
   "metadata": {
    "colab_type": "text",
    "id": "hScVsOmdD33t"
   },
   "source": [
    "#### 2.6.2 Convert Category to Dummy Variables"
   ]
  },
  {
   "cell_type": "code",
   "execution_count": 0,
   "metadata": {
    "colab": {},
    "colab_type": "code",
    "id": "P3QEnYihDqcL"
   },
   "outputs": [],
   "source": [
    "dummy_category = pd.get_dummies(first_trend_df2['category'])"
   ]
  },
  {
   "cell_type": "code",
   "execution_count": 351,
   "metadata": {
    "colab": {
     "base_uri": "https://localhost:8080/",
     "height": 215
    },
    "colab_type": "code",
    "id": "tCmtMwHBDqet",
    "outputId": "ab51b85a-762c-4dba-84b3-13211eb78158"
   },
   "outputs": [
    {
     "data": {
      "text/html": [
       "<div>\n",
       "<style scoped>\n",
       "    .dataframe tbody tr th:only-of-type {\n",
       "        vertical-align: middle;\n",
       "    }\n",
       "\n",
       "    .dataframe tbody tr th {\n",
       "        vertical-align: top;\n",
       "    }\n",
       "\n",
       "    .dataframe thead th {\n",
       "        text-align: right;\n",
       "    }\n",
       "</style>\n",
       "<table border=\"1\" class=\"dataframe\">\n",
       "  <thead>\n",
       "    <tr style=\"text-align: right;\">\n",
       "      <th></th>\n",
       "      <th>video_id</th>\n",
       "      <th>trending_date</th>\n",
       "      <th>title</th>\n",
       "      <th>channel_title</th>\n",
       "      <th>category_id</th>\n",
       "      <th>tags</th>\n",
       "      <th>views</th>\n",
       "      <th>likes</th>\n",
       "      <th>dislikes</th>\n",
       "      <th>comment_count</th>\n",
       "      <th>thumbnail_link</th>\n",
       "      <th>comments_disabled</th>\n",
       "      <th>ratings_disabled</th>\n",
       "      <th>video_error_or_removed</th>\n",
       "      <th>description</th>\n",
       "      <th>publish_date</th>\n",
       "      <th>date_delta</th>\n",
       "      <th>d0</th>\n",
       "      <th>d1</th>\n",
       "      <th>d2</th>\n",
       "      <th>d3</th>\n",
       "      <th>d4</th>\n",
       "      <th>d5</th>\n",
       "      <th>d6</th>\n",
       "      <th>d7</th>\n",
       "      <th>d8</th>\n",
       "      <th>d9</th>\n",
       "      <th>d10</th>\n",
       "      <th>d11</th>\n",
       "      <th>d12</th>\n",
       "      <th>d13</th>\n",
       "      <th>d14</th>\n",
       "      <th>d15</th>\n",
       "      <th>d16</th>\n",
       "      <th>d17</th>\n",
       "      <th>d18</th>\n",
       "      <th>d19</th>\n",
       "      <th>d20</th>\n",
       "      <th>d21</th>\n",
       "      <th>d22</th>\n",
       "      <th>d23</th>\n",
       "      <th>d24</th>\n",
       "      <th>app_time</th>\n",
       "      <th>tags2</th>\n",
       "      <th>tagsLength</th>\n",
       "      <th>category</th>\n",
       "      <th>Autos &amp; Vehicles</th>\n",
       "      <th>Comedy</th>\n",
       "      <th>Education</th>\n",
       "      <th>Entertainment</th>\n",
       "      <th>Film &amp; Animation</th>\n",
       "      <th>Gaming</th>\n",
       "      <th>Howto &amp; Style</th>\n",
       "      <th>Music</th>\n",
       "      <th>News &amp; Politics</th>\n",
       "      <th>Nonprofits &amp; Activism</th>\n",
       "      <th>People &amp; Blogs</th>\n",
       "      <th>Pets &amp; Animals</th>\n",
       "      <th>Science &amp; Technology</th>\n",
       "      <th>Shows</th>\n",
       "      <th>Sports</th>\n",
       "      <th>Travel &amp; Events</th>\n",
       "    </tr>\n",
       "  </thead>\n",
       "  <tbody>\n",
       "    <tr>\n",
       "      <th>0</th>\n",
       "      <td>-0CMnp02rNY</td>\n",
       "      <td>2018-06-06</td>\n",
       "      <td>Mindy Kaling's Daughter Had the Perfect Reacti...</td>\n",
       "      <td>TheEllenShow</td>\n",
       "      <td>24</td>\n",
       "      <td>ellen|\"ellen degeneres\"|\"the ellen show\"|\"elle...</td>\n",
       "      <td>475965</td>\n",
       "      <td>6531</td>\n",
       "      <td>172</td>\n",
       "      <td>271</td>\n",
       "      <td>https://i.ytimg.com/vi/-0CMnp02rNY/default.jpg</td>\n",
       "      <td>False</td>\n",
       "      <td>False</td>\n",
       "      <td>False</td>\n",
       "      <td>Ocean's 8 star Mindy Kaling dished on bringing...</td>\n",
       "      <td>2018-06-04</td>\n",
       "      <td>2</td>\n",
       "      <td>-0.161175</td>\n",
       "      <td>0.124738</td>\n",
       "      <td>0.175031</td>\n",
       "      <td>-0.003445</td>\n",
       "      <td>-0.017617</td>\n",
       "      <td>-0.032546</td>\n",
       "      <td>0.114659</td>\n",
       "      <td>-0.125688</td>\n",
       "      <td>-0.062131</td>\n",
       "      <td>-0.110315</td>\n",
       "      <td>0.002753</td>\n",
       "      <td>0.102883</td>\n",
       "      <td>-0.802276</td>\n",
       "      <td>0.012264</td>\n",
       "      <td>0.013673</td>\n",
       "      <td>-0.028617</td>\n",
       "      <td>0.127851</td>\n",
       "      <td>-0.111181</td>\n",
       "      <td>-0.010753</td>\n",
       "      <td>-0.055571</td>\n",
       "      <td>-0.004595</td>\n",
       "      <td>0.067133</td>\n",
       "      <td>0.018896</td>\n",
       "      <td>-0.065106</td>\n",
       "      <td>-0.05848</td>\n",
       "      <td>6</td>\n",
       "      <td>[ellen, \"ellen degeneres\", \"the ellen show\", \"...</td>\n",
       "      <td>33</td>\n",
       "      <td>Entertainment</td>\n",
       "      <td>0</td>\n",
       "      <td>0</td>\n",
       "      <td>0</td>\n",
       "      <td>1</td>\n",
       "      <td>0</td>\n",
       "      <td>0</td>\n",
       "      <td>0</td>\n",
       "      <td>0</td>\n",
       "      <td>0</td>\n",
       "      <td>0</td>\n",
       "      <td>0</td>\n",
       "      <td>0</td>\n",
       "      <td>0</td>\n",
       "      <td>0</td>\n",
       "      <td>0</td>\n",
       "      <td>0</td>\n",
       "    </tr>\n",
       "  </tbody>\n",
       "</table>\n",
       "</div>"
      ],
      "text/plain": [
       "      video_id trending_date  \\\n",
       "0  -0CMnp02rNY    2018-06-06   \n",
       "\n",
       "                                               title channel_title  \\\n",
       "0  Mindy Kaling's Daughter Had the Perfect Reacti...  TheEllenShow   \n",
       "\n",
       "   category_id                                               tags   views  \\\n",
       "0           24  ellen|\"ellen degeneres\"|\"the ellen show\"|\"elle...  475965   \n",
       "\n",
       "   likes  dislikes  comment_count  \\\n",
       "0   6531       172            271   \n",
       "\n",
       "                                   thumbnail_link  comments_disabled  \\\n",
       "0  https://i.ytimg.com/vi/-0CMnp02rNY/default.jpg              False   \n",
       "\n",
       "   ratings_disabled  video_error_or_removed  \\\n",
       "0             False                   False   \n",
       "\n",
       "                                         description publish_date  date_delta  \\\n",
       "0  Ocean's 8 star Mindy Kaling dished on bringing...   2018-06-04           2   \n",
       "\n",
       "         d0        d1        d2        d3        d4        d5        d6  \\\n",
       "0 -0.161175  0.124738  0.175031 -0.003445 -0.017617 -0.032546  0.114659   \n",
       "\n",
       "         d7        d8        d9       d10       d11       d12       d13  \\\n",
       "0 -0.125688 -0.062131 -0.110315  0.002753  0.102883 -0.802276  0.012264   \n",
       "\n",
       "        d14       d15       d16       d17       d18       d19       d20  \\\n",
       "0  0.013673 -0.028617  0.127851 -0.111181 -0.010753 -0.055571 -0.004595   \n",
       "\n",
       "        d21       d22       d23      d24  app_time  \\\n",
       "0  0.067133  0.018896 -0.065106 -0.05848         6   \n",
       "\n",
       "                                               tags2  tagsLength  \\\n",
       "0  [ellen, \"ellen degeneres\", \"the ellen show\", \"...          33   \n",
       "\n",
       "        category  Autos & Vehicles  Comedy  Education  Entertainment  \\\n",
       "0  Entertainment                 0       0          0              1   \n",
       "\n",
       "   Film & Animation  Gaming  Howto & Style  Music  News & Politics  \\\n",
       "0                 0       0              0      0                0   \n",
       "\n",
       "   Nonprofits & Activism  People & Blogs  Pets & Animals  \\\n",
       "0                      0               0               0   \n",
       "\n",
       "   Science & Technology  Shows  Sports  Travel & Events  \n",
       "0                     0      0       0                0  "
      ]
     },
     "execution_count": 351,
     "metadata": {
      "tags": []
     },
     "output_type": "execute_result"
    }
   ],
   "source": [
    "first_trend_df3 = pd.concat([first_trend_df2, dummy_category], axis=1)\n",
    "first_trend_df3.head(1)"
   ]
  },
  {
   "cell_type": "markdown",
   "metadata": {
    "colab_type": "text",
    "id": "nHP621Q9E5Vk"
   },
   "source": [
    "### 2.7 Hot Channels"
   ]
  },
  {
   "cell_type": "code",
   "execution_count": 352,
   "metadata": {
    "colab": {
     "base_uri": "https://localhost:8080/",
     "height": 215
    },
    "colab_type": "code",
    "id": "QsNjSh8pDqhN",
    "outputId": "fad70db7-e7a4-4f3e-8de6-3caa99483389"
   },
   "outputs": [
    {
     "data": {
      "text/html": [
       "<div>\n",
       "<style scoped>\n",
       "    .dataframe tbody tr th:only-of-type {\n",
       "        vertical-align: middle;\n",
       "    }\n",
       "\n",
       "    .dataframe tbody tr th {\n",
       "        vertical-align: top;\n",
       "    }\n",
       "\n",
       "    .dataframe thead th {\n",
       "        text-align: right;\n",
       "    }\n",
       "</style>\n",
       "<table border=\"1\" class=\"dataframe\">\n",
       "  <thead>\n",
       "    <tr style=\"text-align: right;\">\n",
       "      <th></th>\n",
       "      <th>video_id</th>\n",
       "      <th>trending_date</th>\n",
       "      <th>title</th>\n",
       "      <th>channel_title</th>\n",
       "      <th>category_id</th>\n",
       "      <th>tags</th>\n",
       "      <th>views</th>\n",
       "      <th>likes</th>\n",
       "      <th>dislikes</th>\n",
       "      <th>comment_count</th>\n",
       "      <th>thumbnail_link</th>\n",
       "      <th>comments_disabled</th>\n",
       "      <th>ratings_disabled</th>\n",
       "      <th>video_error_or_removed</th>\n",
       "      <th>description</th>\n",
       "      <th>publish_date</th>\n",
       "      <th>date_delta</th>\n",
       "      <th>d0</th>\n",
       "      <th>d1</th>\n",
       "      <th>d2</th>\n",
       "      <th>d3</th>\n",
       "      <th>d4</th>\n",
       "      <th>d5</th>\n",
       "      <th>d6</th>\n",
       "      <th>d7</th>\n",
       "      <th>d8</th>\n",
       "      <th>d9</th>\n",
       "      <th>d10</th>\n",
       "      <th>d11</th>\n",
       "      <th>d12</th>\n",
       "      <th>d13</th>\n",
       "      <th>d14</th>\n",
       "      <th>d15</th>\n",
       "      <th>d16</th>\n",
       "      <th>d17</th>\n",
       "      <th>d18</th>\n",
       "      <th>d19</th>\n",
       "      <th>d20</th>\n",
       "      <th>d21</th>\n",
       "      <th>d22</th>\n",
       "      <th>d23</th>\n",
       "      <th>d24</th>\n",
       "      <th>app_time</th>\n",
       "      <th>tags2</th>\n",
       "      <th>tagsLength</th>\n",
       "      <th>category</th>\n",
       "      <th>Autos &amp; Vehicles</th>\n",
       "      <th>Comedy</th>\n",
       "      <th>Education</th>\n",
       "      <th>Entertainment</th>\n",
       "      <th>Film &amp; Animation</th>\n",
       "      <th>Gaming</th>\n",
       "      <th>Howto &amp; Style</th>\n",
       "      <th>Music</th>\n",
       "      <th>News &amp; Politics</th>\n",
       "      <th>Nonprofits &amp; Activism</th>\n",
       "      <th>People &amp; Blogs</th>\n",
       "      <th>Pets &amp; Animals</th>\n",
       "      <th>Science &amp; Technology</th>\n",
       "      <th>Shows</th>\n",
       "      <th>Sports</th>\n",
       "      <th>Travel &amp; Events</th>\n",
       "      <th>top10Channel</th>\n",
       "      <th>top100Channel</th>\n",
       "      <th>top500Channel</th>\n",
       "    </tr>\n",
       "  </thead>\n",
       "  <tbody>\n",
       "    <tr>\n",
       "      <th>0</th>\n",
       "      <td>-0CMnp02rNY</td>\n",
       "      <td>2018-06-06</td>\n",
       "      <td>Mindy Kaling's Daughter Had the Perfect Reacti...</td>\n",
       "      <td>TheEllenShow</td>\n",
       "      <td>24</td>\n",
       "      <td>ellen|\"ellen degeneres\"|\"the ellen show\"|\"elle...</td>\n",
       "      <td>475965</td>\n",
       "      <td>6531</td>\n",
       "      <td>172</td>\n",
       "      <td>271</td>\n",
       "      <td>https://i.ytimg.com/vi/-0CMnp02rNY/default.jpg</td>\n",
       "      <td>False</td>\n",
       "      <td>False</td>\n",
       "      <td>False</td>\n",
       "      <td>Ocean's 8 star Mindy Kaling dished on bringing...</td>\n",
       "      <td>2018-06-04</td>\n",
       "      <td>2</td>\n",
       "      <td>-0.161175</td>\n",
       "      <td>0.124738</td>\n",
       "      <td>0.175031</td>\n",
       "      <td>-0.003445</td>\n",
       "      <td>-0.017617</td>\n",
       "      <td>-0.032546</td>\n",
       "      <td>0.114659</td>\n",
       "      <td>-0.125688</td>\n",
       "      <td>-0.062131</td>\n",
       "      <td>-0.110315</td>\n",
       "      <td>0.002753</td>\n",
       "      <td>0.102883</td>\n",
       "      <td>-0.802276</td>\n",
       "      <td>0.012264</td>\n",
       "      <td>0.013673</td>\n",
       "      <td>-0.028617</td>\n",
       "      <td>0.127851</td>\n",
       "      <td>-0.111181</td>\n",
       "      <td>-0.010753</td>\n",
       "      <td>-0.055571</td>\n",
       "      <td>-0.004595</td>\n",
       "      <td>0.067133</td>\n",
       "      <td>0.018896</td>\n",
       "      <td>-0.065106</td>\n",
       "      <td>-0.05848</td>\n",
       "      <td>6</td>\n",
       "      <td>[ellen, \"ellen degeneres\", \"the ellen show\", \"...</td>\n",
       "      <td>33</td>\n",
       "      <td>Entertainment</td>\n",
       "      <td>0</td>\n",
       "      <td>0</td>\n",
       "      <td>0</td>\n",
       "      <td>1</td>\n",
       "      <td>0</td>\n",
       "      <td>0</td>\n",
       "      <td>0</td>\n",
       "      <td>0</td>\n",
       "      <td>0</td>\n",
       "      <td>0</td>\n",
       "      <td>0</td>\n",
       "      <td>0</td>\n",
       "      <td>0</td>\n",
       "      <td>0</td>\n",
       "      <td>0</td>\n",
       "      <td>0</td>\n",
       "      <td>False</td>\n",
       "      <td>False</td>\n",
       "      <td>False</td>\n",
       "    </tr>\n",
       "  </tbody>\n",
       "</table>\n",
       "</div>"
      ],
      "text/plain": [
       "      video_id trending_date  \\\n",
       "0  -0CMnp02rNY    2018-06-06   \n",
       "\n",
       "                                               title channel_title  \\\n",
       "0  Mindy Kaling's Daughter Had the Perfect Reacti...  TheEllenShow   \n",
       "\n",
       "   category_id                                               tags   views  \\\n",
       "0           24  ellen|\"ellen degeneres\"|\"the ellen show\"|\"elle...  475965   \n",
       "\n",
       "   likes  dislikes  comment_count  \\\n",
       "0   6531       172            271   \n",
       "\n",
       "                                   thumbnail_link  comments_disabled  \\\n",
       "0  https://i.ytimg.com/vi/-0CMnp02rNY/default.jpg              False   \n",
       "\n",
       "   ratings_disabled  video_error_or_removed  \\\n",
       "0             False                   False   \n",
       "\n",
       "                                         description publish_date  date_delta  \\\n",
       "0  Ocean's 8 star Mindy Kaling dished on bringing...   2018-06-04           2   \n",
       "\n",
       "         d0        d1        d2        d3        d4        d5        d6  \\\n",
       "0 -0.161175  0.124738  0.175031 -0.003445 -0.017617 -0.032546  0.114659   \n",
       "\n",
       "         d7        d8        d9       d10       d11       d12       d13  \\\n",
       "0 -0.125688 -0.062131 -0.110315  0.002753  0.102883 -0.802276  0.012264   \n",
       "\n",
       "        d14       d15       d16       d17       d18       d19       d20  \\\n",
       "0  0.013673 -0.028617  0.127851 -0.111181 -0.010753 -0.055571 -0.004595   \n",
       "\n",
       "        d21       d22       d23      d24  app_time  \\\n",
       "0  0.067133  0.018896 -0.065106 -0.05848         6   \n",
       "\n",
       "                                               tags2  tagsLength  \\\n",
       "0  [ellen, \"ellen degeneres\", \"the ellen show\", \"...          33   \n",
       "\n",
       "        category  Autos & Vehicles  Comedy  Education  Entertainment  \\\n",
       "0  Entertainment                 0       0          0              1   \n",
       "\n",
       "   Film & Animation  Gaming  Howto & Style  Music  News & Politics  \\\n",
       "0                 0       0              0      0                0   \n",
       "\n",
       "   Nonprofits & Activism  People & Blogs  Pets & Animals  \\\n",
       "0                      0               0               0   \n",
       "\n",
       "   Science & Technology  Shows  Sports  Travel & Events  top10Channel  \\\n",
       "0                     0      0       0                0         False   \n",
       "\n",
       "   top100Channel  top500Channel  \n",
       "0          False          False  "
      ]
     },
     "execution_count": 352,
     "metadata": {
      "tags": []
     },
     "output_type": "execute_result"
    }
   ],
   "source": [
    "countChannel = {}\n",
    "for i in range(first_trend_df3.shape[0]):\n",
    "    channel = first_trend_df3['channel_title'][i]\n",
    "    countChannel[channel.lower()] = countChannel.get(channel.lower(), 0) + 1\n",
    "    \n",
    "top10Channel = Counter(countChannel).most_common()[:10]\n",
    "top10Channel = [x[0] for x in top10Channel]\n",
    "first_trend_df3['top10Channel'] = first_trend_df3['channel_title'].map(lambda x: x in top10Channel)\n",
    "\n",
    "top100Channel = Counter(countChannel).most_common()[:100]\n",
    "top100Channel = [x[0] for x in top100Channel]\n",
    "first_trend_df3['top100Channel'] = first_trend_df3['channel_title'].map(lambda x: x in top100Channel)\n",
    "\n",
    "top500Channel = Counter(countChannel).most_common()[:500]\n",
    "top500Channel = [x[0] for x in top500Channel]\n",
    "first_trend_df3['top500Channel'] = first_trend_df3['channel_title'].map(lambda x: x in top500Channel)\n",
    "\n",
    "first_trend_df3.head(1)"
   ]
  },
  {
   "cell_type": "markdown",
   "metadata": {
    "colab_type": "text",
    "id": "bGZewcsqGvTY"
   },
   "source": [
    "### 2.8 Sentimental Score: In **Progress**"
   ]
  },
  {
   "cell_type": "code",
   "execution_count": 0,
   "metadata": {
    "colab": {},
    "colab_type": "code",
    "id": "Z3gU2V7CDqq4"
   },
   "outputs": [],
   "source": []
  },
  {
   "cell_type": "markdown",
   "metadata": {
    "colab_type": "text",
    "id": "uPTgttG8a7-T"
   },
   "source": [
    "#### 2.9 Output CSV"
   ]
  },
  {
   "cell_type": "code",
   "execution_count": 0,
   "metadata": {
    "colab": {},
    "colab_type": "code",
    "id": "aw8P-P1rbBvU"
   },
   "outputs": [],
   "source": [
    "first_trend_df3.to_csv('first_trend_df.csv', sep=',', encoding='utf-8')"
   ]
  },
  {
   "cell_type": "code",
   "execution_count": 368,
   "metadata": {
    "colab": {
     "base_uri": "https://localhost:8080/",
     "height": 106
    },
    "colab_type": "code",
    "id": "AcNB7gKCikZs",
    "outputId": "f7abc172-1ba8-454a-89e8-403f6b614f3f"
   },
   "outputs": [
    {
     "name": "stdout",
     "output_type": "stream",
     "text": [
      "description_NaN.csv  simplified_sentence_vector2.csv\n",
      "df_no_display3.csv   simplified_sentence_vector3.txt\n",
      "first_trend_df.csv   US_category_id.json\n",
      "model_data.csv\t     USvideos.csv\n",
      "sample_data\n"
     ]
    }
   ],
   "source": [
    "! ls"
   ]
  },
  {
   "cell_type": "code",
   "execution_count": 0,
   "metadata": {
    "colab": {},
    "colab_type": "code",
    "id": "HLXkgjE1imcY"
   },
   "outputs": [],
   "source": [
    "files.download('first_trend_df.csv')"
   ]
  },
  {
   "cell_type": "markdown",
   "metadata": {
    "colab_type": "text",
    "id": "tDT3YULCaipF"
   },
   "source": [
    "### 3. Model Baseline (Random Forest)"
   ]
  },
  {
   "cell_type": "markdown",
   "metadata": {
    "colab_type": "text",
    "id": "6sUlRWmlarcH"
   },
   "source": [
    "#### 3.1 Create Model Data"
   ]
  },
  {
   "cell_type": "code",
   "execution_count": 354,
   "metadata": {
    "colab": {
     "base_uri": "https://localhost:8080/",
     "height": 248
    },
    "colab_type": "code",
    "id": "mtH0yQcTbO_I",
    "outputId": "6258e30b-7f02-4372-e59a-a20ff1af3598"
   },
   "outputs": [
    {
     "data": {
      "text/plain": [
       "Index(['video_id', 'trending_date', 'title', 'channel_title', 'category_id',\n",
       "       'tags', 'views', 'likes', 'dislikes', 'comment_count', 'thumbnail_link',\n",
       "       'comments_disabled', 'ratings_disabled', 'video_error_or_removed',\n",
       "       'description', 'publish_date', 'date_delta', 'd0', 'd1', 'd2', 'd3',\n",
       "       'd4', 'd5', 'd6', 'd7', 'd8', 'd9', 'd10', 'd11', 'd12', 'd13', 'd14',\n",
       "       'd15', 'd16', 'd17', 'd18', 'd19', 'd20', 'd21', 'd22', 'd23', 'd24',\n",
       "       'app_time', 'tags2', 'tagsLength', 'category', 'Autos & Vehicles',\n",
       "       'Comedy', 'Education', 'Entertainment', 'Film & Animation', 'Gaming',\n",
       "       'Howto & Style', 'Music', 'News & Politics', 'Nonprofits & Activism',\n",
       "       'People & Blogs', 'Pets & Animals', 'Science & Technology', 'Shows',\n",
       "       'Sports', 'Travel & Events', 'top10Channel', 'top100Channel',\n",
       "       'top500Channel'],\n",
       "      dtype='object')"
      ]
     },
     "execution_count": 354,
     "metadata": {
      "tags": []
     },
     "output_type": "execute_result"
    }
   ],
   "source": [
    "first_trend_df3.columns"
   ]
  },
  {
   "cell_type": "markdown",
   "metadata": {
    "colab_type": "text",
    "id": "ll5Wrn-bbjau"
   },
   "source": [
    "### 3.2 Classification Model: after first time on trending board, will the video be trending again within 31 days after published?\n",
    "\n",
    "#### 3.2.1 Split Train and Test Data"
   ]
  },
  {
   "cell_type": "code",
   "execution_count": 399,
   "metadata": {
    "colab": {
     "base_uri": "https://localhost:8080/",
     "height": 130
    },
    "colab_type": "code",
    "id": "UGTBCeSUDqto",
    "outputId": "2561ddfd-479c-4a12-b949-6379b93cf61c"
   },
   "outputs": [
    {
     "data": {
      "text/html": [
       "<div>\n",
       "<style scoped>\n",
       "    .dataframe tbody tr th:only-of-type {\n",
       "        vertical-align: middle;\n",
       "    }\n",
       "\n",
       "    .dataframe tbody tr th {\n",
       "        vertical-align: top;\n",
       "    }\n",
       "\n",
       "    .dataframe thead th {\n",
       "        text-align: right;\n",
       "    }\n",
       "</style>\n",
       "<table border=\"1\" class=\"dataframe\">\n",
       "  <thead>\n",
       "    <tr style=\"text-align: right;\">\n",
       "      <th></th>\n",
       "      <th>views</th>\n",
       "      <th>likes</th>\n",
       "      <th>dislikes</th>\n",
       "      <th>comment_count</th>\n",
       "      <th>comments_disabled</th>\n",
       "      <th>ratings_disabled</th>\n",
       "      <th>video_error_or_removed</th>\n",
       "      <th>date_delta</th>\n",
       "      <th>d0</th>\n",
       "      <th>d1</th>\n",
       "      <th>d2</th>\n",
       "      <th>d3</th>\n",
       "      <th>d4</th>\n",
       "      <th>d5</th>\n",
       "      <th>d6</th>\n",
       "      <th>d7</th>\n",
       "      <th>d8</th>\n",
       "      <th>d9</th>\n",
       "      <th>d10</th>\n",
       "      <th>d11</th>\n",
       "      <th>d12</th>\n",
       "      <th>d13</th>\n",
       "      <th>d14</th>\n",
       "      <th>d15</th>\n",
       "      <th>d16</th>\n",
       "      <th>d17</th>\n",
       "      <th>d18</th>\n",
       "      <th>d19</th>\n",
       "      <th>d20</th>\n",
       "      <th>d21</th>\n",
       "      <th>d22</th>\n",
       "      <th>d23</th>\n",
       "      <th>d24</th>\n",
       "      <th>tagsLength</th>\n",
       "      <th>Autos &amp; Vehicles</th>\n",
       "      <th>Comedy</th>\n",
       "      <th>Education</th>\n",
       "      <th>Entertainment</th>\n",
       "      <th>Film &amp; Animation</th>\n",
       "      <th>Gaming</th>\n",
       "      <th>Howto &amp; Style</th>\n",
       "      <th>Music</th>\n",
       "      <th>News &amp; Politics</th>\n",
       "      <th>Nonprofits &amp; Activism</th>\n",
       "      <th>People &amp; Blogs</th>\n",
       "      <th>Pets &amp; Animals</th>\n",
       "      <th>Science &amp; Technology</th>\n",
       "      <th>Shows</th>\n",
       "      <th>Sports</th>\n",
       "      <th>Travel &amp; Events</th>\n",
       "      <th>top10Channel</th>\n",
       "      <th>top100Channel</th>\n",
       "      <th>top500Channel</th>\n",
       "    </tr>\n",
       "  </thead>\n",
       "  <tbody>\n",
       "    <tr>\n",
       "      <th>0</th>\n",
       "      <td>475965</td>\n",
       "      <td>6531</td>\n",
       "      <td>172</td>\n",
       "      <td>271</td>\n",
       "      <td>False</td>\n",
       "      <td>False</td>\n",
       "      <td>False</td>\n",
       "      <td>2</td>\n",
       "      <td>-0.161175</td>\n",
       "      <td>0.124738</td>\n",
       "      <td>0.175031</td>\n",
       "      <td>-0.003445</td>\n",
       "      <td>-0.017617</td>\n",
       "      <td>-0.032546</td>\n",
       "      <td>0.114659</td>\n",
       "      <td>-0.125688</td>\n",
       "      <td>-0.062131</td>\n",
       "      <td>-0.110315</td>\n",
       "      <td>0.002753</td>\n",
       "      <td>0.102883</td>\n",
       "      <td>-0.802276</td>\n",
       "      <td>0.012264</td>\n",
       "      <td>0.013673</td>\n",
       "      <td>-0.028617</td>\n",
       "      <td>0.127851</td>\n",
       "      <td>-0.111181</td>\n",
       "      <td>-0.010753</td>\n",
       "      <td>-0.055571</td>\n",
       "      <td>-0.004595</td>\n",
       "      <td>0.067133</td>\n",
       "      <td>0.018896</td>\n",
       "      <td>-0.065106</td>\n",
       "      <td>-0.05848</td>\n",
       "      <td>33</td>\n",
       "      <td>0</td>\n",
       "      <td>0</td>\n",
       "      <td>0</td>\n",
       "      <td>1</td>\n",
       "      <td>0</td>\n",
       "      <td>0</td>\n",
       "      <td>0</td>\n",
       "      <td>0</td>\n",
       "      <td>0</td>\n",
       "      <td>0</td>\n",
       "      <td>0</td>\n",
       "      <td>0</td>\n",
       "      <td>0</td>\n",
       "      <td>0</td>\n",
       "      <td>0</td>\n",
       "      <td>0</td>\n",
       "      <td>False</td>\n",
       "      <td>False</td>\n",
       "      <td>False</td>\n",
       "    </tr>\n",
       "  </tbody>\n",
       "</table>\n",
       "</div>"
      ],
      "text/plain": [
       "    views  likes  dislikes  comment_count  comments_disabled  \\\n",
       "0  475965   6531       172            271              False   \n",
       "\n",
       "   ratings_disabled  video_error_or_removed  date_delta        d0        d1  \\\n",
       "0             False                   False           2 -0.161175  0.124738   \n",
       "\n",
       "         d2        d3        d4        d5        d6        d7        d8  \\\n",
       "0  0.175031 -0.003445 -0.017617 -0.032546  0.114659 -0.125688 -0.062131   \n",
       "\n",
       "         d9       d10       d11       d12       d13       d14       d15  \\\n",
       "0 -0.110315  0.002753  0.102883 -0.802276  0.012264  0.013673 -0.028617   \n",
       "\n",
       "        d16       d17       d18       d19       d20       d21       d22  \\\n",
       "0  0.127851 -0.111181 -0.010753 -0.055571 -0.004595  0.067133  0.018896   \n",
       "\n",
       "        d23      d24  tagsLength  Autos & Vehicles  Comedy  Education  \\\n",
       "0 -0.065106 -0.05848          33                 0       0          0   \n",
       "\n",
       "   Entertainment  Film & Animation  Gaming  Howto & Style  Music  \\\n",
       "0              1                 0       0              0      0   \n",
       "\n",
       "   News & Politics  Nonprofits & Activism  People & Blogs  Pets & Animals  \\\n",
       "0                0                      0               0               0   \n",
       "\n",
       "   Science & Technology  Shows  Sports  Travel & Events  top10Channel  \\\n",
       "0                     0      0       0                0         False   \n",
       "\n",
       "   top100Channel  top500Channel  \n",
       "0          False          False  "
      ]
     },
     "execution_count": 399,
     "metadata": {
      "tags": []
     },
     "output_type": "execute_result"
    }
   ],
   "source": [
    "X = first_trend_df3\n",
    "X = X.drop(['video_id', 'trending_date','title','channel_title','category_id','tags','thumbnail_link','description','publish_date','app_time','tags2','category'], axis = 1)\n",
    "y = first_trend_df3['app_time'] <= 1 ### 1 for only trending once within 31 days, 0 otherwise\n",
    "X.head(1)"
   ]
  },
  {
   "cell_type": "markdown",
   "metadata": {
    "colab_type": "text",
    "id": "vTZV9I81j226"
   },
   "source": [
    "Note that the classification is imbalanced:"
   ]
  },
  {
   "cell_type": "code",
   "execution_count": 400,
   "metadata": {
    "colab": {
     "base_uri": "https://localhost:8080/",
     "height": 35
    },
    "colab_type": "code",
    "id": "HRUSOQyIj1T9",
    "outputId": "dca523b1-e9dd-4bfa-ce5b-c642f3acc7d0"
   },
   "outputs": [
    {
     "name": "stdout",
     "output_type": "stream",
     "text": [
      "Number of Positive Case: 692 Number of Negative Case: 5558\n"
     ]
    }
   ],
   "source": [
    "n_pos = sum(y == 1)\n",
    "n_neg = sum(y == 0)\n",
    "print('Number of Positive Case:', n_pos, 'Number of Negative Case:', n_neg)"
   ]
  },
  {
   "cell_type": "code",
   "execution_count": 0,
   "metadata": {
    "colab": {},
    "colab_type": "code",
    "id": "DoW8faroDqvu"
   },
   "outputs": [],
   "source": [
    "np.random.seed(2018)\n",
    "X_train, X_test, y_train, y_test = train_test_split(X, y, test_size=0.2, random_state=42)"
   ]
  },
  {
   "cell_type": "code",
   "execution_count": 402,
   "metadata": {
    "colab": {
     "base_uri": "https://localhost:8080/",
     "height": 88
    },
    "colab_type": "code",
    "id": "v369m2L2Dqyq",
    "outputId": "5e120cbe-6ac9-4111-fff6-467214323484"
   },
   "outputs": [
    {
     "name": "stdout",
     "output_type": "stream",
     "text": [
      "Training Features Shape: (5000, 53)\n",
      "Training Labels Shape: (5000,)\n",
      "Testing Features Shape: (1250, 53)\n",
      "Testing Labels Shape: (1250,)\n"
     ]
    }
   ],
   "source": [
    "print('Training Features Shape:', X_train.shape)\n",
    "print('Training Labels Shape:',  y_train.shape)\n",
    "print('Testing Features Shape:', X_test.shape)\n",
    "print('Testing Labels Shape:', y_test.shape)"
   ]
  },
  {
   "cell_type": "markdown",
   "metadata": {
    "colab_type": "text",
    "id": "B5ByIBggkZbn"
   },
   "source": [
    "### 3.2.2 Train a Baseline Model (No Cross-Validation, No Tuning Parameter)"
   ]
  },
  {
   "cell_type": "code",
   "execution_count": 403,
   "metadata": {
    "colab": {
     "base_uri": "https://localhost:8080/",
     "height": 124
    },
    "colab_type": "code",
    "id": "opfGhmm_Dq0-",
    "outputId": "e4179721-b83b-4993-cf41-29e52e9ad068"
   },
   "outputs": [
    {
     "data": {
      "text/plain": [
       "RandomForestClassifier(bootstrap=True, class_weight=None, criterion='gini',\n",
       "            max_depth=None, max_features='auto', max_leaf_nodes=None,\n",
       "            min_impurity_decrease=0.0, min_impurity_split=None,\n",
       "            min_samples_leaf=1, min_samples_split=2,\n",
       "            min_weight_fraction_leaf=0.0, n_estimators=1000, n_jobs=1,\n",
       "            oob_score=False, random_state=42, verbose=0, warm_start=False)"
      ]
     },
     "execution_count": 403,
     "metadata": {
      "tags": []
     },
     "output_type": "execute_result"
    }
   ],
   "source": [
    "clf = RandomForestClassifier(n_estimators = 1000, random_state = 42)\n",
    "clf.fit(X_train, y_train)"
   ]
  },
  {
   "cell_type": "markdown",
   "metadata": {
    "colab_type": "text",
    "id": "U5N-djdOkb8c"
   },
   "source": [
    "#### 3.2.3 Baseline Results"
   ]
  },
  {
   "cell_type": "code",
   "execution_count": 404,
   "metadata": {
    "colab": {
     "base_uri": "https://localhost:8080/",
     "height": 35
    },
    "colab_type": "code",
    "id": "1gt8i2DkjW3y",
    "outputId": "24f1e7e1-0f3d-4669-a399-46e0753cf0ea"
   },
   "outputs": [
    {
     "name": "stdout",
     "output_type": "stream",
     "text": [
      "0.1096\n"
     ]
    }
   ],
   "source": [
    "predictions = clf.predict(X_test)\n",
    "errors = sum(predictions != y_test)/len(y_test)\n",
    "print(errors)"
   ]
  },
  {
   "cell_type": "markdown",
   "metadata": {
    "colab_type": "text",
    "id": "yVGAK6ZXkmJs"
   },
   "source": [
    "#### 3.2.4 Feature Importance"
   ]
  },
  {
   "cell_type": "code",
   "execution_count": 405,
   "metadata": {
    "colab": {
     "base_uri": "https://localhost:8080/",
     "height": 977
    },
    "colab_type": "code",
    "id": "pWceObyEi45_",
    "outputId": "90eb898b-e388-4519-8ff3-a849f550670b"
   },
   "outputs": [
    {
     "name": "stdout",
     "output_type": "stream",
     "text": [
      "likes                     0.038394\n",
      "views                     0.038251\n",
      "date_delta                0.036708\n",
      "d16                       0.035964\n",
      "comment_count             0.035763\n",
      "dislikes                  0.035116\n",
      "d14                       0.033296\n",
      "d12                       0.032399\n",
      "d6                        0.031710\n",
      "d23                       0.031551\n",
      "tagsLength                0.031173\n",
      "d2                        0.030843\n",
      "d9                        0.030237\n",
      "d19                       0.030090\n",
      "d15                       0.030073\n",
      "d4                        0.029921\n",
      "d13                       0.029800\n",
      "d11                       0.029642\n",
      "d0                        0.029606\n",
      "d24                       0.029518\n",
      "d3                        0.029381\n",
      "d22                       0.029267\n",
      "d20                       0.029145\n",
      "d10                       0.029141\n",
      "d1                        0.028800\n",
      "d8                        0.028715\n",
      "d7                        0.028425\n",
      "d17                       0.028382\n",
      "d18                       0.028175\n",
      "d21                       0.028033\n",
      "d5                        0.026843\n",
      "Entertainment             0.006725\n",
      "Comedy                    0.005492\n",
      "Sports                    0.003889\n",
      "News & Politics           0.003553\n",
      "People & Blogs            0.002145\n",
      "Science & Technology      0.001795\n",
      "Music                     0.001747\n",
      "Howto & Style             0.001603\n",
      "Education                 0.001514\n",
      "Film & Animation          0.001471\n",
      "Gaming                    0.000895\n",
      "top100Channel             0.000865\n",
      "video_error_or_removed    0.000687\n",
      "Travel & Events           0.000679\n",
      "comments_disabled         0.000588\n",
      "top500Channel             0.000579\n",
      "Pets & Animals            0.000534\n",
      "Autos & Vehicles          0.000390\n",
      "ratings_disabled          0.000347\n",
      "Nonprofits & Activism     0.000131\n",
      "Shows                     0.000005\n",
      "top10Channel              0.000000\n",
      "dtype: float64\n"
     ]
    }
   ],
   "source": [
    "clf_feature_importances = pd.Series(clf.feature_importances_, index = X_train.columns)\n",
    "print(clf_feature_importances.sort_values(ascending = False))"
   ]
  },
  {
   "cell_type": "markdown",
   "metadata": {
    "colab_type": "text",
    "id": "lPz7vanPk7G_"
   },
   "source": [
    "#### 3.2.5 Confusion Matrix"
   ]
  },
  {
   "cell_type": "code",
   "execution_count": 406,
   "metadata": {
    "colab": {
     "base_uri": "https://localhost:8080/",
     "height": 52
    },
    "colab_type": "code",
    "id": "BDVIo1X5k-5-",
    "outputId": "d3e097f1-bff7-499f-b406-bf58b98d5642"
   },
   "outputs": [
    {
     "data": {
      "text/plain": [
       "array([[1106,    5],\n",
       "       [ 132,    7]])"
      ]
     },
     "execution_count": 406,
     "metadata": {
      "tags": []
     },
     "output_type": "execute_result"
    }
   ],
   "source": [
    "from sklearn.metrics import confusion_matrix\n",
    "confusion_matrix(y_test, predictions)"
   ]
  },
  {
   "cell_type": "code",
   "execution_count": 407,
   "metadata": {
    "colab": {
     "base_uri": "https://localhost:8080/",
     "height": 35
    },
    "colab_type": "code",
    "id": "Qz38CV0UlKRr",
    "outputId": "951ca18c-097f-4499-a028-fcdb772984bf"
   },
   "outputs": [
    {
     "name": "stdout",
     "output_type": "stream",
     "text": [
      "1106 5 132 7\n"
     ]
    }
   ],
   "source": [
    "tn, fp, fn, tp = confusion_matrix(y_test, predictions).ravel()\n",
    "print(tn, fp, fn, tp)"
   ]
  },
  {
   "cell_type": "markdown",
   "metadata": {
    "colab_type": "text",
    "id": "URmklOBjlqhf"
   },
   "source": [
    "#### 3.2.6 Metrics Evaluation"
   ]
  },
  {
   "cell_type": "code",
   "execution_count": 408,
   "metadata": {
    "colab": {
     "base_uri": "https://localhost:8080/",
     "height": 106
    },
    "colab_type": "code",
    "id": "nzPT3_R9lvVh",
    "outputId": "52ca1328-26fe-492a-c70f-f1d774c59306"
   },
   "outputs": [
    {
     "name": "stdout",
     "output_type": "stream",
     "text": [
      "recall: 0.050359712230215826 \n",
      " precision: 0.5833333333333334 \n",
      " fp_rate: 0.004500450045004501 \n",
      " f1_score: 0.09271523178807947 \n",
      " accuracy: 0.8904\n"
     ]
    }
   ],
   "source": [
    "recall = tp / (tp + fn)\n",
    "precision = tp / (tp + fp)\n",
    "fp_rate = fp / (fp + tn)\n",
    "f1_score = 2 * (precision * recall / (precision + recall))\n",
    "accuracy = (tp + tn) / (tp + tn + fp + fn)\n",
    "print(\"recall:\", recall, \"\\n precision:\", precision, \"\\n fp_rate:\",fp_rate, \"\\n f1_score:\",f1_score, \"\\n accuracy:\",accuracy)"
   ]
  },
  {
   "cell_type": "markdown",
   "metadata": {
    "colab_type": "text",
    "id": "rpnJdM9uceFn"
   },
   "source": [
    "### 3.3 Regression Model: after first time on trending board, how many times will the video be trending again within 31 days after published?\n",
    "\n",
    "#### 3.3.1 Split Train and Test Data"
   ]
  },
  {
   "cell_type": "code",
   "execution_count": 0,
   "metadata": {
    "colab": {},
    "colab_type": "code",
    "id": "GZD9jcIdi5l7"
   },
   "outputs": [],
   "source": [
    "X = first_trend_df3\n",
    "X = X.drop(['video_id', 'trending_date','title','channel_title','category_id','tags','thumbnail_link','description','publish_date','app_time','tags2','category'], axis = 1)\n",
    "y = first_trend_df3['app_time'] - 1\n",
    "X.head(1)"
   ]
  },
  {
   "cell_type": "code",
   "execution_count": 0,
   "metadata": {
    "colab": {},
    "colab_type": "code",
    "id": "IM4tNliVjAhI"
   },
   "outputs": [],
   "source": [
    "np.random.seed(2018)\n",
    "X_train, X_test, y_train, y_test = train_test_split(X, y, test_size=0.2, random_state=42)"
   ]
  },
  {
   "cell_type": "code",
   "execution_count": 373,
   "metadata": {
    "colab": {
     "base_uri": "https://localhost:8080/",
     "height": 88
    },
    "colab_type": "code",
    "id": "eDGlpQhgjI4U",
    "outputId": "f964cd81-b976-4da3-c1db-a6b7e6b57781"
   },
   "outputs": [
    {
     "name": "stdout",
     "output_type": "stream",
     "text": [
      "Training Features Shape: (5000, 53)\n",
      "Training Labels Shape: (5000,)\n",
      "Testing Features Shape: (1250, 53)\n",
      "Testing Labels Shape: (1250,)\n"
     ]
    }
   ],
   "source": [
    "print('Training Features Shape:', X_train.shape)\n",
    "print('Training Labels Shape:',  y_train.shape)\n",
    "print('Testing Features Shape:', X_test.shape)\n",
    "print('Testing Labels Shape:', y_test.shape)"
   ]
  },
  {
   "cell_type": "markdown",
   "metadata": {
    "colab_type": "text",
    "id": "fmTxE0b9kUMS"
   },
   "source": [
    "### 3.3.2 Train a Baseline Model (No Cross-Validation, No Tuning Parameter)"
   ]
  },
  {
   "cell_type": "code",
   "execution_count": 359,
   "metadata": {
    "colab": {
     "base_uri": "https://localhost:8080/",
     "height": 124
    },
    "colab_type": "code",
    "id": "5Fzc6cABcdeS",
    "outputId": "5e501d4f-0e8d-4406-f2ae-fcfe1bf8a6b2"
   },
   "outputs": [
    {
     "data": {
      "text/plain": [
       "RandomForestRegressor(bootstrap=True, criterion='mse', max_depth=None,\n",
       "           max_features='auto', max_leaf_nodes=None,\n",
       "           min_impurity_decrease=0.0, min_impurity_split=None,\n",
       "           min_samples_leaf=1, min_samples_split=2,\n",
       "           min_weight_fraction_leaf=0.0, n_estimators=1000, n_jobs=1,\n",
       "           oob_score=False, random_state=42, verbose=0, warm_start=False)"
      ]
     },
     "execution_count": 359,
     "metadata": {
      "tags": []
     },
     "output_type": "execute_result"
    }
   ],
   "source": [
    "rf = RandomForestRegressor(n_estimators = 1000, random_state = 42)\n",
    "rf.fit(X_train, y_train)"
   ]
  },
  {
   "cell_type": "markdown",
   "metadata": {
    "colab_type": "text",
    "id": "wY5-QKpRkg3-"
   },
   "source": [
    "#### 3.3.3 Baseline Results"
   ]
  },
  {
   "cell_type": "code",
   "execution_count": 360,
   "metadata": {
    "colab": {
     "base_uri": "https://localhost:8080/",
     "height": 35
    },
    "colab_type": "code",
    "id": "yBnj3rKmcdgu",
    "outputId": "9d773958-9031-4751-f461-c80cd21a50b0"
   },
   "outputs": [
    {
     "name": "stdout",
     "output_type": "stream",
     "text": [
      "Mean Absolute Error: 3.26 degrees.\n"
     ]
    }
   ],
   "source": [
    "### Use the forest's predict method on the test data\n",
    "predictions = rf.predict(X_test)\n",
    "\n",
    "### Calculate the absolute errors\n",
    "errors = abs(predictions - y_test)\n",
    "\n",
    "### Print out the mean absolute error (mae)\n",
    "print('Mean Absolute Error:', round(np.mean(errors), 2), 'degrees.')"
   ]
  },
  {
   "cell_type": "markdown",
   "metadata": {
    "colab_type": "text",
    "id": "0DhAr72Kkikh"
   },
   "source": [
    "#### 3.3.4 Feature Importance"
   ]
  },
  {
   "cell_type": "code",
   "execution_count": 366,
   "metadata": {
    "colab": {
     "base_uri": "https://localhost:8080/",
     "height": 977
    },
    "colab_type": "code",
    "id": "Vf3ixz7semXO",
    "outputId": "1748d851-749e-4446-8301-689ea360b502"
   },
   "outputs": [
    {
     "name": "stdout",
     "output_type": "stream",
     "text": [
      "likes                     0.150479\n",
      "views                     0.055075\n",
      "dislikes                  0.038349\n",
      "date_delta                0.037988\n",
      "d16                       0.036243\n",
      "comment_count             0.036137\n",
      "d17                       0.033329\n",
      "d22                       0.032847\n",
      "d3                        0.030674\n",
      "d24                       0.028826\n",
      "d10                       0.028790\n",
      "d8                        0.028661\n",
      "tagsLength                0.028595\n",
      "d6                        0.027849\n",
      "d14                       0.027511\n",
      "d2                        0.025935\n",
      "d19                       0.024463\n",
      "d13                       0.024052\n",
      "d12                       0.022857\n",
      "d9                        0.021975\n",
      "d1                        0.021951\n",
      "d23                       0.021772\n",
      "d20                       0.021743\n",
      "d11                       0.021381\n",
      "d15                       0.021091\n",
      "d7                        0.020286\n",
      "d18                       0.019213\n",
      "d4                        0.018976\n",
      "d0                        0.018340\n",
      "d21                       0.018336\n",
      "d5                        0.016752\n",
      "Music                     0.005790\n",
      "Film & Animation          0.004567\n",
      "Entertainment             0.004386\n",
      "Shows                     0.002990\n",
      "Comedy                    0.002830\n",
      "Howto & Style             0.002761\n",
      "Education                 0.002670\n",
      "Sports                    0.002226\n",
      "Travel & Events           0.002218\n",
      "People & Blogs            0.002032\n",
      "Science & Technology      0.001746\n",
      "Gaming                    0.001504\n",
      "News & Politics           0.001371\n",
      "top500Channel             0.001143\n",
      "Pets & Animals            0.000578\n",
      "top100Channel             0.000232\n",
      "comments_disabled         0.000230\n",
      "Autos & Vehicles          0.000177\n",
      "Nonprofits & Activism     0.000029\n",
      "ratings_disabled          0.000026\n",
      "video_error_or_removed    0.000018\n",
      "top10Channel              0.000000\n",
      "dtype: float64\n"
     ]
    }
   ],
   "source": [
    "rf_feature_importances = pd.Series(rf.feature_importances_, index = X_train.columns)\n",
    "print(rf_feature_importances.sort_values(ascending = False))"
   ]
  },
  {
   "cell_type": "markdown",
   "metadata": {
    "colab_type": "text",
    "id": "0pm0GR64nIu_"
   },
   "source": [
    "## 4. Future Work\n",
    "\n",
    "### 4.1 More feature engineering like the complete sentimental scores (cuurent sentimental score data is incomplete)\n",
    "\n",
    "### 4.2 Cross-Validation and Tuning Parameters for both classification problem and regression problem\n",
    "\n",
    "### 4.3 More Models: lightGBM, XGBoost, CatBoost, etc.\n",
    "\n",
    "### 4.4 Note that the classification problem is facing imbalanced classes problems, consider methods like oversampling, undersampling, classifier cascades, cost-sensitive learning, etc."
   ]
  },
  {
   "cell_type": "code",
   "execution_count": 0,
   "metadata": {
    "colab": {},
    "colab_type": "code",
    "id": "yXF34s-kfCln"
   },
   "outputs": [],
   "source": []
  },
  {
   "cell_type": "code",
   "execution_count": 0,
   "metadata": {
    "colab": {},
    "colab_type": "code",
    "id": "XWNRnG_vfCqb"
   },
   "outputs": [],
   "source": []
  },
  {
   "cell_type": "code",
   "execution_count": 0,
   "metadata": {
    "colab": {},
    "colab_type": "code",
    "id": "t3Yuznt3fDC-"
   },
   "outputs": [],
   "source": []
  }
 ],
 "metadata": {
  "colab": {
   "name": "5291 Feature Engineering and Model Baseline.ipynb",
   "provenance": [],
   "version": "0.3.2"
  },
  "kernelspec": {
   "display_name": "Python 3",
   "language": "python",
   "name": "python3"
  },
  "language_info": {
   "codemirror_mode": {
    "name": "ipython",
    "version": 3
   },
   "file_extension": ".py",
   "mimetype": "text/x-python",
   "name": "python",
   "nbconvert_exporter": "python",
   "pygments_lexer": "ipython3",
   "version": "3.7.0"
  }
 },
 "nbformat": 4,
 "nbformat_minor": 1
}
