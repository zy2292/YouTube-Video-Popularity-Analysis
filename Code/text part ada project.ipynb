{
 "cells": [
  {
   "cell_type": "markdown",
   "metadata": {},
   "source": [
    "### Import Libraries and Data"
   ]
  },
  {
   "cell_type": "code",
   "execution_count": 38,
   "metadata": {},
   "outputs": [],
   "source": [
    "import warnings\n",
    "warnings.filterwarnings(\"ignore\")\n",
    "import pandas as pd\n",
    "import numpy as np\n",
    "import re\n",
    "from nltk.corpus import stopwords \n",
    "from nltk.tokenize import word_tokenize \n",
    "import gensim\n",
    "import spacy\n",
    "import string"
   ]
  },
  {
   "cell_type": "code",
   "execution_count": 149,
   "metadata": {},
   "outputs": [
    {
     "data": {
      "text/plain": [
       "(40949, 16)"
      ]
     },
     "execution_count": 149,
     "metadata": {},
     "output_type": "execute_result"
    }
   ],
   "source": [
    "data = pd.read_csv('USvideos.csv')\n",
    "data['category_id'] =  data['category_id'].astype(str).astype(int)\n",
    "data.shape"
   ]
  },
  {
   "cell_type": "code",
   "execution_count": 3,
   "metadata": {},
   "outputs": [],
   "source": [
    "description = data[['video_id', 'description']]"
   ]
  },
  {
   "cell_type": "code",
   "execution_count": 4,
   "metadata": {},
   "outputs": [
    {
     "name": "stdout",
     "output_type": "stream",
     "text": [
      "40949\n",
      "6351\n"
     ]
    }
   ],
   "source": [
    "print(len(description.video_id))\n",
    "print(len(set(description.video_id)))"
   ]
  },
  {
   "cell_type": "markdown",
   "metadata": {},
   "source": [
    "## Description"
   ]
  },
  {
   "cell_type": "markdown",
   "metadata": {},
   "source": [
    "### Remove Duplicates"
   ]
  },
  {
   "cell_type": "code",
   "execution_count": 73,
   "metadata": {},
   "outputs": [],
   "source": [
    "description_unique = description.drop_duplicates() # some videos changed description "
   ]
  },
  {
   "cell_type": "code",
   "execution_count": 74,
   "metadata": {},
   "outputs": [],
   "source": [
    "description_unique.shape\n",
    "description_unique.index = range(0, description_unique.shape[0])"
   ]
  },
  {
   "cell_type": "code",
   "execution_count": 75,
   "metadata": {},
   "outputs": [
    {
     "data": {
      "text/plain": [
       "7181805.0"
      ]
     },
     "execution_count": 75,
     "metadata": {},
     "output_type": "execute_result"
    }
   ],
   "source": [
    "np.sum(description_unique.description.str.len()) # total length for description"
   ]
  },
  {
   "cell_type": "code",
   "execution_count": 76,
   "metadata": {},
   "outputs": [
    {
     "data": {
      "text/plain": [
       "1032.016812760454"
      ]
     },
     "execution_count": 76,
     "metadata": {},
     "output_type": "execute_result"
    }
   ],
   "source": [
    "np.mean(description_unique.description.str.len()) # average length for description"
   ]
  },
  {
   "cell_type": "markdown",
   "metadata": {},
   "source": [
    "### Lowercase"
   ]
  },
  {
   "cell_type": "code",
   "execution_count": 48,
   "metadata": {},
   "outputs": [],
   "source": [
    "description_unique['description'] = description_unique['description'].str.lower()"
   ]
  },
  {
   "cell_type": "code",
   "execution_count": 77,
   "metadata": {},
   "outputs": [
    {
     "data": {
      "text/html": [
       "<div>\n",
       "<style scoped>\n",
       "    .dataframe tbody tr th:only-of-type {\n",
       "        vertical-align: middle;\n",
       "    }\n",
       "\n",
       "    .dataframe tbody tr th {\n",
       "        vertical-align: top;\n",
       "    }\n",
       "\n",
       "    .dataframe thead th {\n",
       "        text-align: right;\n",
       "    }\n",
       "</style>\n",
       "<table border=\"1\" class=\"dataframe\">\n",
       "  <thead>\n",
       "    <tr style=\"text-align: right;\">\n",
       "      <th></th>\n",
       "      <th>video_id</th>\n",
       "      <th>description</th>\n",
       "    </tr>\n",
       "  </thead>\n",
       "  <tbody>\n",
       "    <tr>\n",
       "      <th>0</th>\n",
       "      <td>2kyS6SvSYSE</td>\n",
       "      <td>SHANTELL'S CHANNEL - https://www.youtube.com/s...</td>\n",
       "    </tr>\n",
       "    <tr>\n",
       "      <th>1</th>\n",
       "      <td>1ZAPwfrtAFY</td>\n",
       "      <td>One year after the presidential election, John...</td>\n",
       "    </tr>\n",
       "    <tr>\n",
       "      <th>2</th>\n",
       "      <td>5qpjK5DgCt4</td>\n",
       "      <td>WATCH MY PREVIOUS VIDEO ▶ \\n\\nSUBSCRIBE ► http...</td>\n",
       "    </tr>\n",
       "    <tr>\n",
       "      <th>3</th>\n",
       "      <td>puqaWrEC7tY</td>\n",
       "      <td>Today we find out if Link is a Nickelback amat...</td>\n",
       "    </tr>\n",
       "    <tr>\n",
       "      <th>4</th>\n",
       "      <td>d380meD0W0M</td>\n",
       "      <td>I know it's been a while since we did this sho...</td>\n",
       "    </tr>\n",
       "  </tbody>\n",
       "</table>\n",
       "</div>"
      ],
      "text/plain": [
       "      video_id                                        description\n",
       "0  2kyS6SvSYSE  SHANTELL'S CHANNEL - https://www.youtube.com/s...\n",
       "1  1ZAPwfrtAFY  One year after the presidential election, John...\n",
       "2  5qpjK5DgCt4  WATCH MY PREVIOUS VIDEO ▶ \\n\\nSUBSCRIBE ► http...\n",
       "3  puqaWrEC7tY  Today we find out if Link is a Nickelback amat...\n",
       "4  d380meD0W0M  I know it's been a while since we did this sho..."
      ]
     },
     "execution_count": 77,
     "metadata": {},
     "output_type": "execute_result"
    }
   ],
   "source": [
    "description_unique.head()"
   ]
  },
  {
   "cell_type": "markdown",
   "metadata": {},
   "source": [
    "### Replace Link by \"link\" String"
   ]
  },
  {
   "cell_type": "code",
   "execution_count": 79,
   "metadata": {},
   "outputs": [],
   "source": [
    "description_unique['description'] = description_unique['description'].apply(str)"
   ]
  },
  {
   "cell_type": "code",
   "execution_count": 80,
   "metadata": {},
   "outputs": [],
   "source": [
    "reg_str = [\n",
    "    r'http[s]?://(?:[a-z]|[0-9]|[$-_@.&amp;+]|[!*\\(\\),]|(?:%[0-9a-f][0-9a-f]))+' # Link pattern\n",
    "]"
   ]
  },
  {
   "cell_type": "code",
   "execution_count": 81,
   "metadata": {},
   "outputs": [],
   "source": [
    "reg_tokens = re.compile(r'('+'|'.join(reg_str)+')', re.VERBOSE | re.IGNORECASE)"
   ]
  },
  {
   "cell_type": "code",
   "execution_count": 82,
   "metadata": {},
   "outputs": [],
   "source": [
    "def replace_func(string):\n",
    "    return re.sub(reg_tokens, 'link', string)"
   ]
  },
  {
   "cell_type": "code",
   "execution_count": 83,
   "metadata": {},
   "outputs": [],
   "source": [
    "description_unique['link'] = description_unique.description.apply(replace_func)"
   ]
  },
  {
   "cell_type": "code",
   "execution_count": 84,
   "metadata": {},
   "outputs": [
    {
     "data": {
      "text/html": [
       "<div>\n",
       "<style scoped>\n",
       "    .dataframe tbody tr th:only-of-type {\n",
       "        vertical-align: middle;\n",
       "    }\n",
       "\n",
       "    .dataframe tbody tr th {\n",
       "        vertical-align: top;\n",
       "    }\n",
       "\n",
       "    .dataframe thead th {\n",
       "        text-align: right;\n",
       "    }\n",
       "</style>\n",
       "<table border=\"1\" class=\"dataframe\">\n",
       "  <thead>\n",
       "    <tr style=\"text-align: right;\">\n",
       "      <th></th>\n",
       "      <th>video_id</th>\n",
       "      <th>description</th>\n",
       "      <th>link</th>\n",
       "    </tr>\n",
       "  </thead>\n",
       "  <tbody>\n",
       "    <tr>\n",
       "      <th>0</th>\n",
       "      <td>2kyS6SvSYSE</td>\n",
       "      <td>SHANTELL'S CHANNEL - https://www.youtube.com/s...</td>\n",
       "      <td>SHANTELL'S CHANNEL - link - link this video in...</td>\n",
       "    </tr>\n",
       "    <tr>\n",
       "      <th>1</th>\n",
       "      <td>1ZAPwfrtAFY</td>\n",
       "      <td>One year after the presidential election, John...</td>\n",
       "      <td>One year after the presidential election, John...</td>\n",
       "    </tr>\n",
       "    <tr>\n",
       "      <th>2</th>\n",
       "      <td>5qpjK5DgCt4</td>\n",
       "      <td>WATCH MY PREVIOUS VIDEO ▶ \\n\\nSUBSCRIBE ► http...</td>\n",
       "      <td>WATCH MY PREVIOUS VIDEO ▶ \\n\\nSUBSCRIBE ► link...</td>\n",
       "    </tr>\n",
       "    <tr>\n",
       "      <th>3</th>\n",
       "      <td>puqaWrEC7tY</td>\n",
       "      <td>Today we find out if Link is a Nickelback amat...</td>\n",
       "      <td>Today we find out if Link is a Nickelback amat...</td>\n",
       "    </tr>\n",
       "    <tr>\n",
       "      <th>4</th>\n",
       "      <td>d380meD0W0M</td>\n",
       "      <td>I know it's been a while since we did this sho...</td>\n",
       "      <td>I know it's been a while since we did this sho...</td>\n",
       "    </tr>\n",
       "  </tbody>\n",
       "</table>\n",
       "</div>"
      ],
      "text/plain": [
       "      video_id                                        description  \\\n",
       "0  2kyS6SvSYSE  SHANTELL'S CHANNEL - https://www.youtube.com/s...   \n",
       "1  1ZAPwfrtAFY  One year after the presidential election, John...   \n",
       "2  5qpjK5DgCt4  WATCH MY PREVIOUS VIDEO ▶ \\n\\nSUBSCRIBE ► http...   \n",
       "3  puqaWrEC7tY  Today we find out if Link is a Nickelback amat...   \n",
       "4  d380meD0W0M  I know it's been a while since we did this sho...   \n",
       "\n",
       "                                                link  \n",
       "0  SHANTELL'S CHANNEL - link - link this video in...  \n",
       "1  One year after the presidential election, John...  \n",
       "2  WATCH MY PREVIOUS VIDEO ▶ \\n\\nSUBSCRIBE ► link...  \n",
       "3  Today we find out if Link is a Nickelback amat...  \n",
       "4  I know it's been a while since we did this sho...  "
      ]
     },
     "execution_count": 84,
     "metadata": {},
     "output_type": "execute_result"
    }
   ],
   "source": [
    "description_unique.head()"
   ]
  },
  {
   "cell_type": "code",
   "execution_count": 87,
   "metadata": {},
   "outputs": [
    {
     "data": {
      "text/plain": [
       "\"SHANTELL'S CHANNEL - link - link this video in 4k on this -- link this lens -- link drone - link GEAR ---  link CAMERA link CAMERA; link LENS; link SONY CAMERA; link Canon CAMERA; link TRIPOD THING; link NEED THIS FOR THE BENDY TRIPOD; link LENS; link EXPENSIVE WIDE LENS; link CAMERA; link link MICROPHONE; link DRONE (cheaper but still great);link me; on link link link intro song by link disclosure.  THIS IS NOT AN AD.  not selling or promoting anything.  but samsung did produce the Shantell Video as a 'GALAXY PROJECT' which is an initiative that enables creators like Shantell and me to make projects we might otherwise not have the opportunity to make.  hope that's clear.  if not ask in the comments and i'll answer any specifics.\""
      ]
     },
     "execution_count": 87,
     "metadata": {},
     "output_type": "execute_result"
    }
   ],
   "source": [
    "description_unique.link[0]"
   ]
  },
  {
   "cell_type": "markdown",
   "metadata": {},
   "source": [
    "### Punctuation ?"
   ]
  },
  {
   "cell_type": "markdown",
   "metadata": {},
   "source": [
    "### Remove Stopwords"
   ]
  },
  {
   "cell_type": "code",
   "execution_count": 101,
   "metadata": {},
   "outputs": [],
   "source": [
    "stop_words = set(stopwords.words('english')) \n",
    "def remove_stopwords(sentence):\n",
    "    word_tokens = word_tokenize(sentence) \n",
    "    \n",
    "#     filtered_sentence = [w for w in word_tokens if not w in stop_words] \n",
    "\n",
    "    filtered_sentence = [] \n",
    "\n",
    "    for w in word_tokens: \n",
    "        if w not in stop_words: \n",
    "            filtered_sentence.append(w)\n",
    "    \n",
    "    return filtered_sentence"
   ]
  },
  {
   "cell_type": "code",
   "execution_count": 102,
   "metadata": {},
   "outputs": [],
   "source": [
    "description_unique['clean_list'] = description_unique.link.apply(remove_stopwords)"
   ]
  },
  {
   "cell_type": "code",
   "execution_count": 108,
   "metadata": {},
   "outputs": [],
   "source": [
    "def remove_punctuations(sentence):\n",
    "    word_tokens = word_tokenize(sentence) \n",
    "    \n",
    "#     filtered_sentence = [w for w in word_tokens if not w in string.punctuation] \n",
    "\n",
    "    filtered_sentence = [] \n",
    "\n",
    "    for w in word_tokens: \n",
    "        if w not in string.punctuation: \n",
    "            filtered_sentence.append(w)\n",
    "    \n",
    "    return filtered_sentence"
   ]
  },
  {
   "cell_type": "code",
   "execution_count": 103,
   "metadata": {},
   "outputs": [],
   "source": [
    "description_unique['clean'] = description_unique.clean_list.apply(lambda x: ' '.join(x))"
   ]
  },
  {
   "cell_type": "code",
   "execution_count": 111,
   "metadata": {},
   "outputs": [],
   "source": [
    "newline_str = [\n",
    "    r'\\\\n' # new line pattern\n",
    "]\n",
    "reg_tokens = re.compile(r'('+'|'.join(newline_str)+')', re.VERBOSE | re.IGNORECASE)\n",
    "def newline_func(string):\n",
    "    return re.sub(reg_tokens, ' ', string)"
   ]
  },
  {
   "cell_type": "code",
   "execution_count": 112,
   "metadata": {},
   "outputs": [],
   "source": [
    "description_unique['clean'] = description_unique.clean.apply(newline_func)"
   ]
  },
  {
   "cell_type": "code",
   "execution_count": 113,
   "metadata": {},
   "outputs": [
    {
     "data": {
      "text/plain": [
       "\"SHANTELL 'S CHANNEL - link - link video 4k -- link lens -- link drone - link GEAR -- - link CAMERA link CAMERA ; link LENS ; link SONY CAMERA ; link Canon CAMERA ; link TRIPOD THING ; link NEED THIS FOR THE BENDY TRIPOD ; link LENS ; link EXPENSIVE WIDE LENS ; link CAMERA ; link link MICROPHONE ; link DRONE ( cheaper still great ) ; link ; link link link intro song link disclosure . THIS IS NOT AN AD . selling promoting anything . samsung produce Shantell Video 'GALAXY PROJECT ' initiative enables creators like Shantell make projects might otherwise opportunity make . hope 's clear . ask comments 'll answer specifics .\""
      ]
     },
     "execution_count": 113,
     "metadata": {},
     "output_type": "execute_result"
    }
   ],
   "source": [
    "description_unique['clean'][0]"
   ]
  },
  {
   "cell_type": "code",
   "execution_count": 110,
   "metadata": {},
   "outputs": [],
   "source": [
    "description_unique['clean_list'] = description_unique.clean.apply(remove_punctuations)"
   ]
  },
  {
   "cell_type": "code",
   "execution_count": 115,
   "metadata": {
    "scrolled": true
   },
   "outputs": [
    {
     "data": {
      "text/plain": [
       "['SHANTELL',\n",
       " \"'S\",\n",
       " 'CHANNEL',\n",
       " 'link',\n",
       " 'link',\n",
       " 'video',\n",
       " '4k',\n",
       " '--',\n",
       " 'link',\n",
       " 'lens',\n",
       " '--',\n",
       " 'link',\n",
       " 'drone',\n",
       " 'link',\n",
       " 'GEAR',\n",
       " '--',\n",
       " 'link',\n",
       " 'CAMERA',\n",
       " 'link',\n",
       " 'CAMERA',\n",
       " 'link',\n",
       " 'LENS',\n",
       " 'link',\n",
       " 'SONY',\n",
       " 'CAMERA',\n",
       " 'link',\n",
       " 'Canon',\n",
       " 'CAMERA',\n",
       " 'link',\n",
       " 'TRIPOD',\n",
       " 'THING',\n",
       " 'link',\n",
       " 'NEED',\n",
       " 'THIS',\n",
       " 'FOR',\n",
       " 'THE',\n",
       " 'BENDY',\n",
       " 'TRIPOD',\n",
       " 'link',\n",
       " 'LENS',\n",
       " 'link',\n",
       " 'EXPENSIVE',\n",
       " 'WIDE',\n",
       " 'LENS',\n",
       " 'link',\n",
       " 'CAMERA',\n",
       " 'link',\n",
       " 'link',\n",
       " 'MICROPHONE',\n",
       " 'link',\n",
       " 'DRONE',\n",
       " 'cheaper',\n",
       " 'still',\n",
       " 'great',\n",
       " 'link',\n",
       " 'link',\n",
       " 'link',\n",
       " 'link',\n",
       " 'intro',\n",
       " 'song',\n",
       " 'link',\n",
       " 'disclosure',\n",
       " 'THIS',\n",
       " 'IS',\n",
       " 'NOT',\n",
       " 'AN',\n",
       " 'AD',\n",
       " 'selling',\n",
       " 'promoting',\n",
       " 'anything',\n",
       " 'samsung',\n",
       " 'produce',\n",
       " 'Shantell',\n",
       " 'Video',\n",
       " \"'GALAXY\",\n",
       " 'PROJECT',\n",
       " 'initiative',\n",
       " 'enables',\n",
       " 'creators',\n",
       " 'like',\n",
       " 'Shantell',\n",
       " 'make',\n",
       " 'projects',\n",
       " 'might',\n",
       " 'otherwise',\n",
       " 'opportunity',\n",
       " 'make',\n",
       " 'hope',\n",
       " \"'s\",\n",
       " 'clear',\n",
       " 'ask',\n",
       " 'comments',\n",
       " \"'ll\",\n",
       " 'answer',\n",
       " 'specifics']"
      ]
     },
     "execution_count": 115,
     "metadata": {},
     "output_type": "execute_result"
    }
   ],
   "source": [
    "description_unique['clean_list'][0]"
   ]
  },
  {
   "cell_type": "markdown",
   "metadata": {},
   "source": [
    "### Load Pre Train Model - Glove on Twitter and Google"
   ]
  },
  {
   "cell_type": "code",
   "execution_count": 59,
   "metadata": {},
   "outputs": [],
   "source": [
    "def loadGloveModel(gloveFile):\n",
    "    print(\"Loading Glove Model\")\n",
    "    f = open(gloveFile,'r')\n",
    "    model = {}\n",
    "    for line in f:\n",
    "        splitLine = line.split()\n",
    "        word = splitLine[0]\n",
    "        embedding = np.array([float(val) for val in splitLine[1:]])\n",
    "        model[word] = embedding\n",
    "    print(\"Done.\",len(model),\" words loaded!\")\n",
    "    return model"
   ]
  },
  {
   "cell_type": "code",
   "execution_count": 60,
   "metadata": {},
   "outputs": [
    {
     "name": "stdout",
     "output_type": "stream",
     "text": [
      "Loading Glove Model\n",
      "Done. 1193515  words loaded!\n"
     ]
    }
   ],
   "source": [
    "GloveModel = loadGloveModel('GLOVE/glove.twitter.27B.25d.txt')"
   ]
  },
  {
   "cell_type": "code",
   "execution_count": 61,
   "metadata": {},
   "outputs": [
    {
     "data": {
      "text/plain": [
       "25"
      ]
     },
     "execution_count": 61,
     "metadata": {},
     "output_type": "execute_result"
    }
   ],
   "source": [
    "len(GloveModel['aggressive'])"
   ]
  },
  {
   "cell_type": "code",
   "execution_count": 23,
   "metadata": {},
   "outputs": [
    {
     "data": {
      "text/plain": [
       "dict"
      ]
     },
     "execution_count": 23,
     "metadata": {},
     "output_type": "execute_result"
    }
   ],
   "source": [
    "type(GloveModel)"
   ]
  },
  {
   "cell_type": "code",
   "execution_count": 23,
   "metadata": {},
   "outputs": [],
   "source": [
    "# Load Google's pre-trained Word2Vec model.\n",
    "GoogleModel = gensim.models.KeyedVectors.load_word2vec_format('GoogleNews-vectors-negative300.bin', binary=True)  "
   ]
  },
  {
   "cell_type": "code",
   "execution_count": 24,
   "metadata": {},
   "outputs": [
    {
     "data": {
      "text/plain": [
       "300"
      ]
     },
     "execution_count": 24,
     "metadata": {},
     "output_type": "execute_result"
    }
   ],
   "source": [
    "len(GoogleModel['aggressive'])"
   ]
  },
  {
   "cell_type": "code",
   "execution_count": 25,
   "metadata": {},
   "outputs": [
    {
     "data": {
      "text/plain": [
       "gensim.models.keyedvectors.Word2VecKeyedVectors"
      ]
     },
     "execution_count": 25,
     "metadata": {},
     "output_type": "execute_result"
    }
   ],
   "source": [
    "type(GoogleModel)"
   ]
  },
  {
   "cell_type": "markdown",
   "metadata": {},
   "source": [
    "### Sentence Vector by averaging of Word2Vec vectors "
   ]
  },
  {
   "cell_type": "code",
   "execution_count": 267,
   "metadata": {},
   "outputs": [],
   "source": [
    "def avg_feature_vector(words, model, num_features):\n",
    "    ''''''\n",
    "    # function to average all words vectors in a given sentence\n",
    "    # Input: words [corpus], \n",
    "    #        the word2vec model, \n",
    "    #        the length of a word vector\n",
    "    # Output: featureVec [the feature sentence vector]\n",
    "    ''''''\n",
    "    featureVec = np.zeros((num_features,), dtype=\"float32\")\n",
    "    nwords = 0\n",
    "    if model == GloveModel:\n",
    "        for word in words:\n",
    "            if word in model.keys():\n",
    "                nwords = nwords+1\n",
    "                featureVec = np.add(featureVec, model[word])\n",
    "\n",
    "        if(nwords>0):\n",
    "            featureVec = np.divide(featureVec, nwords)\n",
    "    else:\n",
    "        for word in words:\n",
    "            if word in model.wv.vocab.keys():\n",
    "                nwords = nwords+1\n",
    "                featureVec = np.add(featureVec, model[word])\n",
    "\n",
    "        if(nwords>0):\n",
    "            featureVec = np.divide(featureVec, nwords)\n",
    "    return featureVec"
   ]
  },
  {
   "cell_type": "code",
   "execution_count": 34,
   "metadata": {},
   "outputs": [],
   "source": [
    "# description_unique['glove'] = description_unique.apply(lambda x: list(avg_feature_vector(x['clean'], GloveModel, 100)), \n",
    "#                                                        axis=1)"
   ]
  },
  {
   "cell_type": "code",
   "execution_count": 35,
   "metadata": {},
   "outputs": [],
   "source": [
    "description_unique['google'] = description_unique.apply(lambda x: list(avg_feature_vector(x['clean'], GoogleModel, 300)), \n",
    "                                                        axis=1)"
   ]
  },
  {
   "cell_type": "code",
   "execution_count": 36,
   "metadata": {},
   "outputs": [
    {
     "data": {
      "text/html": [
       "<div>\n",
       "<style scoped>\n",
       "    .dataframe tbody tr th:only-of-type {\n",
       "        vertical-align: middle;\n",
       "    }\n",
       "\n",
       "    .dataframe tbody tr th {\n",
       "        vertical-align: top;\n",
       "    }\n",
       "\n",
       "    .dataframe thead th {\n",
       "        text-align: right;\n",
       "    }\n",
       "</style>\n",
       "<table border=\"1\" class=\"dataframe\">\n",
       "  <thead>\n",
       "    <tr style=\"text-align: right;\">\n",
       "      <th></th>\n",
       "      <th>video_id</th>\n",
       "      <th>description</th>\n",
       "      <th>link</th>\n",
       "      <th>clean_list</th>\n",
       "      <th>clean</th>\n",
       "      <th>google</th>\n",
       "    </tr>\n",
       "  </thead>\n",
       "  <tbody>\n",
       "    <tr>\n",
       "      <th>0</th>\n",
       "      <td>2kyS6SvSYSE</td>\n",
       "      <td>shantell's channel - https://www.youtube.com/s...</td>\n",
       "      <td>shantell's channel - link - link this video in...</td>\n",
       "      <td>[shantell, 's, channel, -, link, -, link, vide...</td>\n",
       "      <td>shantell 's channel - link - link video 4k -- ...</td>\n",
       "      <td>[-0.14045875, 0.08994518, 0.003810047, 0.14892...</td>\n",
       "    </tr>\n",
       "    <tr>\n",
       "      <th>1</th>\n",
       "      <td>1ZAPwfrtAFY</td>\n",
       "      <td>one year after the presidential election, john...</td>\n",
       "      <td>one year after the presidential election, john...</td>\n",
       "      <td>[one, year, presidential, election, ,, john, o...</td>\n",
       "      <td>one year presidential election , john oliver d...</td>\n",
       "      <td>[-0.1715387, 0.10685331, -0.016952822, 0.14202...</td>\n",
       "    </tr>\n",
       "    <tr>\n",
       "      <th>2</th>\n",
       "      <td>5qpjK5DgCt4</td>\n",
       "      <td>watch my previous video ▶ \\n\\nsubscribe ► http...</td>\n",
       "      <td>watch my previous video ▶ \\n\\nsubscribe ► link...</td>\n",
       "      <td>[watch, previous, video, ▶, \\n\\nsubscribe, ►, ...</td>\n",
       "      <td>watch previous video ▶   subscribe ► link watc...</td>\n",
       "      <td>[-0.14837198, 0.07283222, 0.028169295, 0.14798...</td>\n",
       "    </tr>\n",
       "    <tr>\n",
       "      <th>3</th>\n",
       "      <td>puqaWrEC7tY</td>\n",
       "      <td>today we find out if link is a nickelback amat...</td>\n",
       "      <td>today we find out if link is a nickelback amat...</td>\n",
       "      <td>[today, find, link, nickelback, amateur, secre...</td>\n",
       "      <td>today find link nickelback amateur secret nick...</td>\n",
       "      <td>[-0.15685087, 0.08692608, 0.0045597404, 0.1462...</td>\n",
       "    </tr>\n",
       "    <tr>\n",
       "      <th>4</th>\n",
       "      <td>d380meD0W0M</td>\n",
       "      <td>i know it's been a while since we did this sho...</td>\n",
       "      <td>i know it's been a while since we did this sho...</td>\n",
       "      <td>[know, 's, since, show, ,, 're, back, might, b...</td>\n",
       "      <td>know 's since show , 're back might best episo...</td>\n",
       "      <td>[-0.13672769, 0.08855579, 0.0030439827, 0.1391...</td>\n",
       "    </tr>\n",
       "  </tbody>\n",
       "</table>\n",
       "</div>"
      ],
      "text/plain": [
       "      video_id                                        description  \\\n",
       "0  2kyS6SvSYSE  shantell's channel - https://www.youtube.com/s...   \n",
       "1  1ZAPwfrtAFY  one year after the presidential election, john...   \n",
       "2  5qpjK5DgCt4  watch my previous video ▶ \\n\\nsubscribe ► http...   \n",
       "3  puqaWrEC7tY  today we find out if link is a nickelback amat...   \n",
       "4  d380meD0W0M  i know it's been a while since we did this sho...   \n",
       "\n",
       "                                                link  \\\n",
       "0  shantell's channel - link - link this video in...   \n",
       "1  one year after the presidential election, john...   \n",
       "2  watch my previous video ▶ \\n\\nsubscribe ► link...   \n",
       "3  today we find out if link is a nickelback amat...   \n",
       "4  i know it's been a while since we did this sho...   \n",
       "\n",
       "                                          clean_list  \\\n",
       "0  [shantell, 's, channel, -, link, -, link, vide...   \n",
       "1  [one, year, presidential, election, ,, john, o...   \n",
       "2  [watch, previous, video, ▶, \\n\\nsubscribe, ►, ...   \n",
       "3  [today, find, link, nickelback, amateur, secre...   \n",
       "4  [know, 's, since, show, ,, 're, back, might, b...   \n",
       "\n",
       "                                               clean  \\\n",
       "0  shantell 's channel - link - link video 4k -- ...   \n",
       "1  one year presidential election , john oliver d...   \n",
       "2  watch previous video ▶   subscribe ► link watc...   \n",
       "3  today find link nickelback amateur secret nick...   \n",
       "4  know 's since show , 're back might best episo...   \n",
       "\n",
       "                                              google  \n",
       "0  [-0.14045875, 0.08994518, 0.003810047, 0.14892...  \n",
       "1  [-0.1715387, 0.10685331, -0.016952822, 0.14202...  \n",
       "2  [-0.14837198, 0.07283222, 0.028169295, 0.14798...  \n",
       "3  [-0.15685087, 0.08692608, 0.0045597404, 0.1462...  \n",
       "4  [-0.13672769, 0.08855579, 0.0030439827, 0.1391...  "
      ]
     },
     "execution_count": 36,
     "metadata": {},
     "output_type": "execute_result"
    }
   ],
   "source": [
    "description_unique.head()"
   ]
  },
  {
   "cell_type": "markdown",
   "metadata": {},
   "source": [
    "### Sentence Vector by averaging of Word2Vec vectors with TF-IDF "
   ]
  },
  {
   "cell_type": "code",
   "execution_count": 117,
   "metadata": {},
   "outputs": [],
   "source": [
    "from sklearn.feature_extraction.text import TfidfVectorizer\n",
    "from scipy.sparse.csr import csr_matrix # need this for saving tfidf_matrix"
   ]
  },
  {
   "cell_type": "code",
   "execution_count": 118,
   "metadata": {},
   "outputs": [],
   "source": [
    "# concat_func = lambda x: ' '.join(word for word in x)\n",
    "# corpus_text = list(map(concat_func, text['precision']))"
   ]
  },
  {
   "cell_type": "code",
   "execution_count": 119,
   "metadata": {},
   "outputs": [],
   "source": [
    "tf = TfidfVectorizer(ngram_range = (1, 1))\n",
    "tfidf_matrix =  tf.fit_transform(description_unique.clean) \n",
    "feature_names = tf.get_feature_names()"
   ]
  },
  {
   "cell_type": "code",
   "execution_count": 120,
   "metadata": {},
   "outputs": [
    {
     "data": {
      "text/plain": [
       "(7063, 42016)"
      ]
     },
     "execution_count": 120,
     "metadata": {},
     "output_type": "execute_result"
    }
   ],
   "source": [
    "tfidf_matrix.shape"
   ]
  },
  {
   "cell_type": "code",
   "execution_count": 121,
   "metadata": {},
   "outputs": [
    {
     "data": {
      "text/plain": [
       "list"
      ]
     },
     "execution_count": 121,
     "metadata": {},
     "output_type": "execute_result"
    }
   ],
   "source": [
    "description_unique['tfidf_list'] = [[] for i in range(description_unique.shape[0])]\n",
    "type(description_unique['tfidf_list'][0])"
   ]
  },
  {
   "cell_type": "code",
   "execution_count": 122,
   "metadata": {
    "scrolled": true
   },
   "outputs": [
    {
     "name": "stdout",
     "output_type": "stream",
     "text": [
      "0\n",
      "100\n",
      "200\n",
      "300\n",
      "400\n",
      "500\n",
      "600\n",
      "700\n",
      "800\n",
      "900\n",
      "1000\n",
      "1100\n",
      "1200\n",
      "1300\n",
      "1400\n",
      "1500\n",
      "1600\n",
      "1700\n",
      "1800\n",
      "1900\n",
      "2000\n",
      "2100\n",
      "2200\n",
      "2300\n",
      "2400\n",
      "2500\n",
      "2600\n",
      "2700\n",
      "2800\n",
      "2900\n",
      "3000\n",
      "3100\n",
      "3200\n",
      "3300\n",
      "3400\n",
      "3500\n",
      "3600\n",
      "3700\n",
      "3800\n",
      "3900\n",
      "4000\n",
      "4100\n",
      "4200\n",
      "4300\n",
      "4400\n",
      "4500\n",
      "4600\n",
      "4700\n",
      "4800\n",
      "4900\n",
      "5000\n",
      "5100\n",
      "5200\n",
      "5300\n",
      "5400\n",
      "5500\n",
      "5600\n",
      "5700\n",
      "5800\n",
      "5900\n",
      "6000\n",
      "6100\n",
      "6200\n",
      "6300\n",
      "6400\n",
      "6500\n",
      "6600\n",
      "6700\n",
      "6800\n",
      "6900\n",
      "7000\n"
     ]
    }
   ],
   "source": [
    "for doc in range(description_unique.shape[0]):\n",
    "    feature_index = tfidf_matrix[doc,:].nonzero()[1]\n",
    "    tfidf_scores = zip(feature_index, [tfidf_matrix[doc, x] for x in feature_index])\n",
    "    n = len(feature_index)\n",
    "    if n == 0:\n",
    "        pass\n",
    "    else:\n",
    "        description_unique['tfidf_list'][doc] = [[w, s] for w, s in [(feature_names[i], s) for (i, s) in tfidf_scores]]\n",
    "        \n",
    "    if doc % 100 == 0:\n",
    "        print(doc)"
   ]
  },
  {
   "cell_type": "code",
   "execution_count": 123,
   "metadata": {},
   "outputs": [],
   "source": [
    "description_unique['word'] = description_unique.apply(lambda x: list(e[0] for e in x['tfidf_list']), axis=1)"
   ]
  },
  {
   "cell_type": "code",
   "execution_count": 124,
   "metadata": {},
   "outputs": [],
   "source": [
    "description_unique['value'] = description_unique.apply(lambda x: list(e[1] for e in x['tfidf_list']), axis=1)"
   ]
  },
  {
   "cell_type": "code",
   "execution_count": 125,
   "metadata": {},
   "outputs": [],
   "source": [
    "description_unique['tfidf_sentence_vector'] = [[0] * len(GloveModel['aggressive'])] * description_unique.shape[0]"
   ]
  },
  {
   "cell_type": "code",
   "execution_count": 128,
   "metadata": {
    "scrolled": true
   },
   "outputs": [
    {
     "name": "stdout",
     "output_type": "stream",
     "text": [
      "0\n",
      "100\n",
      "200\n",
      "300\n",
      "400\n",
      "500\n",
      "600\n",
      "700\n",
      "800\n",
      "900\n",
      "1000\n",
      "1100\n",
      "1200\n",
      "1300\n",
      "1400\n",
      "1500\n",
      "1600\n",
      "1700\n",
      "1800\n",
      "1900\n",
      "2000\n",
      "2100\n",
      "2200\n",
      "2300\n",
      "2400\n",
      "2500\n",
      "2600\n",
      "2700\n",
      "2800\n",
      "2900\n",
      "3000\n",
      "3100\n",
      "3200\n",
      "3300\n",
      "3400\n",
      "3500\n",
      "3600\n",
      "3700\n",
      "3800\n",
      "3900\n",
      "4000\n",
      "4100\n",
      "4200\n",
      "4300\n",
      "4400\n",
      "4500\n",
      "4600\n",
      "4700\n",
      "4800\n",
      "4900\n",
      "5000\n",
      "5100\n",
      "5200\n",
      "5300\n",
      "5400\n",
      "5500\n",
      "5600\n",
      "5700\n",
      "5800\n",
      "5900\n",
      "6000\n",
      "6100\n",
      "6200\n",
      "6300\n",
      "6400\n",
      "6500\n",
      "6600\n",
      "6700\n",
      "6800\n",
      "6900\n",
      "7000\n"
     ]
    }
   ],
   "source": [
    "for i in range(description_unique.shape[0]):\n",
    "    ### length of the vector\n",
    "    featureVec = np.zeros((25), dtype=\"float32\")\n",
    "    nwords = 0\n",
    "    for word in description_unique['clean_list'][i]:\n",
    "        if word in GloveModel.keys() and word in description_unique['word'][i]:\n",
    "            nwords = nwords+1 \n",
    "            index_value = description_unique['word'][i].index(word)\n",
    "            value = description_unique['value'][i][index_value]\n",
    "            featureVec = np.add(featureVec, GloveModel[word] * value)\n",
    "    if(nwords>0):\n",
    "        description_unique['tfidf_sentence_vector'][i] = np.divide(featureVec, nwords)\n",
    "        \n",
    "    if i % 100 == 0:\n",
    "        print(i)"
   ]
  },
  {
   "cell_type": "code",
   "execution_count": 129,
   "metadata": {},
   "outputs": [
    {
     "data": {
      "text/html": [
       "<div>\n",
       "<style scoped>\n",
       "    .dataframe tbody tr th:only-of-type {\n",
       "        vertical-align: middle;\n",
       "    }\n",
       "\n",
       "    .dataframe tbody tr th {\n",
       "        vertical-align: top;\n",
       "    }\n",
       "\n",
       "    .dataframe thead th {\n",
       "        text-align: right;\n",
       "    }\n",
       "</style>\n",
       "<table border=\"1\" class=\"dataframe\">\n",
       "  <thead>\n",
       "    <tr style=\"text-align: right;\">\n",
       "      <th></th>\n",
       "      <th>video_id</th>\n",
       "      <th>description</th>\n",
       "      <th>link</th>\n",
       "      <th>clean_list</th>\n",
       "      <th>clean</th>\n",
       "      <th>tfidf_list</th>\n",
       "      <th>word</th>\n",
       "      <th>value</th>\n",
       "      <th>tfidf_sentence_vector</th>\n",
       "    </tr>\n",
       "  </thead>\n",
       "  <tbody>\n",
       "    <tr>\n",
       "      <th>0</th>\n",
       "      <td>2kyS6SvSYSE</td>\n",
       "      <td>SHANTELL'S CHANNEL - https://www.youtube.com/s...</td>\n",
       "      <td>SHANTELL'S CHANNEL - link - link this video in...</td>\n",
       "      <td>[SHANTELL, 'S, CHANNEL, link, link, video, 4k,...</td>\n",
       "      <td>SHANTELL 'S CHANNEL - link - link video 4k -- ...</td>\n",
       "      <td>[[shantell, 0.41031983919836235], [channel, 0....</td>\n",
       "      <td>[shantell, channel, link, video, 4k, lens, dro...</td>\n",
       "      <td>[0.41031983919836235, 0.039715528526926704, 0....</td>\n",
       "      <td>[0.2522900312487611, 0.14274832841273197, 0.01...</td>\n",
       "    </tr>\n",
       "    <tr>\n",
       "      <th>1</th>\n",
       "      <td>1ZAPwfrtAFY</td>\n",
       "      <td>One year after the presidential election, John...</td>\n",
       "      <td>One year after the presidential election, John...</td>\n",
       "      <td>[One, year, presidential, election, John, Oliv...</td>\n",
       "      <td>One year presidential election , John Oliver d...</td>\n",
       "      <td>[[channel, 0.058823250761195295], [link, 0.080...</td>\n",
       "      <td>[channel, link, like, one, year, presidential,...</td>\n",
       "      <td>[0.058823250761195295, 0.08039780635056651, 0....</td>\n",
       "      <td>[0.043884719653652406, 0.06168710618727217, 0....</td>\n",
       "    </tr>\n",
       "    <tr>\n",
       "      <th>2</th>\n",
       "      <td>5qpjK5DgCt4</td>\n",
       "      <td>WATCH MY PREVIOUS VIDEO ▶ \\n\\nSUBSCRIBE ► http...</td>\n",
       "      <td>WATCH MY PREVIOUS VIDEO ▶ \\n\\nSUBSCRIBE ► link...</td>\n",
       "      <td>[WATCH, MY, PREVIOUS, VIDEO, ▶, SUBSCRIBE, ►, ...</td>\n",
       "      <td>WATCH MY PREVIOUS VIDEO ▶   SUBSCRIBE ► link F...</td>\n",
       "      <td>[[link, 0.4958034468181018], [video, 0.0487212...</td>\n",
       "      <td>[link, video, for, like, subscribe, find, watc...</td>\n",
       "      <td>[0.4958034468181018, 0.04872122110969227, 0.14...</td>\n",
       "      <td>[0.6688884301023011, 0.3401608287929632, 0.087...</td>\n",
       "    </tr>\n",
       "    <tr>\n",
       "      <th>3</th>\n",
       "      <td>puqaWrEC7tY</td>\n",
       "      <td>Today we find out if Link is a Nickelback amat...</td>\n",
       "      <td>Today we find out if Link is a Nickelback amat...</td>\n",
       "      <td>[Today, find, Link, Nickelback, amateur, secre...</td>\n",
       "      <td>Today find Link Nickelback amateur secret Nick...</td>\n",
       "      <td>[[link, 0.4734559150111629], [video, 0.0368324...</td>\n",
       "      <td>[link, video, the, intro, is, find, us, offici...</td>\n",
       "      <td>[0.4734559150111629, 0.03683244328900145, 0.03...</td>\n",
       "      <td>[0.32887673214936824, 0.18225819338327617, 0.0...</td>\n",
       "    </tr>\n",
       "    <tr>\n",
       "      <th>4</th>\n",
       "      <td>d380meD0W0M</td>\n",
       "      <td>I know it's been a while since we did this sho...</td>\n",
       "      <td>I know it's been a while since we did this sho...</td>\n",
       "      <td>[I, know, 's, since, show, 're, back, might, b...</td>\n",
       "      <td>I know 's since show , 're back might best epi...</td>\n",
       "      <td>[[channel, 0.08641144728807448], [link, 0.1181...</td>\n",
       "      <td>[channel, link, might, us, official, new, epis...</td>\n",
       "      <td>[0.08641144728807448, 0.1181045031622395, 0.16...</td>\n",
       "      <td>[0.050219841250754, 0.07130838001383584, 0.009...</td>\n",
       "    </tr>\n",
       "  </tbody>\n",
       "</table>\n",
       "</div>"
      ],
      "text/plain": [
       "      video_id                                        description  \\\n",
       "0  2kyS6SvSYSE  SHANTELL'S CHANNEL - https://www.youtube.com/s...   \n",
       "1  1ZAPwfrtAFY  One year after the presidential election, John...   \n",
       "2  5qpjK5DgCt4  WATCH MY PREVIOUS VIDEO ▶ \\n\\nSUBSCRIBE ► http...   \n",
       "3  puqaWrEC7tY  Today we find out if Link is a Nickelback amat...   \n",
       "4  d380meD0W0M  I know it's been a while since we did this sho...   \n",
       "\n",
       "                                                link  \\\n",
       "0  SHANTELL'S CHANNEL - link - link this video in...   \n",
       "1  One year after the presidential election, John...   \n",
       "2  WATCH MY PREVIOUS VIDEO ▶ \\n\\nSUBSCRIBE ► link...   \n",
       "3  Today we find out if Link is a Nickelback amat...   \n",
       "4  I know it's been a while since we did this sho...   \n",
       "\n",
       "                                          clean_list  \\\n",
       "0  [SHANTELL, 'S, CHANNEL, link, link, video, 4k,...   \n",
       "1  [One, year, presidential, election, John, Oliv...   \n",
       "2  [WATCH, MY, PREVIOUS, VIDEO, ▶, SUBSCRIBE, ►, ...   \n",
       "3  [Today, find, Link, Nickelback, amateur, secre...   \n",
       "4  [I, know, 's, since, show, 're, back, might, b...   \n",
       "\n",
       "                                               clean  \\\n",
       "0  SHANTELL 'S CHANNEL - link - link video 4k -- ...   \n",
       "1  One year presidential election , John Oliver d...   \n",
       "2  WATCH MY PREVIOUS VIDEO ▶   SUBSCRIBE ► link F...   \n",
       "3  Today find Link Nickelback amateur secret Nick...   \n",
       "4  I know 's since show , 're back might best epi...   \n",
       "\n",
       "                                          tfidf_list  \\\n",
       "0  [[shantell, 0.41031983919836235], [channel, 0....   \n",
       "1  [[channel, 0.058823250761195295], [link, 0.080...   \n",
       "2  [[link, 0.4958034468181018], [video, 0.0487212...   \n",
       "3  [[link, 0.4734559150111629], [video, 0.0368324...   \n",
       "4  [[channel, 0.08641144728807448], [link, 0.1181...   \n",
       "\n",
       "                                                word  \\\n",
       "0  [shantell, channel, link, video, 4k, lens, dro...   \n",
       "1  [channel, link, like, one, year, presidential,...   \n",
       "2  [link, video, for, like, subscribe, find, watc...   \n",
       "3  [link, video, the, intro, is, find, us, offici...   \n",
       "4  [channel, link, might, us, official, new, epis...   \n",
       "\n",
       "                                               value  \\\n",
       "0  [0.41031983919836235, 0.039715528526926704, 0....   \n",
       "1  [0.058823250761195295, 0.08039780635056651, 0....   \n",
       "2  [0.4958034468181018, 0.04872122110969227, 0.14...   \n",
       "3  [0.4734559150111629, 0.03683244328900145, 0.03...   \n",
       "4  [0.08641144728807448, 0.1181045031622395, 0.16...   \n",
       "\n",
       "                               tfidf_sentence_vector  \n",
       "0  [0.2522900312487611, 0.14274832841273197, 0.01...  \n",
       "1  [0.043884719653652406, 0.06168710618727217, 0....  \n",
       "2  [0.6688884301023011, 0.3401608287929632, 0.087...  \n",
       "3  [0.32887673214936824, 0.18225819338327617, 0.0...  \n",
       "4  [0.050219841250754, 0.07130838001383584, 0.009...  "
      ]
     },
     "execution_count": 129,
     "metadata": {},
     "output_type": "execute_result"
    }
   ],
   "source": [
    "description_unique.head()"
   ]
  },
  {
   "cell_type": "code",
   "execution_count": 136,
   "metadata": {},
   "outputs": [
    {
     "data": {
      "text/plain": [
       "25"
      ]
     },
     "execution_count": 136,
     "metadata": {},
     "output_type": "execute_result"
    }
   ],
   "source": [
    "len(description_unique['tfidf_sentence_vector'][0])"
   ]
  },
  {
   "cell_type": "code",
   "execution_count": 273,
   "metadata": {},
   "outputs": [
    {
     "data": {
      "text/plain": [
       "(7063, 9)"
      ]
     },
     "execution_count": 273,
     "metadata": {},
     "output_type": "execute_result"
    }
   ],
   "source": [
    "description_unique.shape"
   ]
  },
  {
   "cell_type": "code",
   "execution_count": 133,
   "metadata": {},
   "outputs": [],
   "source": [
    "description_unique.to_csv('sentence_vector')"
   ]
  },
  {
   "cell_type": "code",
   "execution_count": 135,
   "metadata": {},
   "outputs": [],
   "source": [
    "description_unique[['video_id', 'description', 'tfidf_sentence_vector']].to_csv('simplified_sentence_vector')"
   ]
  },
  {
   "cell_type": "markdown",
   "metadata": {},
   "source": [
    "## Description NaN"
   ]
  },
  {
   "cell_type": "code",
   "execution_count": 216,
   "metadata": {},
   "outputs": [],
   "source": [
    "data['description'] = data['description'].apply(str)"
   ]
  },
  {
   "cell_type": "code",
   "execution_count": 217,
   "metadata": {},
   "outputs": [],
   "source": [
    "description_NaN = data.loc[data['description'] == 'nan']"
   ]
  },
  {
   "cell_type": "code",
   "execution_count": 218,
   "metadata": {},
   "outputs": [
    {
     "data": {
      "text/plain": [
       "(570, 16)"
      ]
     },
     "execution_count": 218,
     "metadata": {},
     "output_type": "execute_result"
    }
   ],
   "source": [
    "description_NaN.shape"
   ]
  },
  {
   "cell_type": "code",
   "execution_count": 228,
   "metadata": {},
   "outputs": [],
   "source": [
    "description_NaN = description_NaN.drop_duplicates(subset=['video_id'])\n",
    "description_NaN = description_NaN[['video_id', 'title', 'tags', 'description']]\n",
    "description_NaN.index = range(0, description_NaN.shape[0])"
   ]
  },
  {
   "cell_type": "code",
   "execution_count": 229,
   "metadata": {},
   "outputs": [
    {
     "data": {
      "text/plain": [
       "(104, 4)"
      ]
     },
     "execution_count": 229,
     "metadata": {},
     "output_type": "execute_result"
    }
   ],
   "source": [
    "description_NaN.shape"
   ]
  },
  {
   "cell_type": "code",
   "execution_count": null,
   "metadata": {},
   "outputs": [],
   "source": [
    "description_NaN['tags'] = description_NaN.tags.apply(lambda x: '' if x == '[none]' else x)"
   ]
  },
  {
   "cell_type": "code",
   "execution_count": 243,
   "metadata": {},
   "outputs": [],
   "source": [
    "description_NaN['title_tags'] = description_NaN[\"title\"] + description_NaN[\"tags\"]"
   ]
  },
  {
   "cell_type": "code",
   "execution_count": 247,
   "metadata": {},
   "outputs": [],
   "source": [
    "description_NaN = description_NaN[['video_id', 'title_tags']]"
   ]
  },
  {
   "cell_type": "code",
   "execution_count": 248,
   "metadata": {},
   "outputs": [
    {
     "data": {
      "text/html": [
       "<div>\n",
       "<style scoped>\n",
       "    .dataframe tbody tr th:only-of-type {\n",
       "        vertical-align: middle;\n",
       "    }\n",
       "\n",
       "    .dataframe tbody tr th {\n",
       "        vertical-align: top;\n",
       "    }\n",
       "\n",
       "    .dataframe thead th {\n",
       "        text-align: right;\n",
       "    }\n",
       "</style>\n",
       "<table border=\"1\" class=\"dataframe\">\n",
       "  <thead>\n",
       "    <tr style=\"text-align: right;\">\n",
       "      <th></th>\n",
       "      <th>video_id</th>\n",
       "      <th>title_tags</th>\n",
       "    </tr>\n",
       "  </thead>\n",
       "  <tbody>\n",
       "    <tr>\n",
       "      <th>0</th>\n",
       "      <td>NZFhMSgbKKM</td>\n",
       "      <td>Dennis Smith Jr. and LeBron James go back and ...</td>\n",
       "    </tr>\n",
       "    <tr>\n",
       "      <th>1</th>\n",
       "      <td>sbcbvuitiTc</td>\n",
       "      <td>Stephon Marbury and Jimmer Fredette fight in C...</td>\n",
       "    </tr>\n",
       "    <tr>\n",
       "      <th>2</th>\n",
       "      <td>4d07RXYLsJE</td>\n",
       "      <td>Sphaera - demonstrating interaction</td>\n",
       "    </tr>\n",
       "    <tr>\n",
       "      <th>3</th>\n",
       "      <td>upEIZAihcwo</td>\n",
       "      <td>Devin Booker has words with Lakers assistant J...</td>\n",
       "    </tr>\n",
       "    <tr>\n",
       "      <th>4</th>\n",
       "      <td>U5sCjnezw4o</td>\n",
       "      <td>Jaylen Brown delivers emotional press conferen...</td>\n",
       "    </tr>\n",
       "  </tbody>\n",
       "</table>\n",
       "</div>"
      ],
      "text/plain": [
       "      video_id                                         title_tags\n",
       "0  NZFhMSgbKKM  Dennis Smith Jr. and LeBron James go back and ...\n",
       "1  sbcbvuitiTc  Stephon Marbury and Jimmer Fredette fight in C...\n",
       "2  4d07RXYLsJE                Sphaera - demonstrating interaction\n",
       "3  upEIZAihcwo  Devin Booker has words with Lakers assistant J...\n",
       "4  U5sCjnezw4o  Jaylen Brown delivers emotional press conferen..."
      ]
     },
     "execution_count": 248,
     "metadata": {},
     "output_type": "execute_result"
    }
   ],
   "source": [
    "description_NaN.head()"
   ]
  },
  {
   "cell_type": "code",
   "execution_count": 249,
   "metadata": {},
   "outputs": [],
   "source": [
    "description_NaN['title_tags'] = description_NaN['title_tags'].str.replace('|', ' ')"
   ]
  },
  {
   "cell_type": "code",
   "execution_count": 250,
   "metadata": {},
   "outputs": [],
   "source": [
    "description_NaN['title_tags'] = description_NaN['title_tags'].str.lower()"
   ]
  },
  {
   "cell_type": "code",
   "execution_count": 253,
   "metadata": {},
   "outputs": [
    {
     "data": {
      "text/plain": [
       "'flynn promised \\'full cooperation\\' to mueller team, prepared to testify   the viewjoy behar \"the view\" \"michael flynn\" \"robert mueller\" \"special counsel\" \"russia\" \"hot topics\" \"guilty\" \"fbi\" \"federal prosecutor\"'"
      ]
     },
     "execution_count": 253,
     "metadata": {},
     "output_type": "execute_result"
    }
   ],
   "source": [
    "description_NaN['title_tags'][18]"
   ]
  },
  {
   "cell_type": "code",
   "execution_count": 257,
   "metadata": {},
   "outputs": [],
   "source": [
    "description_NaN['title_tags'] = description_NaN.title_tags.apply(remove_punctuations)\n",
    "description_NaN['title_tags'] = description_NaN.title_tags.apply(lambda x: ' '.join(x))"
   ]
  },
  {
   "cell_type": "code",
   "execution_count": 260,
   "metadata": {},
   "outputs": [],
   "source": [
    "description_NaN['title_tags'] = description_NaN['title_tags'].str.replace('``', '')"
   ]
  },
  {
   "cell_type": "code",
   "execution_count": 262,
   "metadata": {},
   "outputs": [],
   "source": [
    "description_NaN['title_tags'] = description_NaN['title_tags'].str.replace('\\'\\'', '')"
   ]
  },
  {
   "cell_type": "code",
   "execution_count": 268,
   "metadata": {},
   "outputs": [],
   "source": [
    "description_NaN['title_tags_vector'] = description_NaN.title_tags.apply(lambda x: list(avg_feature_vector(x, GloveModel, 25)), )"
   ]
  },
  {
   "cell_type": "code",
   "execution_count": 269,
   "metadata": {},
   "outputs": [],
   "source": [
    "for i in range(25):\n",
    "    dim = 'd' + str(i)\n",
    "    description_NaN[dim] = description_NaN['title_tags_vector'].map(lambda x: x[i])"
   ]
  },
  {
   "cell_type": "code",
   "execution_count": 270,
   "metadata": {},
   "outputs": [
    {
     "data": {
      "text/html": [
       "<div>\n",
       "<style scoped>\n",
       "    .dataframe tbody tr th:only-of-type {\n",
       "        vertical-align: middle;\n",
       "    }\n",
       "\n",
       "    .dataframe tbody tr th {\n",
       "        vertical-align: top;\n",
       "    }\n",
       "\n",
       "    .dataframe thead th {\n",
       "        text-align: right;\n",
       "    }\n",
       "</style>\n",
       "<table border=\"1\" class=\"dataframe\">\n",
       "  <thead>\n",
       "    <tr style=\"text-align: right;\">\n",
       "      <th></th>\n",
       "      <th>video_id</th>\n",
       "      <th>title_tags</th>\n",
       "      <th>title_tags_vector</th>\n",
       "      <th>d0</th>\n",
       "      <th>d1</th>\n",
       "      <th>d2</th>\n",
       "      <th>d3</th>\n",
       "      <th>d4</th>\n",
       "      <th>d5</th>\n",
       "      <th>d6</th>\n",
       "      <th>...</th>\n",
       "      <th>d15</th>\n",
       "      <th>d16</th>\n",
       "      <th>d17</th>\n",
       "      <th>d18</th>\n",
       "      <th>d19</th>\n",
       "      <th>d20</th>\n",
       "      <th>d21</th>\n",
       "      <th>d22</th>\n",
       "      <th>d23</th>\n",
       "      <th>d24</th>\n",
       "    </tr>\n",
       "  </thead>\n",
       "  <tbody>\n",
       "    <tr>\n",
       "      <th>0</th>\n",
       "      <td>NZFhMSgbKKM</td>\n",
       "      <td>dennis smith jr. and lebron james go back and ...</td>\n",
       "      <td>[0.6253052380952381, 0.13910166666666665, -0.2...</td>\n",
       "      <td>0.625305</td>\n",
       "      <td>0.139102</td>\n",
       "      <td>-0.283588</td>\n",
       "      <td>-0.227904</td>\n",
       "      <td>-0.067118</td>\n",
       "      <td>0.169542</td>\n",
       "      <td>0.037962</td>\n",
       "      <td>...</td>\n",
       "      <td>-0.453745</td>\n",
       "      <td>-0.986305</td>\n",
       "      <td>-0.052320</td>\n",
       "      <td>-1.001729</td>\n",
       "      <td>0.403276</td>\n",
       "      <td>-0.219858</td>\n",
       "      <td>-0.460406</td>\n",
       "      <td>0.449210</td>\n",
       "      <td>0.258050</td>\n",
       "      <td>0.272452</td>\n",
       "    </tr>\n",
       "    <tr>\n",
       "      <th>1</th>\n",
       "      <td>sbcbvuitiTc</td>\n",
       "      <td>stephon marbury and jimmer fredette fight in c...</td>\n",
       "      <td>[0.6024717741935487, 0.19855212903225805, -0.3...</td>\n",
       "      <td>0.602472</td>\n",
       "      <td>0.198552</td>\n",
       "      <td>-0.310566</td>\n",
       "      <td>-0.306277</td>\n",
       "      <td>-0.117967</td>\n",
       "      <td>0.142564</td>\n",
       "      <td>-0.033497</td>\n",
       "      <td>...</td>\n",
       "      <td>-0.363655</td>\n",
       "      <td>-0.992073</td>\n",
       "      <td>-0.042332</td>\n",
       "      <td>-0.975748</td>\n",
       "      <td>0.456753</td>\n",
       "      <td>-0.234754</td>\n",
       "      <td>-0.469292</td>\n",
       "      <td>0.463799</td>\n",
       "      <td>0.228424</td>\n",
       "      <td>0.248808</td>\n",
       "    </tr>\n",
       "    <tr>\n",
       "      <th>2</th>\n",
       "      <td>4d07RXYLsJE</td>\n",
       "      <td>sphaera demonstrating interaction</td>\n",
       "      <td>[0.6172538709677418, 0.15337616129032253, -0.2...</td>\n",
       "      <td>0.617254</td>\n",
       "      <td>0.153376</td>\n",
       "      <td>-0.243323</td>\n",
       "      <td>-0.180009</td>\n",
       "      <td>-0.078361</td>\n",
       "      <td>0.121605</td>\n",
       "      <td>0.087295</td>\n",
       "      <td>...</td>\n",
       "      <td>-0.372557</td>\n",
       "      <td>-0.956207</td>\n",
       "      <td>-0.018606</td>\n",
       "      <td>-1.034335</td>\n",
       "      <td>0.290970</td>\n",
       "      <td>-0.148320</td>\n",
       "      <td>-0.423544</td>\n",
       "      <td>0.479937</td>\n",
       "      <td>0.246594</td>\n",
       "      <td>0.312961</td>\n",
       "    </tr>\n",
       "    <tr>\n",
       "      <th>3</th>\n",
       "      <td>upEIZAihcwo</td>\n",
       "      <td>devin booker has words with lakers assistant j...</td>\n",
       "      <td>[0.6890575700934587, 0.13426796261682236, -0.1...</td>\n",
       "      <td>0.689058</td>\n",
       "      <td>0.134268</td>\n",
       "      <td>-0.194336</td>\n",
       "      <td>-0.257809</td>\n",
       "      <td>-0.071194</td>\n",
       "      <td>0.085133</td>\n",
       "      <td>-0.131682</td>\n",
       "      <td>...</td>\n",
       "      <td>-0.474696</td>\n",
       "      <td>-1.046916</td>\n",
       "      <td>-0.032989</td>\n",
       "      <td>-0.970233</td>\n",
       "      <td>0.398769</td>\n",
       "      <td>-0.280712</td>\n",
       "      <td>-0.339293</td>\n",
       "      <td>0.428686</td>\n",
       "      <td>0.337578</td>\n",
       "      <td>0.265754</td>\n",
       "    </tr>\n",
       "    <tr>\n",
       "      <th>4</th>\n",
       "      <td>U5sCjnezw4o</td>\n",
       "      <td>jaylen brown delivers emotional press conferen...</td>\n",
       "      <td>[0.6242389320388355, 0.10606933009708734, -0.2...</td>\n",
       "      <td>0.624239</td>\n",
       "      <td>0.106069</td>\n",
       "      <td>-0.239996</td>\n",
       "      <td>-0.269917</td>\n",
       "      <td>-0.096775</td>\n",
       "      <td>0.071416</td>\n",
       "      <td>0.008835</td>\n",
       "      <td>...</td>\n",
       "      <td>-0.465658</td>\n",
       "      <td>-0.979705</td>\n",
       "      <td>-0.031852</td>\n",
       "      <td>-0.969823</td>\n",
       "      <td>0.367678</td>\n",
       "      <td>-0.195611</td>\n",
       "      <td>-0.383193</td>\n",
       "      <td>0.456702</td>\n",
       "      <td>0.298584</td>\n",
       "      <td>0.309589</td>\n",
       "    </tr>\n",
       "  </tbody>\n",
       "</table>\n",
       "<p>5 rows × 28 columns</p>\n",
       "</div>"
      ],
      "text/plain": [
       "      video_id                                         title_tags  \\\n",
       "0  NZFhMSgbKKM  dennis smith jr. and lebron james go back and ...   \n",
       "1  sbcbvuitiTc  stephon marbury and jimmer fredette fight in c...   \n",
       "2  4d07RXYLsJE                  sphaera demonstrating interaction   \n",
       "3  upEIZAihcwo  devin booker has words with lakers assistant j...   \n",
       "4  U5sCjnezw4o  jaylen brown delivers emotional press conferen...   \n",
       "\n",
       "                                   title_tags_vector        d0        d1  \\\n",
       "0  [0.6253052380952381, 0.13910166666666665, -0.2...  0.625305  0.139102   \n",
       "1  [0.6024717741935487, 0.19855212903225805, -0.3...  0.602472  0.198552   \n",
       "2  [0.6172538709677418, 0.15337616129032253, -0.2...  0.617254  0.153376   \n",
       "3  [0.6890575700934587, 0.13426796261682236, -0.1...  0.689058  0.134268   \n",
       "4  [0.6242389320388355, 0.10606933009708734, -0.2...  0.624239  0.106069   \n",
       "\n",
       "         d2        d3        d4        d5        d6    ...          d15  \\\n",
       "0 -0.283588 -0.227904 -0.067118  0.169542  0.037962    ...    -0.453745   \n",
       "1 -0.310566 -0.306277 -0.117967  0.142564 -0.033497    ...    -0.363655   \n",
       "2 -0.243323 -0.180009 -0.078361  0.121605  0.087295    ...    -0.372557   \n",
       "3 -0.194336 -0.257809 -0.071194  0.085133 -0.131682    ...    -0.474696   \n",
       "4 -0.239996 -0.269917 -0.096775  0.071416  0.008835    ...    -0.465658   \n",
       "\n",
       "        d16       d17       d18       d19       d20       d21       d22  \\\n",
       "0 -0.986305 -0.052320 -1.001729  0.403276 -0.219858 -0.460406  0.449210   \n",
       "1 -0.992073 -0.042332 -0.975748  0.456753 -0.234754 -0.469292  0.463799   \n",
       "2 -0.956207 -0.018606 -1.034335  0.290970 -0.148320 -0.423544  0.479937   \n",
       "3 -1.046916 -0.032989 -0.970233  0.398769 -0.280712 -0.339293  0.428686   \n",
       "4 -0.979705 -0.031852 -0.969823  0.367678 -0.195611 -0.383193  0.456702   \n",
       "\n",
       "        d23       d24  \n",
       "0  0.258050  0.272452  \n",
       "1  0.228424  0.248808  \n",
       "2  0.246594  0.312961  \n",
       "3  0.337578  0.265754  \n",
       "4  0.298584  0.309589  \n",
       "\n",
       "[5 rows x 28 columns]"
      ]
     },
     "execution_count": 270,
     "metadata": {},
     "output_type": "execute_result"
    }
   ],
   "source": [
    "description_NaN.head()"
   ]
  },
  {
   "cell_type": "code",
   "execution_count": 271,
   "metadata": {},
   "outputs": [],
   "source": [
    "description_NaN.to_csv('description_NaN.csv')"
   ]
  },
  {
   "cell_type": "markdown",
   "metadata": {},
   "source": [
    "## tags"
   ]
  },
  {
   "cell_type": "code",
   "execution_count": 76,
   "metadata": {},
   "outputs": [
    {
     "data": {
      "text/plain": [
       "(6573, 2)"
      ]
     },
     "execution_count": 76,
     "metadata": {},
     "output_type": "execute_result"
    }
   ],
   "source": [
    "tags_unique = data[['video_id', 'tags']]\n",
    "tags_unique = tags_unique.drop_duplicates()\n",
    "tags_unique.shape"
   ]
  },
  {
   "cell_type": "code",
   "execution_count": 77,
   "metadata": {},
   "outputs": [],
   "source": [
    "tags_unique['tags'] = tags_unique['tags'].str.replace('|', ' ')"
   ]
  },
  {
   "cell_type": "code",
   "execution_count": 78,
   "metadata": {},
   "outputs": [],
   "source": [
    "tags_unique['tags'] = tags_unique['tags'].str.lower()"
   ]
  },
  {
   "cell_type": "code",
   "execution_count": 80,
   "metadata": {},
   "outputs": [],
   "source": [
    "# tags_unique['glove'] = tags_unique.apply(lambda x: list(avg_feature_vector(x['tags'], GloveModel, 100)), axis=1)"
   ]
  },
  {
   "cell_type": "code",
   "execution_count": 81,
   "metadata": {},
   "outputs": [],
   "source": [
    "tags_unique['google'] = tags_unique.apply(lambda x: list(avg_feature_vector(x['tags'], GoogleModel, 300)), axis=1)"
   ]
  },
  {
   "cell_type": "markdown",
   "metadata": {},
   "source": [
    "## Entities"
   ]
  },
  {
   "cell_type": "code",
   "execution_count": 352,
   "metadata": {},
   "outputs": [],
   "source": [
    "# Load English tokenizer, tagger, parser, NER and word vectors\n",
    "nlp = spacy.load('en_core_web_sm')"
   ]
  },
  {
   "cell_type": "code",
   "execution_count": null,
   "metadata": {},
   "outputs": [],
   "source": [
    "tags_unique['google'] = tags_unique.apply(lambda x: list(avg_feature_vector(x['tags'], GoogleModel, 300)), axis=1)"
   ]
  },
  {
   "cell_type": "code",
   "execution_count": 394,
   "metadata": {},
   "outputs": [
    {
     "name": "stdout",
     "output_type": "stream",
     "text": [
      "Donald Trump PERSON\n",
      "13-day DATE\n",
      "Asia LOC\n",
      "ABC ORG\n",
      "This Week today DATE\n",
      "White House ORG\n",
      "Kellyanne Conway PERSON\n",
      "Alabama GPE\n",
      "GOP ORG\n",
      "Senate ORG\n",
      "Roy Moore PERSON\n",
      "14-year-old DATE\n",
      "Martha Raddatz PERSON\n",
      "Conway ORG\n",
      "Trump ORG\n",
      "Moore ORG\n",
      "Asia visit.\\n“I ORG\n",
      "13-day DATE\n",
      "Conway ORG\n",
      "\\nRaddatz PERSON\n",
      "Conway ORG\n",
      "Conway ORG\n",
      "Roy Moore PERSON\n",
      "Conway ORG\n"
     ]
    }
   ],
   "source": [
    "doc = nlp(data.description[57])\n",
    "for entity in doc.ents:\n",
    "    print(entity.text, entity.label_)"
   ]
  },
  {
   "cell_type": "code",
   "execution_count": 73,
   "metadata": {},
   "outputs": [],
   "source": [
    "# for i in range(description_unique.shape[0]):\n",
    "#     string = description_unique.clean[i]\n",
    "#     if string.find('donald trump') != -1:\n",
    "#         print(i)"
   ]
  },
  {
   "cell_type": "code",
   "execution_count": 353,
   "metadata": {},
   "outputs": [
    {
     "name": "stdout",
     "output_type": "stream",
     "text": [
      "Sebastian Thrun PERSON\n",
      "Google ORG\n",
      "2007 DATE\n",
      "American NORP\n",
      "Thrun PERSON\n",
      "Recode ORG\n",
      "earlier this week DATE\n",
      "my fries were super gross such disgusting fries 0.7139701576579747\n"
     ]
    }
   ],
   "source": [
    "# Process whole documents\n",
    "text = (u\"When Sebastian Thrun started working on self-driving cars at \"\n",
    "        u\"Google in 2007, few people outside of the company took him \"\n",
    "        u\"seriously. “I can tell you very senior CEOs of major American \"\n",
    "        u\"car companies would shake my hand and turn away because I wasn’t \"\n",
    "        u\"worth talking to,” said Thrun, now the co-founder and CEO of \"\n",
    "        u\"online higher education startup Udacity, in an interview with \"\n",
    "        u\"Recode earlier this week.\")\n",
    "doc = nlp(text)"
   ]
  },
  {
   "cell_type": "code",
   "execution_count": 354,
   "metadata": {},
   "outputs": [
    {
     "name": "stdout",
     "output_type": "stream",
     "text": [
      "Sebastian Thrun PERSON\n",
      "Google ORG\n",
      "2007 DATE\n",
      "American NORP\n",
      "Thrun PERSON\n",
      "Recode ORG\n",
      "earlier this week DATE\n"
     ]
    }
   ],
   "source": [
    "# Find named entities, phrases and concepts\n",
    "for entity in doc.ents:\n",
    "    print(entity.text, entity.label_)"
   ]
  },
  {
   "cell_type": "code",
   "execution_count": null,
   "metadata": {},
   "outputs": [],
   "source": [
    "# Determine semantic similarities\n",
    "doc1 = nlp(u\"my fries were super gross\")\n",
    "doc2 = nlp(u\"such disgusting fries\")\n",
    "similarity = doc1.similarity(doc2)\n",
    "print(doc1.text, doc2.text, similarity)"
   ]
  },
  {
   "cell_type": "markdown",
   "metadata": {},
   "source": [
    "## Wordcloud using Youtube Icon"
   ]
  },
  {
   "cell_type": "code",
   "execution_count": 194,
   "metadata": {},
   "outputs": [],
   "source": [
    "import string\n",
    "import matplotlib.pyplot as plt\n",
    "import matplotlib\n",
    "from scipy.misc import imread\n",
    "from collections import Counter\n",
    "from wordcloud import WordCloud, ImageColorGenerator"
   ]
  },
  {
   "cell_type": "code",
   "execution_count": 109,
   "metadata": {},
   "outputs": [],
   "source": [
    "description_unique.index = range(0, description_unique.shape[0])"
   ]
  },
  {
   "cell_type": "code",
   "execution_count": 125,
   "metadata": {},
   "outputs": [
    {
     "data": {
      "text/plain": [
       "0    [shantell, 's, channel, -, link, -, link, vide...\n",
       "1    [one, year, presidential, election, ,, john, o...\n",
       "2    [watch, previous, video, ▶, \\n\\nsubscribe, ►, ...\n",
       "3    [today, find, link, nickelback, amateur, secre...\n",
       "4    [know, 's, since, show, ,, 're, back, might, b...\n",
       "Name: clean_list, dtype: object"
      ]
     },
     "execution_count": 125,
     "metadata": {},
     "output_type": "execute_result"
    }
   ],
   "source": [
    "description_unique['clean_list'][:5]"
   ]
  },
  {
   "cell_type": "code",
   "execution_count": 128,
   "metadata": {},
   "outputs": [],
   "source": [
    "# removing punctuation from python list items\n",
    "# x = [''.join(c for c in s if c not in string.punctuation) for s in x]\n",
    "description_unique['clean_list'] = description_unique['clean_list'].apply(lambda x: [''.join(c for c in s if c not in string.punctuation) for s in x])"
   ]
  },
  {
   "cell_type": "code",
   "execution_count": 129,
   "metadata": {},
   "outputs": [],
   "source": [
    "# remove the empty strings\n",
    "# x = [s for s in x if s]\n",
    "description_unique['clean_list'] = description_unique['clean_list'].apply(lambda x: [s for s in x if s])"
   ]
  },
  {
   "cell_type": "code",
   "execution_count": 158,
   "metadata": {},
   "outputs": [],
   "source": [
    "words = []\n",
    "for i in range(description_unique.shape[0]):\n",
    "    words.extend(description_unique['clean_list'][i])\n",
    "#     if i % 1000 == 0:\n",
    "#         print(i)\n",
    "#     else:\n",
    "#         continue"
   ]
  },
  {
   "cell_type": "code",
   "execution_count": 159,
   "metadata": {},
   "outputs": [],
   "source": [
    "words = [word for word in words if word != 'link']"
   ]
  },
  {
   "cell_type": "code",
   "execution_count": 160,
   "metadata": {},
   "outputs": [],
   "source": [
    "words = [word for word in words if word != 's']"
   ]
  },
  {
   "cell_type": "code",
   "execution_count": 169,
   "metadata": {},
   "outputs": [],
   "source": [
    "words = [word for word in words if word != \"’\"]"
   ]
  },
  {
   "cell_type": "code",
   "execution_count": 177,
   "metadata": {},
   "outputs": [],
   "source": [
    "words = [word for word in words if word != \"”\"]"
   ]
  },
  {
   "cell_type": "code",
   "execution_count": 180,
   "metadata": {},
   "outputs": [],
   "source": [
    "words = [word for word in words if word != \"“\"]"
   ]
  },
  {
   "cell_type": "code",
   "execution_count": 184,
   "metadata": {},
   "outputs": [],
   "source": [
    "words = [word for word in words if word != \"»\"]"
   ]
  },
  {
   "cell_type": "code",
   "execution_count": 185,
   "metadata": {},
   "outputs": [],
   "source": [
    "words = [word for word in words if word != \"n\"]"
   ]
  },
  {
   "cell_type": "code",
   "execution_count": 203,
   "metadata": {},
   "outputs": [],
   "source": [
    "words = [word for word in words if word != \"►\"]"
   ]
  },
  {
   "cell_type": "code",
   "execution_count": 204,
   "metadata": {},
   "outputs": [],
   "source": [
    "words = [word for word in words if word != \"–\"]"
   ]
  },
  {
   "cell_type": "code",
   "execution_count": 205,
   "metadata": {},
   "outputs": [],
   "source": [
    "words = [word for word in words if word != \"m\"]"
   ]
  },
  {
   "cell_type": "code",
   "execution_count": 206,
   "metadata": {},
   "outputs": [],
   "source": [
    "words = [word for word in words if word != \"link►\"]"
   ]
  },
  {
   "cell_type": "code",
   "execution_count": 207,
   "metadata": {},
   "outputs": [],
   "source": [
    "words = [word for word in words if word != \"2\"]"
   ]
  },
  {
   "cell_type": "code",
   "execution_count": 210,
   "metadata": {},
   "outputs": [],
   "source": [
    "words = [word for word in words if word != \"e\"]"
   ]
  },
  {
   "cell_type": "code",
   "execution_count": 186,
   "metadata": {},
   "outputs": [
    {
     "data": {
      "text/plain": [
       "'add'"
      ]
     },
     "execution_count": 186,
     "metadata": {},
     "output_type": "execute_result"
    }
   ],
   "source": [
    "words_stat['Words'][628]"
   ]
  },
  {
   "cell_type": "code",
   "execution_count": 211,
   "metadata": {},
   "outputs": [
    {
     "data": {
      "text/plain": [
       "510393"
      ]
     },
     "execution_count": 211,
     "metadata": {},
     "output_type": "execute_result"
    }
   ],
   "source": [
    "len(words)"
   ]
  },
  {
   "cell_type": "code",
   "execution_count": 216,
   "metadata": {},
   "outputs": [
    {
     "data": {
      "text/html": [
       "<div>\n",
       "<style scoped>\n",
       "    .dataframe tbody tr th:only-of-type {\n",
       "        vertical-align: middle;\n",
       "    }\n",
       "\n",
       "    .dataframe tbody tr th {\n",
       "        vertical-align: top;\n",
       "    }\n",
       "\n",
       "    .dataframe thead th {\n",
       "        text-align: right;\n",
       "    }\n",
       "</style>\n",
       "<table border=\"1\" class=\"dataframe\">\n",
       "  <thead>\n",
       "    <tr style=\"text-align: right;\">\n",
       "      <th></th>\n",
       "      <th>Words</th>\n",
       "      <th>Counts</th>\n",
       "    </tr>\n",
       "  </thead>\n",
       "  <tbody>\n",
       "    <tr>\n",
       "      <th>2</th>\n",
       "      <td>video</td>\n",
       "      <td>3262</td>\n",
       "    </tr>\n",
       "    <tr>\n",
       "      <th>170</th>\n",
       "      <td>nlink</td>\n",
       "      <td>2896</td>\n",
       "    </tr>\n",
       "    <tr>\n",
       "      <th>77</th>\n",
       "      <td>us</td>\n",
       "      <td>2762</td>\n",
       "    </tr>\n",
       "    <tr>\n",
       "      <th>88</th>\n",
       "      <td>videos</td>\n",
       "      <td>2403</td>\n",
       "    </tr>\n",
       "    <tr>\n",
       "      <th>119</th>\n",
       "      <td>new</td>\n",
       "      <td>2372</td>\n",
       "    </tr>\n",
       "  </tbody>\n",
       "</table>\n",
       "</div>"
      ],
      "text/plain": [
       "      Words  Counts\n",
       "2     video    3262\n",
       "170   nlink    2896\n",
       "77       us    2762\n",
       "88   videos    2403\n",
       "119     new    2372"
      ]
     },
     "execution_count": 216,
     "metadata": {},
     "output_type": "execute_result"
    }
   ],
   "source": [
    "words_stat = Counter(words)\n",
    "words_stat = pd.DataFrame(list(words_stat.items()), columns=['Words', 'Counts'])\n",
    "words_stat = words_stat.sort_values(by=['Counts'], ascending = False)\n",
    "words_stat.head(5)"
   ]
  },
  {
   "cell_type": "code",
   "execution_count": 217,
   "metadata": {},
   "outputs": [],
   "source": [
    "bimg = imread(\"image/youtube.png\")\n",
    "wordcloud = WordCloud(background_color = 'white', max_font_size = 50, mask = bimg)"
   ]
  },
  {
   "cell_type": "code",
   "execution_count": 218,
   "metadata": {},
   "outputs": [],
   "source": [
    "matplotlib.rcParams['figure.figsize'] = (10.0, 10.0)"
   ]
  },
  {
   "cell_type": "code",
   "execution_count": 225,
   "metadata": {},
   "outputs": [
    {
     "data": {
      "text/plain": [
       "<matplotlib.image.AxesImage at 0x1b6bea0940>"
      ]
     },
     "execution_count": 225,
     "metadata": {},
     "output_type": "execute_result"
    },
    {
     "data": {
      "image/png": "[encoded data removed]",
      "text/plain": [
       "<Figure size 720x720 with 1 Axes>"
      ]
     },
     "metadata": {},
     "output_type": "display_data"
    }
   ],
   "source": [
    "wordfrequency = {x[0]: x[1] for x in words_stat.head(70).values}\n",
    "wordcloud = wordcloud.fit_words(wordfrequency)\n",
    "bimgColors = ImageColorGenerator(bimg)\n",
    "plt.axis(\"off\")\n",
    "plt.imshow(wordcloud.recolor(color_func = bimgColors))"
   ]
  },
  {
   "cell_type": "code",
   "execution_count": 145,
   "metadata": {},
   "outputs": [
    {
     "data": {
      "text/html": [
       "<div>\n",
       "<style scoped>\n",
       "    .dataframe tbody tr th:only-of-type {\n",
       "        vertical-align: middle;\n",
       "    }\n",
       "\n",
       "    .dataframe tbody tr th {\n",
       "        vertical-align: top;\n",
       "    }\n",
       "\n",
       "    .dataframe thead th {\n",
       "        text-align: right;\n",
       "    }\n",
       "</style>\n",
       "<table border=\"1\" class=\"dataframe\">\n",
       "  <thead>\n",
       "    <tr style=\"text-align: right;\">\n",
       "      <th></th>\n",
       "      <th>video_id</th>\n",
       "      <th>description</th>\n",
       "      <th>tfidf_sentence_vector</th>\n",
       "    </tr>\n",
       "  </thead>\n",
       "  <tbody>\n",
       "    <tr>\n",
       "      <th>0</th>\n",
       "      <td>2kyS6SvSYSE</td>\n",
       "      <td>SHANTELL'S CHANNEL - https://www.youtube.com/s...</td>\n",
       "      <td>[0.2522900312487611, 0.14274832841273197, 0.01...</td>\n",
       "    </tr>\n",
       "    <tr>\n",
       "      <th>1</th>\n",
       "      <td>1ZAPwfrtAFY</td>\n",
       "      <td>One year after the presidential election, John...</td>\n",
       "      <td>[0.043884719653652406, 0.06168710618727217, 0....</td>\n",
       "    </tr>\n",
       "    <tr>\n",
       "      <th>2</th>\n",
       "      <td>5qpjK5DgCt4</td>\n",
       "      <td>WATCH MY PREVIOUS VIDEO ▶ \\n\\nSUBSCRIBE ► http...</td>\n",
       "      <td>[0.6688884301023011, 0.3401608287929632, 0.087...</td>\n",
       "    </tr>\n",
       "    <tr>\n",
       "      <th>3</th>\n",
       "      <td>puqaWrEC7tY</td>\n",
       "      <td>Today we find out if Link is a Nickelback amat...</td>\n",
       "      <td>[0.32887673214936824, 0.18225819338327617, 0.0...</td>\n",
       "    </tr>\n",
       "    <tr>\n",
       "      <th>4</th>\n",
       "      <td>d380meD0W0M</td>\n",
       "      <td>I know it's been a while since we did this sho...</td>\n",
       "      <td>[0.050219841250754, 0.07130838001383584, 0.009...</td>\n",
       "    </tr>\n",
       "  </tbody>\n",
       "</table>\n",
       "</div>"
      ],
      "text/plain": [
       "      video_id                                        description  \\\n",
       "0  2kyS6SvSYSE  SHANTELL'S CHANNEL - https://www.youtube.com/s...   \n",
       "1  1ZAPwfrtAFY  One year after the presidential election, John...   \n",
       "2  5qpjK5DgCt4  WATCH MY PREVIOUS VIDEO ▶ \\n\\nSUBSCRIBE ► http...   \n",
       "3  puqaWrEC7tY  Today we find out if Link is a Nickelback amat...   \n",
       "4  d380meD0W0M  I know it's been a while since we did this sho...   \n",
       "\n",
       "                               tfidf_sentence_vector  \n",
       "0  [0.2522900312487611, 0.14274832841273197, 0.01...  \n",
       "1  [0.043884719653652406, 0.06168710618727217, 0....  \n",
       "2  [0.6688884301023011, 0.3401608287929632, 0.087...  \n",
       "3  [0.32887673214936824, 0.18225819338327617, 0.0...  \n",
       "4  [0.050219841250754, 0.07130838001383584, 0.009...  "
      ]
     },
     "execution_count": 145,
     "metadata": {},
     "output_type": "execute_result"
    }
   ],
   "source": [
    "simplified_sentence_vector.head()"
   ]
  },
  {
   "cell_type": "code",
   "execution_count": 138,
   "metadata": {},
   "outputs": [],
   "source": [
    "simplified_sentence_vector = description_unique[['video_id', 'description', 'tfidf_sentence_vector']]"
   ]
  },
  {
   "cell_type": "code",
   "execution_count": 144,
   "metadata": {},
   "outputs": [
    {
     "data": {
      "text/plain": [
       "array([ 0.25229003,  0.14274833,  0.01572145, -0.05263962,  0.2145702 ,\n",
       "       -0.19384378,  0.03200801,  0.10699621,  0.05203778, -0.07774736,\n",
       "        0.01846303, -0.06802284, -0.7648342 , -0.17852176, -0.04938299,\n",
       "        0.10975147,  0.05805057, -0.01807094, -0.18807122, -0.11569733,\n",
       "       -0.13638507, -0.30166485, -0.02358697,  0.13855556, -0.09866455])"
      ]
     },
     "execution_count": 144,
     "metadata": {},
     "output_type": "execute_result"
    }
   ],
   "source": [
    "simplified_sentence_vector['tfidf_sentence_vector'][0]"
   ]
  },
  {
   "cell_type": "code",
   "execution_count": 146,
   "metadata": {},
   "outputs": [],
   "source": [
    "for i in range(25):\n",
    "    dim = 'd' + str(i)\n",
    "    simplified_sentence_vector[dim] = simplified_sentence_vector['tfidf_sentence_vector'].map(lambda x: x[i])"
   ]
  },
  {
   "cell_type": "code",
   "execution_count": 147,
   "metadata": {},
   "outputs": [
    {
     "data": {
      "text/html": [
       "<div>\n",
       "<style scoped>\n",
       "    .dataframe tbody tr th:only-of-type {\n",
       "        vertical-align: middle;\n",
       "    }\n",
       "\n",
       "    .dataframe tbody tr th {\n",
       "        vertical-align: top;\n",
       "    }\n",
       "\n",
       "    .dataframe thead th {\n",
       "        text-align: right;\n",
       "    }\n",
       "</style>\n",
       "<table border=\"1\" class=\"dataframe\">\n",
       "  <thead>\n",
       "    <tr style=\"text-align: right;\">\n",
       "      <th></th>\n",
       "      <th>video_id</th>\n",
       "      <th>description</th>\n",
       "      <th>tfidf_sentence_vector</th>\n",
       "      <th>d0</th>\n",
       "      <th>d1</th>\n",
       "      <th>d2</th>\n",
       "      <th>d3</th>\n",
       "      <th>d4</th>\n",
       "      <th>d5</th>\n",
       "      <th>d6</th>\n",
       "      <th>...</th>\n",
       "      <th>d15</th>\n",
       "      <th>d16</th>\n",
       "      <th>d17</th>\n",
       "      <th>d18</th>\n",
       "      <th>d19</th>\n",
       "      <th>d20</th>\n",
       "      <th>d21</th>\n",
       "      <th>d22</th>\n",
       "      <th>d23</th>\n",
       "      <th>d24</th>\n",
       "    </tr>\n",
       "  </thead>\n",
       "  <tbody>\n",
       "    <tr>\n",
       "      <th>0</th>\n",
       "      <td>2kyS6SvSYSE</td>\n",
       "      <td>SHANTELL'S CHANNEL - https://www.youtube.com/s...</td>\n",
       "      <td>[0.2522900312487611, 0.14274832841273197, 0.01...</td>\n",
       "      <td>0.252290</td>\n",
       "      <td>0.142748</td>\n",
       "      <td>0.015721</td>\n",
       "      <td>-0.052640</td>\n",
       "      <td>0.214570</td>\n",
       "      <td>-0.193844</td>\n",
       "      <td>0.032008</td>\n",
       "      <td>...</td>\n",
       "      <td>0.109751</td>\n",
       "      <td>0.058051</td>\n",
       "      <td>-0.018071</td>\n",
       "      <td>-0.188071</td>\n",
       "      <td>-0.115697</td>\n",
       "      <td>-0.136385</td>\n",
       "      <td>-0.301665</td>\n",
       "      <td>-0.023587</td>\n",
       "      <td>0.138556</td>\n",
       "      <td>-0.098665</td>\n",
       "    </tr>\n",
       "    <tr>\n",
       "      <th>1</th>\n",
       "      <td>1ZAPwfrtAFY</td>\n",
       "      <td>One year after the presidential election, John...</td>\n",
       "      <td>[0.043884719653652406, 0.06168710618727217, 0....</td>\n",
       "      <td>0.043885</td>\n",
       "      <td>0.061687</td>\n",
       "      <td>0.023502</td>\n",
       "      <td>-0.059572</td>\n",
       "      <td>0.031956</td>\n",
       "      <td>-0.084432</td>\n",
       "      <td>0.129814</td>\n",
       "      <td>...</td>\n",
       "      <td>0.000108</td>\n",
       "      <td>0.022669</td>\n",
       "      <td>-0.022312</td>\n",
       "      <td>-0.019030</td>\n",
       "      <td>-0.048370</td>\n",
       "      <td>-0.003517</td>\n",
       "      <td>0.005344</td>\n",
       "      <td>-0.021655</td>\n",
       "      <td>-0.058614</td>\n",
       "      <td>-0.037425</td>\n",
       "    </tr>\n",
       "    <tr>\n",
       "      <th>2</th>\n",
       "      <td>5qpjK5DgCt4</td>\n",
       "      <td>WATCH MY PREVIOUS VIDEO ▶ \\n\\nSUBSCRIBE ► http...</td>\n",
       "      <td>[0.6688884301023011, 0.3401608287929632, 0.087...</td>\n",
       "      <td>0.668888</td>\n",
       "      <td>0.340161</td>\n",
       "      <td>0.087881</td>\n",
       "      <td>-0.135057</td>\n",
       "      <td>0.555201</td>\n",
       "      <td>-0.498481</td>\n",
       "      <td>0.023116</td>\n",
       "      <td>...</td>\n",
       "      <td>0.269990</td>\n",
       "      <td>0.120480</td>\n",
       "      <td>-0.037861</td>\n",
       "      <td>-0.571364</td>\n",
       "      <td>-0.283243</td>\n",
       "      <td>-0.336705</td>\n",
       "      <td>-0.778213</td>\n",
       "      <td>-0.034085</td>\n",
       "      <td>0.392478</td>\n",
       "      <td>-0.175167</td>\n",
       "    </tr>\n",
       "    <tr>\n",
       "      <th>3</th>\n",
       "      <td>puqaWrEC7tY</td>\n",
       "      <td>Today we find out if Link is a Nickelback amat...</td>\n",
       "      <td>[0.32887673214936824, 0.18225819338327617, 0.0...</td>\n",
       "      <td>0.328877</td>\n",
       "      <td>0.182258</td>\n",
       "      <td>0.049331</td>\n",
       "      <td>-0.078383</td>\n",
       "      <td>0.291828</td>\n",
       "      <td>-0.263663</td>\n",
       "      <td>0.047655</td>\n",
       "      <td>...</td>\n",
       "      <td>0.147289</td>\n",
       "      <td>0.074247</td>\n",
       "      <td>-0.031204</td>\n",
       "      <td>-0.296603</td>\n",
       "      <td>-0.141606</td>\n",
       "      <td>-0.183524</td>\n",
       "      <td>-0.397195</td>\n",
       "      <td>-0.030332</td>\n",
       "      <td>0.191098</td>\n",
       "      <td>-0.093867</td>\n",
       "    </tr>\n",
       "    <tr>\n",
       "      <th>4</th>\n",
       "      <td>d380meD0W0M</td>\n",
       "      <td>I know it's been a while since we did this sho...</td>\n",
       "      <td>[0.050219841250754, 0.07130838001383584, 0.009...</td>\n",
       "      <td>0.050220</td>\n",
       "      <td>0.071308</td>\n",
       "      <td>0.009488</td>\n",
       "      <td>-0.031563</td>\n",
       "      <td>0.005529</td>\n",
       "      <td>-0.070886</td>\n",
       "      <td>0.154350</td>\n",
       "      <td>...</td>\n",
       "      <td>0.059546</td>\n",
       "      <td>0.052391</td>\n",
       "      <td>-0.053608</td>\n",
       "      <td>-0.060953</td>\n",
       "      <td>-0.048379</td>\n",
       "      <td>-0.008763</td>\n",
       "      <td>-0.046036</td>\n",
       "      <td>-0.013274</td>\n",
       "      <td>0.047571</td>\n",
       "      <td>-0.049866</td>\n",
       "    </tr>\n",
       "  </tbody>\n",
       "</table>\n",
       "<p>5 rows × 28 columns</p>\n",
       "</div>"
      ],
      "text/plain": [
       "      video_id                                        description  \\\n",
       "0  2kyS6SvSYSE  SHANTELL'S CHANNEL - https://www.youtube.com/s...   \n",
       "1  1ZAPwfrtAFY  One year after the presidential election, John...   \n",
       "2  5qpjK5DgCt4  WATCH MY PREVIOUS VIDEO ▶ \\n\\nSUBSCRIBE ► http...   \n",
       "3  puqaWrEC7tY  Today we find out if Link is a Nickelback amat...   \n",
       "4  d380meD0W0M  I know it's been a while since we did this sho...   \n",
       "\n",
       "                               tfidf_sentence_vector        d0        d1  \\\n",
       "0  [0.2522900312487611, 0.14274832841273197, 0.01...  0.252290  0.142748   \n",
       "1  [0.043884719653652406, 0.06168710618727217, 0....  0.043885  0.061687   \n",
       "2  [0.6688884301023011, 0.3401608287929632, 0.087...  0.668888  0.340161   \n",
       "3  [0.32887673214936824, 0.18225819338327617, 0.0...  0.328877  0.182258   \n",
       "4  [0.050219841250754, 0.07130838001383584, 0.009...  0.050220  0.071308   \n",
       "\n",
       "         d2        d3        d4        d5        d6    ...          d15  \\\n",
       "0  0.015721 -0.052640  0.214570 -0.193844  0.032008    ...     0.109751   \n",
       "1  0.023502 -0.059572  0.031956 -0.084432  0.129814    ...     0.000108   \n",
       "2  0.087881 -0.135057  0.555201 -0.498481  0.023116    ...     0.269990   \n",
       "3  0.049331 -0.078383  0.291828 -0.263663  0.047655    ...     0.147289   \n",
       "4  0.009488 -0.031563  0.005529 -0.070886  0.154350    ...     0.059546   \n",
       "\n",
       "        d16       d17       d18       d19       d20       d21       d22  \\\n",
       "0  0.058051 -0.018071 -0.188071 -0.115697 -0.136385 -0.301665 -0.023587   \n",
       "1  0.022669 -0.022312 -0.019030 -0.048370 -0.003517  0.005344 -0.021655   \n",
       "2  0.120480 -0.037861 -0.571364 -0.283243 -0.336705 -0.778213 -0.034085   \n",
       "3  0.074247 -0.031204 -0.296603 -0.141606 -0.183524 -0.397195 -0.030332   \n",
       "4  0.052391 -0.053608 -0.060953 -0.048379 -0.008763 -0.046036 -0.013274   \n",
       "\n",
       "        d23       d24  \n",
       "0  0.138556 -0.098665  \n",
       "1 -0.058614 -0.037425  \n",
       "2  0.392478 -0.175167  \n",
       "3  0.191098 -0.093867  \n",
       "4  0.047571 -0.049866  \n",
       "\n",
       "[5 rows x 28 columns]"
      ]
     },
     "execution_count": 147,
     "metadata": {},
     "output_type": "execute_result"
    }
   ],
   "source": [
    "simplified_sentence_vector.head()"
   ]
  },
  {
   "cell_type": "code",
   "execution_count": 286,
   "metadata": {},
   "outputs": [
    {
     "data": {
      "text/html": [
       "<div>\n",
       "<style scoped>\n",
       "    .dataframe tbody tr th:only-of-type {\n",
       "        vertical-align: middle;\n",
       "    }\n",
       "\n",
       "    .dataframe tbody tr th {\n",
       "        vertical-align: top;\n",
       "    }\n",
       "\n",
       "    .dataframe thead th {\n",
       "        text-align: right;\n",
       "    }\n",
       "</style>\n",
       "<table border=\"1\" class=\"dataframe\">\n",
       "  <thead>\n",
       "    <tr style=\"text-align: right;\">\n",
       "      <th></th>\n",
       "      <th>video_id</th>\n",
       "      <th>description</th>\n",
       "      <th>tfidf_sentence_vector</th>\n",
       "      <th>d0</th>\n",
       "      <th>d1</th>\n",
       "      <th>d2</th>\n",
       "      <th>d3</th>\n",
       "      <th>d4</th>\n",
       "      <th>d5</th>\n",
       "      <th>d6</th>\n",
       "      <th>...</th>\n",
       "      <th>d15</th>\n",
       "      <th>d16</th>\n",
       "      <th>d17</th>\n",
       "      <th>d18</th>\n",
       "      <th>d19</th>\n",
       "      <th>d20</th>\n",
       "      <th>d21</th>\n",
       "      <th>d22</th>\n",
       "      <th>d23</th>\n",
       "      <th>d24</th>\n",
       "    </tr>\n",
       "  </thead>\n",
       "  <tbody>\n",
       "    <tr>\n",
       "      <th>52</th>\n",
       "      <td>069D0NmW39o</td>\n",
       "      <td>A timely distraction can create real trouble f...</td>\n",
       "      <td>[0.028981665780911367, 0.07417111828428, -0.02...</td>\n",
       "      <td>0.028982</td>\n",
       "      <td>0.074171</td>\n",
       "      <td>-0.02666</td>\n",
       "      <td>-0.009949</td>\n",
       "      <td>0.060854</td>\n",
       "      <td>-0.016074</td>\n",
       "      <td>0.094445</td>\n",
       "      <td>...</td>\n",
       "      <td>0.063064</td>\n",
       "      <td>0.035056</td>\n",
       "      <td>0.000352</td>\n",
       "      <td>0.016313</td>\n",
       "      <td>-0.068522</td>\n",
       "      <td>-0.058412</td>\n",
       "      <td>-0.036921</td>\n",
       "      <td>0.001225</td>\n",
       "      <td>-0.012504</td>\n",
       "      <td>-0.064589</td>\n",
       "    </tr>\n",
       "  </tbody>\n",
       "</table>\n",
       "<p>1 rows × 28 columns</p>\n",
       "</div>"
      ],
      "text/plain": [
       "       video_id                                        description  \\\n",
       "52  069D0NmW39o  A timely distraction can create real trouble f...   \n",
       "\n",
       "                                tfidf_sentence_vector        d0        d1  \\\n",
       "52  [0.028981665780911367, 0.07417111828428, -0.02...  0.028982  0.074171   \n",
       "\n",
       "         d2        d3        d4        d5        d6    ...          d15  \\\n",
       "52 -0.02666 -0.009949  0.060854 -0.016074  0.094445    ...     0.063064   \n",
       "\n",
       "         d16       d17       d18       d19       d20       d21       d22  \\\n",
       "52  0.035056  0.000352  0.016313 -0.068522 -0.058412 -0.036921  0.001225   \n",
       "\n",
       "         d23       d24  \n",
       "52 -0.012504 -0.064589  \n",
       "\n",
       "[1 rows x 28 columns]"
      ]
     },
     "execution_count": 286,
     "metadata": {},
     "output_type": "execute_result"
    }
   ],
   "source": [
    "simplified_sentence_vector.loc[simplified_sentence_vector['video_id'] == '069D0NmW39o']"
   ]
  },
  {
   "cell_type": "code",
   "execution_count": 276,
   "metadata": {},
   "outputs": [],
   "source": [
    "simplified_sentence_vector.to_csv('simplified_sentence_vector.csv')"
   ]
  },
  {
   "cell_type": "code",
   "execution_count": null,
   "metadata": {},
   "outputs": [],
   "source": []
  },
  {
   "cell_type": "code",
   "execution_count": null,
   "metadata": {},
   "outputs": [],
   "source": []
  },
  {
   "cell_type": "code",
   "execution_count": null,
   "metadata": {},
   "outputs": [],
   "source": []
  },
  {
   "cell_type": "code",
   "execution_count": null,
   "metadata": {},
   "outputs": [],
   "source": []
  }
 ],
 "metadata": {
  "kernelspec": {
   "display_name": "Python 3",
   "language": "python",
   "name": "python3"
  },
  "language_info": {
   "codemirror_mode": {
    "name": "ipython",
    "version": 3
   },
   "file_extension": ".py",
   "mimetype": "text/x-python",
   "name": "python",
   "nbconvert_exporter": "python",
   "pygments_lexer": "ipython3",
   "version": "3.7.0"
  }
 },
 "nbformat": 4,
 "nbformat_minor": 2
}
