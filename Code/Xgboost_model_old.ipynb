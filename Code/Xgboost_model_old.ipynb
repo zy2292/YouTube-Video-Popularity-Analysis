{
 "cells": [
  {
   "cell_type": "code",
   "execution_count": 14,
   "metadata": {},
   "outputs": [],
   "source": [
    "import pandas as pd\n",
    "import matplotlib.pyplot as plt\n",
    "from sklearn.model_selection import train_test_split\n",
    "from sklearn.metrics import confusion_matrix\n",
    "from sklearn.metrics import roc_auc_score\n",
    "from sklearn.metrics import roc_curve, auc\n",
    "from sklearn.model_selection import GridSearchCV\n",
    "import xgboost as xgb\n",
    "from xgboost.sklearn import XGBClassifier"
   ]
  },
  {
   "cell_type": "code",
   "execution_count": 3,
   "metadata": {},
   "outputs": [
    {
     "data": {
      "text/plain": [
       "(6250, 63)"
      ]
     },
     "execution_count": 3,
     "metadata": {},
     "output_type": "execute_result"
    }
   ],
   "source": [
    "# Load Data\n",
    "data = pd.read_csv(\"first_trend_df_1117.csv\")\n",
    "data.shape"
   ]
  },
  {
   "cell_type": "code",
   "execution_count": 5,
   "metadata": {},
   "outputs": [],
   "source": [
    "X = data\n",
    "X = X.drop(['Unnamed: 0', 'video_id', 'trending_date', 'channel_title','category_id','thumbnail_link','publish_date','app_time','tags2','category'], axis = 1)\n",
    "y = data['app_time'] <= 1 ### 1 for only trending once within 31 days, 0 otherwise"
   ]
  },
  {
   "cell_type": "code",
   "execution_count": 8,
   "metadata": {},
   "outputs": [
    {
     "data": {
      "text/plain": [
       "GridSearchCV(cv=5, error_score='raise',\n",
       "       estimator=XGBClassifier(base_score=0.5, booster='gbtree', colsample_bylevel=1,\n",
       "       colsample_bytree=0.8, early_stopping_round=100, gamma=0,\n",
       "       learning_rate=0.1, max_delta_step=0, max_depth=3,\n",
       "       min_child_weight=1, missing=None, n_estimators=100, n_jobs=1,\n",
       "       nthread=4, objective='binary:logistic', random_state=0, reg_alpha=0,\n",
       "       reg_lambda=1, scale_pos_weight=1, seed=27, silent=True,\n",
       "       subsample=0.8),\n",
       "       fit_params=None, iid=False, n_jobs=1,\n",
       "       param_grid={'n_estimators': [50, 100, 200], 'min_child_weight': [3, 4, 5], 'max_depth': [5, 6, 7], 'gamma': [0.0, 0.5, 1.0, 1.5, 2.0]},\n",
       "       pre_dispatch='2*n_jobs', refit=True, return_train_score='warn',\n",
       "       scoring='roc_auc', verbose=0)"
      ]
     },
     "execution_count": 8,
     "metadata": {},
     "output_type": "execute_result"
    }
   ],
   "source": [
    "# Cross Validation\n",
    "X_train, X_test, y_train, y_test = train_test_split(X, y, test_size=0.2, random_state=123)\n",
    "\n",
    "params = {'n_estimators': [50, 100, 200], 'min_child_weight': [3, 4, 5],\n",
    "         'max_depth':[5, 6, 7], 'gamma': [(0.5*i) for i in range(5)]}\n",
    "\n",
    "gsearch = GridSearchCV(estimator = XGBClassifier(learning_rate =0.1, subsample=0.8, colsample_bytree=0.8, \n",
    "                                                 early_stopping_round=100, objective= 'binary:logistic', \n",
    "                                                nthread=4, scale_pos_weight=1, seed=27), \n",
    "                        param_grid = params, scoring='roc_auc',n_jobs=1,iid=False, cv=5)\n",
    "gsearch.fit(X, y)"
   ]
  },
  {
   "cell_type": "code",
   "execution_count": 9,
   "metadata": {},
   "outputs": [
    {
     "name": "stdout",
     "output_type": "stream",
     "text": [
      "0.7600195096909141\n",
      "{'gamma': 1.0, 'max_depth': 6, 'min_child_weight': 4, 'n_estimators': 50}\n"
     ]
    }
   ],
   "source": [
    "# Best Parameter\n",
    "print(gsearch.best_score_)\n",
    "print(gsearch.best_params_)"
   ]
  },
  {
   "cell_type": "code",
   "execution_count": 10,
   "metadata": {},
   "outputs": [],
   "source": [
    "# Refit\n",
    "xgb = XGBClassifier(learning_rate =0.1, n_estimators=50, max_subsample=0.8, colsample_bytree=0.8,\n",
    "                                                 max_depth=6, min_child_weight=4, early_stopping_round=50,\n",
    "                     objective= 'binary:logistic', gamma=1, nthread=4, scale_pos_weight=1, seed=27)"
   ]
  },
  {
   "cell_type": "code",
   "execution_count": 11,
   "metadata": {},
   "outputs": [
    {
     "data": {
      "text/plain": [
       "XGBClassifier(base_score=0.5, booster='gbtree', colsample_bylevel=1,\n",
       "       colsample_bytree=0.8, early_stopping_round=50, gamma=1,\n",
       "       learning_rate=0.1, max_delta_step=0, max_depth=6, max_subsample=0.8,\n",
       "       min_child_weight=4, missing=None, n_estimators=50, n_jobs=1,\n",
       "       nthread=4, objective='binary:logistic', random_state=0, reg_alpha=0,\n",
       "       reg_lambda=1, scale_pos_weight=1, seed=27, silent=True, subsample=1)"
      ]
     },
     "execution_count": 11,
     "metadata": {},
     "output_type": "execute_result"
    }
   ],
   "source": [
    "xgb.fit(X_train, y_train)"
   ]
  },
  {
   "cell_type": "code",
   "execution_count": 12,
   "metadata": {},
   "outputs": [
    {
     "name": "stdout",
     "output_type": "stream",
     "text": [
      "recall: 0.022388059701492536 \n",
      " precision: 0.2727272727272727 \n",
      " fp_rate: 0.007168458781362007 \n",
      " f1_score: 0.04137931034482758 \n",
      " accuracy: 0.8888\n"
     ]
    },
    {
     "name": "stderr",
     "output_type": "stream",
     "text": [
      "/Users/yuexuanhuang/anaconda3/lib/python3.6/site-packages/sklearn/preprocessing/label.py:151: DeprecationWarning: The truth value of an empty array is ambiguous. Returning False, but in future this will result in an error. Use `array.size > 0` to check that an array is not empty.\n",
      "  if diff:\n"
     ]
    }
   ],
   "source": [
    "# Prediction & Performance\n",
    "y_pred = xgb.predict(X_test)\n",
    "\n",
    "tn, fp, fn, tp = confusion_matrix(y_test, y_pred).ravel()\n",
    "\n",
    "recall = tp / (tp + fn)\n",
    "precision = tp / (tp + fp)\n",
    "fp_rate = fp / (fp + tn)\n",
    "f1_score = 2 * (precision * recall / (precision + recall))\n",
    "accuracy = (tp + tn) / (tp + tn + fp + fn)\n",
    "print(\"recall:\", recall, \"\\n precision:\", precision, \"\\n fp_rate:\",fp_rate, \"\\n f1_score:\",f1_score, \"\\n accuracy:\",accuracy)"
   ]
  },
  {
   "cell_type": "code",
   "execution_count": 15,
   "metadata": {},
   "outputs": [
    {
     "data": {
      "image/png": "[encoded data removed]",
      "text/plain": [
       "<Figure size 432x288 with 1 Axes>"
      ]
     },
     "metadata": {},
     "output_type": "display_data"
    }
   ],
   "source": [
    "fpr_clf, tpr_clf, _ = roc_curve(y_test, y_pred)\n",
    "xb_auc = auc(fpr_clf, tpr_clf)\n",
    "\n",
    "plt.figure(1)\n",
    "plt.plot(fpr_clf, tpr_clf, \n",
    "         label=r'GB ROC (AUC = %0.2f)' % (xb_auc))\n",
    "\n",
    "plt.plot([0, 1], [0, 1], 'k--')\n",
    "plt.xlabel('False positive rate')\n",
    "plt.ylabel('True positive rate')\n",
    "plt.title('ROC curve')\n",
    "plt.legend(loc='best')\n",
    "plt.show()"
   ]
  },
  {
   "cell_type": "code",
   "execution_count": null,
   "metadata": {},
   "outputs": [],
   "source": []
  }
 ],
 "metadata": {
  "kernelspec": {
   "display_name": "Python 3",
   "language": "python",
   "name": "python3"
  },
  "language_info": {
   "codemirror_mode": {
    "name": "ipython",
    "version": 3
   },
   "file_extension": ".py",
   "mimetype": "text/x-python",
   "name": "python",
   "nbconvert_exporter": "python",
   "pygments_lexer": "ipython3",
   "version": "3.6.5"
  }
 },
 "nbformat": 4,
 "nbformat_minor": 2
}
